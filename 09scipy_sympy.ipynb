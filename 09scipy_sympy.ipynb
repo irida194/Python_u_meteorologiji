{
 "cells": [
  {
   "cell_type": "markdown",
   "id": "4c9f54ae-241f-4a58-8328-4bf5a94aeeae",
   "metadata": {},
   "source": [
    "## LAMBDA FUNKCIJA "
   ]
  },
  {
   "cell_type": "markdown",
   "id": "70e14b05-9477-4964-8992-aa739520cacc",
   "metadata": {},
   "source": [
    "Lambda funkcija u Pythonu je anonimna funkcija, tj. funkcija bez imena. Ovo je rezervisana rec u python-u! Ove funkcije se često koriste kada je potrebno definisati kratke funkcije koje se koriste samo jednom. Sintaksa lambda funkcije je: <br>\n",
    "**lambda arguments: expression** <br>\n",
    "Lambda funkcija moze imati proizvoljan broj argumenata ali samo jedan izraz!"
   ]
  },
  {
   "cell_type": "code",
   "execution_count": 149,
   "id": "2fc1d76f-7bd1-42eb-a99e-8a2aef8ac831",
   "metadata": {},
   "outputs": [
    {
     "name": "stdout",
     "output_type": "stream",
     "text": [
      "15 \n",
      " <class 'function'>\n"
     ]
    }
   ],
   "source": [
    "x = lambda a : a + 10\n",
    "print(x(5),'\\n',type(x))"
   ]
  },
  {
   "cell_type": "raw",
   "id": "d9b9f976-8ad2-455a-b413-7eeef22cc983",
   "metadata": {},
   "source": [
    "x je nova vrsta objekta koja reprezentuje funkciju lambda.\n",
    "a je argument anononimne funkcije\n",
    "izraz a+10 je ono sto vraca funkcija kao rezultat."
   ]
  },
  {
   "cell_type": "code",
   "execution_count": 3,
   "id": "6ef6446d-b6df-444c-83eb-6cfae3fb2a4a",
   "metadata": {},
   "outputs": [
    {
     "name": "stdout",
     "output_type": "stream",
     "text": [
      "30\n"
     ]
    }
   ],
   "source": [
    "x = lambda a, b : a * b\n",
    "print(x(5, 6))"
   ]
  },
  {
   "cell_type": "code",
   "execution_count": 4,
   "id": "4d47899a-63b5-4fd9-815c-550a98d83dec",
   "metadata": {},
   "outputs": [
    {
     "name": "stdout",
     "output_type": "stream",
     "text": [
      "30\n"
     ]
    }
   ],
   "source": [
    "def mnozenje(a,b):\n",
    "    return a*b\n",
    "print(mnozenje(5,6))"
   ]
  },
  {
   "cell_type": "code",
   "execution_count": 5,
   "id": "3bbafaf7-d4b4-43ee-9181-9e07aab30b1f",
   "metadata": {},
   "outputs": [
    {
     "name": "stdout",
     "output_type": "stream",
     "text": [
      "<class 'function'> <class 'function'>\n"
     ]
    }
   ],
   "source": [
    "print(type(mnozenje),type(x))"
   ]
  },
  {
   "cell_type": "markdown",
   "id": "9a869783-6afb-47d9-bbb7-ec93c12bd2c1",
   "metadata": {},
   "source": [
    "#### Primer1: Napisati lambda funkciju koja ce izracunati intezitet vetra na osnovu njegovih u i v komponenata."
   ]
  },
  {
   "cell_type": "code",
   "execution_count": null,
   "id": "037c4047-3c0e-4635-9b2d-e705bcf0fb6f",
   "metadata": {},
   "outputs": [],
   "source": []
  },
  {
   "cell_type": "markdown",
   "id": "9621cb47-8451-4ea3-b4bd-393bfb388ffb",
   "metadata": {},
   "source": [
    "### Gde se koristi ova anonimna funkcija? <br>\n",
    "1. U argumentima drugih funkcija.\n",
    "2. Samo zelimo brzi jednokratni racun."
   ]
  },
  {
   "cell_type": "markdown",
   "id": "3e8360e1-5cb3-497b-a54e-d1e171aa52a4",
   "metadata": {},
   "source": [
    "### PRIMERI GDE SE PRAKTICNO KORISTI LAMBDA FUNKCIJA"
   ]
  },
  {
   "cell_type": "markdown",
   "id": "9b4fd26d-dca3-4c75-81c8-1893b5908629",
   "metadata": {},
   "source": [
    "### 1. MAP() funkcija"
   ]
  },
  {
   "cell_type": "markdown",
   "id": "742d313d-ab58-4166-9638-1d0bbef47df5",
   "metadata": {},
   "source": [
    "#### Duzi nacin bez lambda funkcije, uz koriscenje map funkcije <br>\n",
    "map(funtion, seq) i vraca objekat koji je potrebno konvertovati u listu! <br>\n",
    "\n",
    "Funkcija map() vraća map objekat (koji je iterator) rezultata nakon primene zadate funkcije na svaki element datog iterable-a (liste, tupla, itd.)"
   ]
  },
  {
   "cell_type": "code",
   "execution_count": 154,
   "id": "89aa3a76-0385-4186-8e81-c056ab886bad",
   "metadata": {},
   "outputs": [
    {
     "name": "stdout",
     "output_type": "stream",
     "text": [
      "[4, 3, 5, 0.5, 1, 0.5]\n"
     ]
    }
   ],
   "source": [
    "def nozero(n):\n",
    "    if n==0:\n",
    "        return 0.5\n",
    "    else:\n",
    "        return n\n",
    "precipitation=[4,3,5,0,1,0]\n",
    "result=map(nozero,precipitation)\n",
    "print(list(result))\n"
   ]
  },
  {
   "cell_type": "markdown",
   "id": "c9fe89d0-277a-4e6b-8de5-103c6b017e05",
   "metadata": {},
   "source": [
    "#### 1. Kraci nacin uz koriscenje lambda fukcije"
   ]
  },
  {
   "cell_type": "code",
   "execution_count": 17,
   "id": "d1588559-d20c-4bcf-9324-2db770759513",
   "metadata": {},
   "outputs": [
    {
     "name": "stdout",
     "output_type": "stream",
     "text": [
      "[4, 3, 5, 0.5, 1, 0.5]\n"
     ]
    }
   ],
   "source": [
    "precipitation = [4, 3, 5, 0, 1, 0]\n",
    "result = map(lambda x: 0.5 if x == 0 else x, precipitation)\n",
    "print(list(result))\n"
   ]
  },
  {
   "cell_type": "markdown",
   "id": "0640248e-5a46-4842-a835-b8505fbaa173",
   "metadata": {},
   "source": [
    "#### Dodatak: Ako lambda ima dva argumenta u map funkciji, onda mora da se proslede dve liste iste duzine! "
   ]
  },
  {
   "cell_type": "code",
   "execution_count": 12,
   "id": "fc5b7140-7aae-4ded-8cc3-1ec1aae13b85",
   "metadata": {},
   "outputs": [
    {
     "data": {
      "text/plain": [
       "[10, 18, 28]"
      ]
     },
     "execution_count": 12,
     "metadata": {},
     "output_type": "execute_result"
    }
   ],
   "source": [
    "list(map(lambda x,y : x*y,[2,3,4],[5,6,7]))"
   ]
  },
  {
   "cell_type": "markdown",
   "id": "216c4794-f24e-414a-87a8-41ea36893c61",
   "metadata": {},
   "source": [
    "#### Primer2: Koristeci map funkciju, pretvoriti listu sa vrednostima [m/s] u [km/h]. "
   ]
  },
  {
   "cell_type": "code",
   "execution_count": null,
   "id": "48eb172b-4090-4f7a-895f-958540597145",
   "metadata": {},
   "outputs": [],
   "source": []
  },
  {
   "cell_type": "markdown",
   "id": "79cdb83a-ca20-475c-a66e-cdbe02202abd",
   "metadata": {},
   "source": [
    "### 2. FILTER() funkcija"
   ]
  },
  {
   "cell_type": "code",
   "execution_count": 13,
   "id": "65bec157-e3e2-4281-a108-73af7eb3ea02",
   "metadata": {},
   "outputs": [
    {
     "name": "stdout",
     "output_type": "stream",
     "text": [
      "0\n",
      "1\n",
      "0\n",
      "1\n"
     ]
    }
   ],
   "source": [
    "f= lambda x: x % 2\n",
    "\n",
    "print (f(2))\n",
    "print (f(3))\n",
    "print (f(4))\n",
    "print (f(5))"
   ]
  },
  {
   "cell_type": "code",
   "execution_count": 14,
   "id": "1b85fac9-035e-42c7-afe9-0fe3ec039b51",
   "metadata": {},
   "outputs": [
    {
     "name": "stdout",
     "output_type": "stream",
     "text": [
      "True\n",
      "False\n",
      "True\n",
      "False\n"
     ]
    }
   ],
   "source": [
    "f= lambda x: x % 2 == 0\n",
    "\n",
    "\n",
    "print (f(2))\n",
    "print (f(3))\n",
    "print (f(4))\n",
    "print (f(5))"
   ]
  },
  {
   "cell_type": "code",
   "execution_count": 156,
   "id": "d59c5af5-003f-44fb-94fb-e52297978ede",
   "metadata": {},
   "outputs": [
    {
     "name": "stdout",
     "output_type": "stream",
     "text": [
      "[0, 1, 2, 3, 4, 5, 6, 7, 8, 9, 10, 11, 12, 13, 14, 15, 16, 17, 18, 19]\n"
     ]
    },
    {
     "data": {
      "text/plain": [
       "[0, 2, 4, 6, 8, 10, 12, 14, 16, 18]"
      ]
     },
     "execution_count": 156,
     "metadata": {},
     "output_type": "execute_result"
    }
   ],
   "source": [
    "f= lambda x: x % 2 == 0 \n",
    "mylist = list(range(20))\n",
    "print(mylist)\n",
    "list(filter(f, mylist)) "
   ]
  },
  {
   "cell_type": "markdown",
   "id": "43748090-1499-4b77-91a9-f116c23215ba",
   "metadata": {},
   "source": [
    "#### 2. Koriscenje filter funkcije - duzi i kraci nacin"
   ]
  },
  {
   "cell_type": "code",
   "execution_count": 23,
   "id": "2f4e79dd-2a31-447d-b960-a387080bcf9b",
   "metadata": {},
   "outputs": [
    {
     "name": "stdout",
     "output_type": "stream",
     "text": [
      "[25, 26, 29, 30, 27, 25]\n"
     ]
    }
   ],
   "source": [
    "def summer_days(n):\n",
    "    if n>=25:\n",
    "        return n\n",
    "max_t=[16,19,21,25,26,29,30,27,24,25,23]\n",
    "x=filter(summer_days,max_t)\n",
    "print(list(x))"
   ]
  },
  {
   "cell_type": "code",
   "execution_count": 20,
   "id": "3be9cab1-2817-4948-9cdc-045d0b151e0e",
   "metadata": {},
   "outputs": [
    {
     "name": "stdout",
     "output_type": "stream",
     "text": [
      "[25, 26, 29, 30, 27, 25]\n"
     ]
    }
   ],
   "source": [
    "max_t=[16,19,21,25,26,29,30,27,24,25,23]\n",
    "summer_days=filter(lambda x: x>=25,max_t)\n",
    "print(list(summer_days))\n",
    "        "
   ]
  },
  {
   "cell_type": "markdown",
   "id": "c1bec13b-5cc0-40bf-8f77-e823c2613ead",
   "metadata": {},
   "source": [
    "#### Vezba 1: \n",
    "Iz liste sa spiskom godina, pronaci prestupnu godinu pomocu lambda funkcije i stampati na ekran. <br>\n",
    "years=[1994,1995,1996,1997,1998,1999,2000,2001,2002,2003,2004,2005] <br>\n",
    "uslov -> (x % 4 == 0 and x % 100 != 0) or (x % 400 == 0)"
   ]
  },
  {
   "cell_type": "code",
   "execution_count": null,
   "id": "443e7f68-a5fb-45e6-b742-d462f69fb936",
   "metadata": {},
   "outputs": [],
   "source": []
  },
  {
   "cell_type": "markdown",
   "id": "f5f266ec-ae13-47c6-9222-7b1f01d1c317",
   "metadata": {},
   "source": [
    "# Sympy biblioteka"
   ]
  },
  {
   "cell_type": "markdown",
   "id": "1ff6087b-7a01-4cc2-875a-1449ba24610b",
   "metadata": {},
   "source": [
    "Sympy je Python biblioteka za simboličku matematiku (SYMbolic mathematics) i lici na softver Mathematica. To znači da sympy omogućava manipulaciju simbolima i izračunavanje simboličkih izraza, umesto numeričkih vrednosti. Ova biblioteka pruža moćne alatke za algebraičke izraze, diferencijaciju, integraciju, rešavanje jednačina, rad s matričnim izrazima itd."
   ]
  },
  {
   "cell_type": "code",
   "execution_count": 165,
   "id": "94b44a00-67e0-41a1-ac4e-97e011b22172",
   "metadata": {},
   "outputs": [
    {
     "name": "stdout",
     "output_type": "stream",
     "text": [
      "pi\n",
      "3.14159265358979\n",
      "oo\n",
      "True\n"
     ]
    }
   ],
   "source": [
    "import sympy as sp\n",
    "\n",
    "print(sp.pi)\n",
    "print(sp.pi.evalf())\n",
    "print(sp.oo) #beskonacno\n",
    "print(sp.oo > 9999)"
   ]
  },
  {
   "cell_type": "code",
   "execution_count": 161,
   "id": "86f2e5e7-a4f1-4a41-9bce-c56caeda6a6b",
   "metadata": {},
   "outputs": [
    {
     "name": "stdout",
     "output_type": "stream",
     "text": [
      "1/2\n"
     ]
    },
    {
     "data": {
      "text/latex": [
       "$\\displaystyle 1$"
      ],
      "text/plain": [
       "1"
      ]
     },
     "execution_count": 161,
     "metadata": {},
     "output_type": "execute_result"
    }
   ],
   "source": [
    "a=sp.Rational(1,2)\n",
    "print(a)\n",
    "a*2"
   ]
  },
  {
   "cell_type": "code",
   "execution_count": 162,
   "id": "61eba41d-ba71-48ea-b0f7-10ecf84c3c8e",
   "metadata": {},
   "outputs": [
    {
     "name": "stdout",
     "output_type": "stream",
     "text": [
      "x**3 + 3*x**2*y + 3*x*y**2 + y**3\n",
      "y + 1\n"
     ]
    }
   ],
   "source": [
    "#simboli\n",
    "x,y=sp.symbols('x y')\n",
    "e1=sp.expand((x+y)**3)\n",
    "print(e1)\n",
    "e2=sp.simplify((x+x*y)/x)\n",
    "print(e2)"
   ]
  },
  {
   "cell_type": "code",
   "execution_count": 163,
   "id": "eae2fd65-376f-4f59-a69d-0485dbb4a3c9",
   "metadata": {},
   "outputs": [
    {
     "name": "stdout",
     "output_type": "stream",
     "text": [
      "tan(x) \n",
      " 1\n",
      "x**6 + 6*x**5*y + 15*x**4*y**2 + 20*x**3*y**3 + 15*x**2*y**4 + 6*x*y**5 + y**6 \n",
      " 1\n"
     ]
    }
   ],
   "source": [
    "e3=sp.simplify(sp.sin(x)/sp.cos(x))\n",
    "print(e3,'\\n',e3.subs({x:sp.pi/4}))\n",
    "e4=sp.expand((x+y)**6)\n",
    "print(e4,'\\n',e4.subs({x:1,y:0}))"
   ]
  },
  {
   "cell_type": "code",
   "execution_count": 50,
   "id": "a8e99bfa-5945-4e4c-a0bb-eee0dc1eadb1",
   "metadata": {},
   "outputs": [],
   "source": [
    "#LIMESI"
   ]
  },
  {
   "cell_type": "code",
   "execution_count": 46,
   "id": "e83d0ff9-5519-47ee-afc8-7ff63e4d3b15",
   "metadata": {},
   "outputs": [
    {
     "data": {
      "text/latex": [
       "$\\displaystyle 1$"
      ],
      "text/plain": [
       "1"
      ]
     },
     "execution_count": 46,
     "metadata": {},
     "output_type": "execute_result"
    }
   ],
   "source": [
    "sp.limit(sp.sin(x)/x,x,0) # kada x tezi 0"
   ]
  },
  {
   "cell_type": "code",
   "execution_count": 49,
   "id": "1bd9c8a6-7564-4643-ae7b-9ce0b5033927",
   "metadata": {},
   "outputs": [
    {
     "data": {
      "text/latex": [
       "$\\displaystyle 0$"
      ],
      "text/plain": [
       "0"
      ]
     },
     "execution_count": 49,
     "metadata": {},
     "output_type": "execute_result"
    }
   ],
   "source": [
    "sp.limit(1/x,x,sp.oo) # limes od 1/x kada x tezi oo"
   ]
  },
  {
   "cell_type": "code",
   "execution_count": 70,
   "id": "fd8fcb4b-f842-465c-ac96-b0b9f99452d7",
   "metadata": {},
   "outputs": [],
   "source": [
    "#izvodi"
   ]
  },
  {
   "cell_type": "code",
   "execution_count": 167,
   "id": "199da610-5c02-449e-b611-774195c88cba",
   "metadata": {},
   "outputs": [
    {
     "name": "stdout",
     "output_type": "stream",
     "text": [
      "2*cos(2*x)\n",
      "tan(x)**2 + 1 \n",
      " cos(x)**(-2)\n",
      "1/x\n"
     ]
    }
   ],
   "source": [
    "print(sp.diff(sp.sin(2*x),x))\n",
    "print(sp.diff(sp.tan(x),x),'\\n',sp.simplify(sp.diff(sp.tan(x),x)))\n",
    "print(sp.diff(sp.log(x),x))"
   ]
  },
  {
   "cell_type": "code",
   "execution_count": 62,
   "id": "5a27cdda-0958-4d8c-8f58-6ebad6850167",
   "metadata": {},
   "outputs": [
    {
     "name": "stdout",
     "output_type": "stream",
     "text": [
      "2*cos(2*x) -4*sin(2*x)\n"
     ]
    }
   ],
   "source": [
    "#Izvodi viseg reda\n",
    "a1=sp.diff(sp.sin(2*x),x,1) #prvi izvod\n",
    "a2=sp.diff(sp.sin(2*x),x,2) #drugi izvod\n",
    "print(a1,a2)"
   ]
  },
  {
   "cell_type": "code",
   "execution_count": 52,
   "id": "cd1d4adb-8c05-4eae-967c-9014b423fe8f",
   "metadata": {},
   "outputs": [],
   "source": [
    "#INTEGRALI"
   ]
  },
  {
   "cell_type": "code",
   "execution_count": 64,
   "id": "b67c8cfb-1e21-4486-8690-f72ae1e87c06",
   "metadata": {},
   "outputs": [
    {
     "data": {
      "text/latex": [
       "$\\displaystyle x^{6}$"
      ],
      "text/plain": [
       "x**6"
      ]
     },
     "execution_count": 64,
     "metadata": {},
     "output_type": "execute_result"
    }
   ],
   "source": [
    "sp.integrate(6*x**5,x)"
   ]
  },
  {
   "cell_type": "code",
   "execution_count": 68,
   "id": "c22d948f-219c-482c-97a1-e3212e1a92e9",
   "metadata": {},
   "outputs": [
    {
     "data": {
      "text/latex": [
       "$\\displaystyle 1$"
      ],
      "text/plain": [
       "1"
      ]
     },
     "execution_count": 68,
     "metadata": {},
     "output_type": "execute_result"
    }
   ],
   "source": [
    "sp.integrate(sp.exp(-x), (x, 0, sp.oo))"
   ]
  },
  {
   "cell_type": "code",
   "execution_count": 50,
   "id": "f2cb5330-ad0d-4073-b243-472e81bee6cf",
   "metadata": {},
   "outputs": [
    {
     "name": "stdout",
     "output_type": "stream",
     "text": [
      "<class 'sympy.core.symbol.Symbol'> x\n"
     ]
    },
    {
     "data": {
      "text/latex": [
       "$\\displaystyle 3250$"
      ],
      "text/plain": [
       "3250"
      ]
     },
     "execution_count": 50,
     "metadata": {},
     "output_type": "execute_result"
    }
   ],
   "source": [
    "import sympy as sp\n",
    "x=sp.symbols(\"x\")\n",
    "print(type(x),x)\n",
    "result=sp.integrate(12*x**3-9*x**2+2,(x,1,6))\n",
    "result"
   ]
  },
  {
   "cell_type": "code",
   "execution_count": 38,
   "id": "465e9db8-54ce-48eb-8201-ee80792b87e0",
   "metadata": {},
   "outputs": [
    {
     "name": "stdout",
     "output_type": "stream",
     "text": [
      "1 - cos(1)\n",
      "0.459697694131860\n"
     ]
    }
   ],
   "source": [
    "print(integrate(sin(x),(x,0,1)))\n",
    "print(integrate(sin(x),(x,0,1)).evalf())\n"
   ]
  },
  {
   "cell_type": "code",
   "execution_count": 169,
   "id": "9e57b8eb-f764-46df-a327-7bed3d1484b8",
   "metadata": {},
   "outputs": [
    {
     "name": "stdout",
     "output_type": "stream",
     "text": [
      "0.540302305868140\n"
     ]
    },
    {
     "data": {
      "text/latex": [
       "$\\displaystyle -1.0$"
      ],
      "text/plain": [
       "-1.00000000000000"
      ]
     },
     "execution_count": 169,
     "metadata": {},
     "output_type": "execute_result"
    }
   ],
   "source": [
    "print(sp.cos(1).evalf())\n",
    "sp.cos(sp.pi).evalf()"
   ]
  },
  {
   "cell_type": "code",
   "execution_count": 51,
   "id": "b48717f2-862f-44ab-8b67-cf8dcda31728",
   "metadata": {},
   "outputs": [
    {
     "data": {
      "text/latex": [
       "$\\displaystyle 1$"
      ],
      "text/plain": [
       "1"
      ]
     },
     "execution_count": 51,
     "metadata": {},
     "output_type": "execute_result"
    }
   ],
   "source": [
    "sp.integrate(sin(x),(x,0,sp.pi/2))"
   ]
  },
  {
   "cell_type": "code",
   "execution_count": 71,
   "id": "63e7af89-bf31-4772-9fb2-c16cc34b6fba",
   "metadata": {},
   "outputs": [],
   "source": [
    "#diferencijalne jednacine"
   ]
  },
  {
   "cell_type": "code",
   "execution_count": 175,
   "id": "33848333-6dac-49ac-a00e-5968757bdb77",
   "metadata": {},
   "outputs": [
    {
     "data": {
      "text/latex": [
       "$\\displaystyle f{\\left(x \\right)} = C_{1} \\sin{\\left(x \\right)} + C_{2} \\cos{\\left(x \\right)}$"
      ],
      "text/plain": [
       "Eq(f(x), C1*sin(x) + C2*cos(x))"
      ]
     },
     "execution_count": 175,
     "metadata": {},
     "output_type": "execute_result"
    }
   ],
   "source": [
    "f, g = sp.symbols('f g', cls=sp.Function)\n",
    "f(x).diff(x,2)+f(x)\n",
    "sp.dsolve(f(x).diff(x, 2) + f(x), f(x))"
   ]
  },
  {
   "cell_type": "code",
   "execution_count": 89,
   "id": "b63921be-2a86-406d-8f57-2aae9c4a2f6c",
   "metadata": {},
   "outputs": [],
   "source": [
    "#resenje Bernulijeve jednacine"
   ]
  },
  {
   "cell_type": "code",
   "execution_count": 95,
   "id": "90c42aef-c969-4503-ad4a-c17db1675357",
   "metadata": {},
   "outputs": [
    {
     "data": {
      "text/plain": [
       "[Eq(f(x), -sqrt(2)*sqrt(1/(C1*exp(2*x**2) + 2*x**2 + 1))),\n",
       " Eq(f(x), sqrt(2)*sqrt(1/(C1*exp(2*x**2) + 2*x**2 + 1)))]"
      ]
     },
     "execution_count": 95,
     "metadata": {},
     "output_type": "execute_result"
    }
   ],
   "source": [
    "sp.dsolve(f(x).diff(x,1)+2*x*f(x)-2*x**3*f(x)**3,f(x))"
   ]
  },
  {
   "cell_type": "code",
   "execution_count": 69,
   "id": "21f43891-67cd-42ba-963c-3e6b4cf7b3ad",
   "metadata": {},
   "outputs": [],
   "source": [
    "#PRAKTICAN PRIMER"
   ]
  },
  {
   "cell_type": "code",
   "execution_count": 176,
   "id": "fd2d4cac-4775-4756-8032-e0667e359ae6",
   "metadata": {},
   "outputs": [
    {
     "name": "stdout",
     "output_type": "stream",
     "text": [
      "Izraz za brzinu vetra:\n",
      "v1*log(z/z0)/log(z1/z0)\n",
      "\n",
      "Prvi izvod po h:\n",
      "v1/(z*log(z1/z0))\n"
     ]
    }
   ],
   "source": [
    "import sympy as sp\n",
    "\n",
    "# Definisanje simbola\n",
    "z, v1, z0, z1 = sp.symbols('z v1 z0 z1 ')\n",
    "# Definisanje izraza za brzinu vetra\n",
    "v = v1 * sp.ln(z / z0)/sp.ln(z1/z0)\n",
    "\n",
    "# Izračunavanje prvog izvoda\n",
    "dv_dz = sp.diff(v, z)\n",
    "\n",
    "# Ispis rezultata\n",
    "print(\"Izraz za brzinu vetra:\")\n",
    "print(v)\n",
    "print(\"\\nPrvi izvod po h:\")\n",
    "print(dv_dz)\n"
   ]
  },
  {
   "cell_type": "code",
   "execution_count": 178,
   "id": "dccf401d-ee7a-476a-a522-af2d14898b27",
   "metadata": {},
   "outputs": [
    {
     "data": {
      "text/latex": [
       "$\\displaystyle 3.33808200695334 \\log{\\left(2.0 z \\right)}$"
      ],
      "text/plain": [
       "3.33808200695334*log(2.0*z)"
      ]
     },
     "execution_count": 178,
     "metadata": {},
     "output_type": "execute_result"
    }
   ],
   "source": [
    "v.subs({v1:10,z0:0.5,z1:10})"
   ]
  },
  {
   "cell_type": "markdown",
   "id": "42f682be-e754-4975-9fa1-70a6cc5f1bde",
   "metadata": {},
   "source": [
    "#### Crtanje grafika <br>\n",
    "**lambdify** olakšava pretvaranje simboličkih izraza u lambda funkcije koje se mogu koristiti s numpy nizovima prilikom crtanja grafika. Koristi se kada zelimo brzo da dobijemo numericke vrednosti."
   ]
  },
  {
   "cell_type": "code",
   "execution_count": 100,
   "id": "774844c0-1b87-46af-9964-6319b9b453f7",
   "metadata": {},
   "outputs": [
    {
     "data": {
      "text/plain": [
       "11"
      ]
     },
     "execution_count": 100,
     "metadata": {},
     "output_type": "execute_result"
    }
   ],
   "source": [
    "#primer\n",
    "x,z=sp.symbols('x z')\n",
    "result=x+z\n",
    "a=sp.lambdify([x,z],result) #lista argumenata za funkciju result [x,y]\n",
    "a(5,6)"
   ]
  },
  {
   "cell_type": "code",
   "execution_count": 107,
   "id": "f969bf79-b13a-4ffe-bc67-954d180213c0",
   "metadata": {},
   "outputs": [
    {
     "name": "stdout",
     "output_type": "stream",
     "text": [
      "[ 0.  1.  2.  3.  4.  5.  6.  7.  8.  9. 10.]\n"
     ]
    },
    {
     "data": {
      "text/plain": [
       "array([    0.,  3600.,  7200., 10800., 14400., 18000., 21600., 25200.,\n",
       "       28800., 32400., 36000.])"
      ]
     },
     "execution_count": 107,
     "metadata": {},
     "output_type": "execute_result"
    }
   ],
   "source": [
    "import numpy as np\n",
    "#pretvaranje sata u sekunde\n",
    "sati=np.linspace(0,10,11)\n",
    "print(sati)\n",
    "sek=sp.lambdify(x,x*3600)\n",
    "sek(sati)\n"
   ]
  },
  {
   "cell_type": "code",
   "execution_count": 66,
   "id": "e108c482-28b3-442b-9f73-77a664312204",
   "metadata": {},
   "outputs": [
    {
     "data": {
      "text/latex": [
       "$\\displaystyle \\frac{10 \\log{\\left(\\frac{z}{z_{0}} \\right)}}{\\log{\\left(\\frac{z_{1}}{z_{0}} \\right)}}$"
      ],
      "text/plain": [
       "10*log(z/z0)/log(z1/z0)"
      ]
     },
     "execution_count": 66,
     "metadata": {},
     "output_type": "execute_result"
    }
   ],
   "source": [
    "v.subs({v1:10})"
   ]
  },
  {
   "cell_type": "code",
   "execution_count": 182,
   "id": "07ac219f-fa9d-4271-a37f-e2693f0f62dc",
   "metadata": {},
   "outputs": [
    {
     "name": "stdout",
     "output_type": "stream",
     "text": [
      "3.33808200695334*log(2.0*z)\n",
      "<class 'numpy.ndarray'>\n"
     ]
    },
    {
     "name": "stderr",
     "output_type": "stream",
     "text": [
      "<lambdifygenerated-18>:2: RuntimeWarning: divide by zero encountered in log\n",
      "  return 3.33808200695334*log(2.0*z)\n",
      "<lambdifygenerated-19>:2: RuntimeWarning: divide by zero encountered in divide\n",
      "  return 3.33808200695334/z\n"
     ]
    },
    {
     "data": {
      "image/png": "[encoded data removed]",
      "text/plain": [
       "<Figure size 640x480 with 2 Axes>"
      ]
     },
     "metadata": {},
     "output_type": "display_data"
    }
   ],
   "source": [
    "import sympy as sp\n",
    "import matplotlib.pyplot as plt\n",
    "import numpy as np\n",
    "\n",
    "z, v1, z0, z1 = sp.symbols('z v1 z0 z1 ')\n",
    "v = v1 * sp.ln(z / z0)/sp.ln(z1/z0)\n",
    "dv_dz = sp.diff(v, z)\n",
    "\n",
    "print(v.subs({v1: 10, z0: 0.5, z1: 10}))\n",
    "# Pretvaranje sympy funkcija u funkcije koje se mogu koristiti za numeričko izračunavanje\n",
    "v_func = sp.lambdify(z, v.subs({v1: 10, z0: 0.5, z1: 10}), 'numpy')\n",
    "dv_dz_func = sp.lambdify(z, dv_dz.subs({v1: 10, z0: 0.5, z1: 10}), 'numpy')\n",
    "\n",
    "# Generisanje vrednosti za h\n",
    "z_values = np.linspace(0, 1000, 100)\n",
    "#print(h_values)\n",
    "\n",
    "# Izračunavanje vrednosti funkcije i njenog prvog izvoda\n",
    "v_values = v_func(z_values)\n",
    "print(type(v_values))\n",
    "dv_dz_values = dv_dz_func(z_values)\n",
    "\n",
    "# Crtanje grafika\n",
    "#plt.figure(figsize=(10, 6))\n",
    "\n",
    "# Prikaz funkcije\n",
    "plt.subplot(2, 1, 1)\n",
    "plt.plot(z_values, v_values, label='v(z) = v1 * ln(z / z0)/ln(z1/z0)')\n",
    "plt.title('Funkcija v(z)')\n",
    "plt.xlabel('Visina (z)')\n",
    "plt.ylabel('Brzina vetra (v)')\n",
    "plt.legend()\n",
    "\n",
    "# Prikaz prvog izvoda\n",
    "plt.subplot(2, 1, 2)\n",
    "plt.plot(z_values, dv_dz_values, label=\"dv/dz\")\n",
    "plt.title('Prvi izvod funkcije v(h)')\n",
    "plt.xlabel('Visina (h)')\n",
    "plt.ylabel('Prvi izvod')\n",
    "plt.legend()\n",
    "\n",
    "plt.tight_layout()\n",
    "plt.show()\n"
   ]
  },
  {
   "cell_type": "markdown",
   "id": "f907aa46-52ca-4f48-a254-79a4b4319dbe",
   "metadata": {},
   "source": [
    "Funkcija **plt.subplot(2, 1, 1)** u biblioteci Matplotlib se koristi za kreiranje podgrafika u okviru jednog glavnog grafika. Argumenti 2, 1, 1 znače da se glavni grafik podeli u dvije vrste (2 reda), jednu kolonu (1 kolona), i da se trenutni podgraf postavi na prvo mesto (indeks 1)."
   ]
  },
  {
   "cell_type": "markdown",
   "id": "fdd8e077-0a74-4761-9924-02cfb52979ef",
   "metadata": {},
   "source": [
    "**plt.tight_layout()** je funkcija u biblioteci Matplotlib koja automatski prilagođava raspored elemenata na grafiku tako da se izbegnu preklapanja. Ova funkcija je korisna kada imate više podgrafika ili drugih elemenata na grafiku, a želite osigurati da se elementi pravilno raspoređuju unutar okvira grafika."
   ]
  },
  {
   "cell_type": "markdown",
   "id": "5a2a1b37-4037-4020-b547-4b668789747b",
   "metadata": {},
   "source": [
    "### SCIPY i diferencijalne jednacine"
   ]
  },
  {
   "cell_type": "markdown",
   "id": "39f32211-011b-49e0-a86b-7d976e95528b",
   "metadata": {},
   "source": [
    "Resavanje obicnih diferencijalnih jednacina sa pocetnim uslovom [**scipy.integrate.solve_ivp**](https://docs.scipy.org/doc/scipy/reference/generated/scipy.integrate.solve_ivp.html)"
   ]
  },
  {
   "cell_type": "markdown",
   "id": "28f8af97-c48c-44e1-9599-24a5376670c4",
   "metadata": {},
   "source": [
    "scipy.integrate.solve_ivp(**fun**, t_span, y0, method='RK45', t_eval=None, dense_output=False, events=None, vectorized=False, args=None, **options) <br>\n",
    "\n",
    "Fun: Right-hand side of the system: the time derivative of the state y at time t. Zato mora da unutar lambda funkcije bude t i y! <br>\n",
    "The calling signature is fun(t, y), where t is a scalar and y is an ndarray with len(y) = len(y0). fun must return an array of the same shape as y."
   ]
  },
  {
   "cell_type": "code",
   "execution_count": 184,
   "id": "8a24f9e4-a30c-4612-b7b7-5fc5b1b06437",
   "metadata": {},
   "outputs": [
    {
     "name": "stdout",
     "output_type": "stream",
     "text": [
      "  message: The solver successfully reached the end of the integration interval.\n",
      "  success: True\n",
      "   status: 0\n",
      "        t: [ 0.000e+00  1.585e-01  1.744e+00  5.000e+00]\n",
      "        y: [[ 1.000e+00  9.843e-01  8.400e-01  6.065e-01]]\n",
      "      sol: None\n",
      " t_events: None\n",
      " y_events: None\n",
      "     nfev: 20\n",
      "     njev: 0\n",
      "      nlu: 0\n",
      "[0.    0.159 1.744 5.   ] \n",
      " [[1.    0.984 0.84  0.607]]\n"
     ]
    },
    {
     "data": {
      "image/png": "[encoded data removed]",
      "text/plain": [
       "<Figure size 640x480 with 1 Axes>"
      ]
     },
     "metadata": {},
     "output_type": "display_data"
    }
   ],
   "source": [
    "import numpy as np\n",
    "import matplotlib.pyplot as plt\n",
    "from scipy.integrate import solve_ivp\n",
    "\n",
    "# Definišemo funkciju koja predstavlja diferencijalnu jednačinu\n",
    "def model(t, y, k):\n",
    "    dydt = -k * y\n",
    "    return dydt\n",
    "\n",
    "# Postavljamo početni uslov\n",
    "y0 = [1.0]\n",
    "\n",
    "# Definišemo opseg vremena\n",
    "t_span = (0,5)\n",
    "\n",
    "# Definišemo vrednost parametra k\n",
    "k_value = 0.1\n",
    "\n",
    "# Pozivamo solve_ivp da reši diferencijalnu jednačinu\n",
    "sol = solve_ivp(fun=lambda t, y: model(t, y, k_value), t_span=t_span, y0=y0)\n",
    "print(sol)\n",
    "print(sol.t,'\\n',sol.y)\n",
    "\n",
    "# Prikazujemo rezultate\n",
    "plt.plot(sol.t, sol.y[0], label='y(t)')\n",
    "plt.xlabel('Vreme')\n",
    "plt.ylabel('y')\n",
    "plt.legend()\n",
    "plt.show()\n"
   ]
  },
  {
   "cell_type": "markdown",
   "id": "93f70bfb-60cf-48c4-8016-deddb855376e",
   "metadata": {},
   "source": [
    "## Kretanje pod dejstvom Koriolisove sile "
   ]
  },
  {
   "cell_type": "code",
   "execution_count": 189,
   "id": "2574b05a-2b12-4aab-9ccc-0ce2d1377636",
   "metadata": {},
   "outputs": [
    {
     "name": "stdin",
     "output_type": "stream",
     "text": [
      "Specify an initial latitude in degrees:  45\n",
      "Specify a zonal wind in m/s:  10\n",
      "Specify a meridional wind in m/s:  10\n",
      "Specify integration time in days:  3\n"
     ]
    },
    {
     "name": "stdout",
     "output_type": "stream",
     "text": [
      "[[ 10.     10.521  11.013 ...   7.681   7.019   6.336]\n",
      " [ 10.      9.45    8.873 ... -11.87  -12.273 -12.64 ]\n",
      " [  0.     -0.001  -0.002 ...   0.005   0.007   0.008]\n",
      " [  0.785   0.786   0.787 ...   0.809   0.809   0.81 ]]\n"
     ]
    },
    {
     "data": {
      "image/png": "[encoded data removed]",
      "text/plain": [
       "<Figure size 640x480 with 1 Axes>"
      ]
     },
     "metadata": {},
     "output_type": "display_data"
    }
   ],
   "source": [
    "import numpy as np\n",
    "import matplotlib.pyplot as plt\n",
    "from scipy.integrate import solve_ivp\n",
    "\n",
    "def xprim1(t, y, rad, omega):\n",
    "    u, v, lon, lat = y\n",
    "    r = rad\n",
    "    w = omega\n",
    "\n",
    "    dudt = 2 * w * v * np.sin(lat)\n",
    "    dvdt = -2 * w * u * np.sin(lat)\n",
    "    dlondt = -v / (r * np.cos(lat))\n",
    "    dlatdt = u * np.sin(lat) / r\n",
    "\n",
    "    return dudt, dvdt, dlondt, dlatdt\n",
    "\n",
    "\n",
    "# Pocetni uslovi\n",
    "init_lat = float(input('Specify an initial latitude in degrees: '))\n",
    "u0 = float(input('Specify a zonal wind in m/s: '))\n",
    "v0 = float(input('Specify a meridional wind in m/s: '))\n",
    "rad = 6.37e6\n",
    "omega = 7.292e-5\n",
    "lat0 = np.radians(init_lat)\n",
    "\n",
    "runtime = float(input('Specify integration time in days: '))\n",
    "time = runtime * 24. * 3600.\n",
    "t_eval=np.linspace(0,time,500)\n",
    "\n",
    "# Resavanje diferencijalnih jednacina\n",
    "sol1 = solve_ivp(fun=lambda t, y: xprim1(t, y, rad, omega),\n",
    "                t_span=(0,time),\n",
    "                y0=[u0, v0, 0, lat0],\n",
    "                t_eval=t_eval)\n",
    "\n",
    "print(sol1.y)\n",
    "long1=sol1.y[2]*180/np.pi #imala sam 4 return iz funcije! pretvaranje iz radijana u stepene\n",
    "lat1=sol1.y[3]*180/np.pi\n",
    "\n",
    "plt.figure()\n",
    "plt.plot(long1, lat1)\n",
    "plt.scatter(long1[0], lat1[0], marker='D', color='black')\n",
    "plt.xlabel('longitude')\n",
    "plt.ylabel('latitude')\n",
    "#plt.title('Trajectory with curvature terms')\n",
    "plt.show()\n",
    "\n"
   ]
  },
  {
   "cell_type": "markdown",
   "id": "a4461e69-3c7e-4211-b83f-9cdfd6f09f6e",
   "metadata": {},
   "source": [
    "## Vezba2: U pojednostavljenom modelu, razmotrimo primer promene temperature tela koje se hladi ili greje u okolini. Ovaj proces može se modelirati jednačinom ravnoteže toplote koja je data izrazom (Njutnov zakon hladjenja): dTdt = -k * (T - T_okoline). <br>\n",
    "k je faktor proporcionalnosti [1/s]. Njegova reciprocna vrednost zove se vremenska konstanta hladjenja. Ona je jednaka vremenu potrebnom da pocetna razlika temperatura opadne e puta\n",
    "pri konstantnoj ambijentalnoj temperaturi [s]. (resenje je Trel=A*exp(-kt)), gde je A konstanta integracije koja se odredjuje na osnovu pocetnih uslova, Trel=T-T_okoline. <br>\n",
    "\n",
    "Početni uslovi <br>\n",
    "T_pocetna = 100.0 C       # početna temperatura tela <br>\n",
    "k = 1/60                # faktor proporcionalnosti <br>\n",
    "T_okoline = 25.0  C      # temperatura okoline <br>\n",
    "plt.title('Modeliranje promene temperature tela u homogenom i stacionarnom gravitacionom polju okruzenim beskonacnim gasom') <br>\n",
    "\n",
    "Na grafiku predstaviti na x osi vreme [s] (u opsegu od 0 do 180s - ukupno 3 minuta), a na y osi temperaturu. Takodje obeleziti na grafiku crvenom tackom vrednost temperature za t=60s i pored tacke napisati pomocu plt.text() metode vrednost temperature. Posto je izlaz iz solve_ivp() metoda numpy niz za vreme i temperature, koristiti metod maskiranja da pronadjete vrednost temperature za t=60s. <br>\n"
   ]
  },
  {
   "attachments": {
    "5dfc0341-7ce9-49d0-a47a-d7599ac1d28d.png": {
     "image/png": "[encoded data removed]"
    }
   },
   "cell_type": "markdown",
   "id": "6ebda5d1-44c7-43d6-8a16-c4cc53c80b9a",
   "metadata": {},
   "source": [
    "![image.png](attachment:5dfc0341-7ce9-49d0-a47a-d7599ac1d28d.png)"
   ]
  },
  {
   "cell_type": "code",
   "execution_count": null,
   "id": "569da67f-f9ac-4c51-ae4c-fd0b560e6152",
   "metadata": {},
   "outputs": [],
   "source": [
    "a=n"
   ]
  },
  {
   "cell_type": "markdown",
   "id": "8a655986-f1b0-4357-8653-c5b5713a1919",
   "metadata": {},
   "source": [
    "## Vezba3: Napisati python program koji ce imati funkciju koja racuna pritisak prema barometarskoj visinskoj formuli u standardnoj atmosferi. Argument funkcije je visina. Zatim nacrtati promenu pritiska (mb) sa visinom (km) u troposferi. Koristiti opciju *plt.grid()*.\n",
    "\n",
    "    ro0=1.2 #kg/m3\n",
    "    p0=101325 #Pa\n",
    "    g=9.81 #m/s2\n",
    "    p=p0*np.exp(-(ro0*g*z)/p0)"
   ]
  },
  {
   "cell_type": "code",
   "execution_count": null,
   "id": "2cd79bdd-8f70-4cf2-98ed-8d712e217fbb",
   "metadata": {},
   "outputs": [],
   "source": [
    "\n",
    "    "
   ]
  },
  {
   "cell_type": "markdown",
   "id": "147c2dea-b2dd-4c66-bbdd-32d1e2c905db",
   "metadata": {},
   "source": [
    "## Vezba4: Napisati python program koji ce imati funkciju koja racuna potencijalnu temperaturu u troposferi u standarnoj atmosferi. Argumenti funkcije su temperatura na izobarskim povrsima (T) i pritisak (P). Pritisak se menja prema barometarskoj visinskoj formuli kao u prethodnom zadatku. Temperatura na povrsini tla je 288K a vertikalni temperaturni gradijent je 6.5C/km. Zatim nacrtati na odvojenim graficima kako se menja potencijalna temperatura/temperatura sa visinom. Na x osi predstaviti potencijalnu temperaturu/temperaturu u K a na y osi visinu u km. \n",
    "\n",
    "theta=T*(P0/P)**(R/Cp)\n",
    "R=287.05 J/(kg·K)\n",
    "Cp=1004 J/(kg·K)\n",
    "p0=1000mb\n",
    "\n"
   ]
  },
  {
   "cell_type": "code",
   "execution_count": null,
   "id": "13b40a30-350b-4bc8-bd9f-9b95ef29eaa4",
   "metadata": {},
   "outputs": [],
   "source": []
  }
 ],
 "metadata": {
  "kernelspec": {
   "display_name": "Python 3 (ipykernel)",
   "language": "python",
   "name": "python3"
  },
  "language_info": {
   "codemirror_mode": {
    "name": "ipython",
    "version": 3
   },
   "file_extension": ".py",
   "mimetype": "text/x-python",
   "name": "python",
   "nbconvert_exporter": "python",
   "pygments_lexer": "ipython3",
   "version": "3.9.12"
  }
 },
 "nbformat": 4,
 "nbformat_minor": 5
}
