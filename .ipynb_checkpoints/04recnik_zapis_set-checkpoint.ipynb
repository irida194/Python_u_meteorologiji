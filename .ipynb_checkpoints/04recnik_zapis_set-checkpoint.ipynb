{
 "cells": [
  {
   "cell_type": "markdown",
   "id": "49010dfd-fb04-475f-a0b8-83c49a949a02",
   "metadata": {
    "tags": []
   },
   "source": [
    "# Recnici i struktuiranje podataka"
   ]
  },
  {
   "cell_type": "markdown",
   "id": "32521a73-89fc-4930-ad5b-15c28082d44a",
   "metadata": {},
   "source": [
    "Kao i lista, *recnik* je kolekcija mnogih vrednosti. Medjutim, za razliku od indeksa za liste, indeksi za recnike mogu da koriste vise razlicitih vrsta podataka, a ne samo cele brojeve. Indeksi za recnike se nazivaju *kljucevi*, a kljuc sa svojim povezanim vrednostima naziva se *par vrednosti kljuca*. <br>\n",
    "U kodu recnik se kuca sa viticastim zagradama. \n"
   ]
  },
  {
   "cell_type": "code",
   "execution_count": 2,
   "id": "2678ed59-fc16-426f-9502-b6d8fb6d4aac",
   "metadata": {
    "tags": []
   },
   "outputs": [],
   "source": [
    "myCat = {'size' : 'fat', 'color' : 'gray', 'disposition' : 'loud'}"
   ]
  },
  {
   "cell_type": "code",
   "execution_count": 5,
   "id": "75c02298-6ab9-48a4-b3db-18c1bd6f1e00",
   "metadata": {},
   "outputs": [
    {
     "name": "stdout",
     "output_type": "stream",
     "text": [
      "My cat has gray fur.\n"
     ]
    }
   ],
   "source": [
    "myCat['size']\n",
    "print('My cat has '+ myCat['color'] + ' fur.')"
   ]
  },
  {
   "cell_type": "markdown",
   "id": "eb6f19bb-f439-45d1-8a74-87e24c1bc786",
   "metadata": {},
   "source": [
    "Recnici i dalje mogu da koriste vrednosti celih brojeva kao kljuceve, isto kao sto i liste koriste cele brojeve za indekse, ali kljucevi ne treba da zapocinju sa 0, vec mogu da budu bilo koji broj."
   ]
  },
  {
   "cell_type": "code",
   "execution_count": 7,
   "id": "b84e757c-919c-4aa9-be51-7784a63d512b",
   "metadata": {},
   "outputs": [
    {
     "data": {
      "text/plain": [
       "'Luggage Combination'"
      ]
     },
     "execution_count": 7,
     "metadata": {},
     "output_type": "execute_result"
    }
   ],
   "source": [
    "spam={ 12345:'Luggage Combination', 42:'The Answer'}\n",
    "spam[12345]"
   ]
  },
  {
   "cell_type": "markdown",
   "id": "18878d26-418e-4508-89e3-149a6a8a162c",
   "metadata": {
    "tags": []
   },
   "source": [
    "### Recnik nasuprot Listi"
   ]
  },
  {
   "cell_type": "markdown",
   "id": "d11cc32a-d7a7-4840-9271-6a738969ee9a",
   "metadata": {},
   "source": [
    "Za razliku od liste, stavke u recnicima nisu uredjene. Prva stavka u listi pod nazivom spam bice spam[0]. Medjutim, u recniku ne postoji prva stavka. Iako je redosled stavki vezan za odredjivanje da li su dve liste iste, nije vazno u kom redosledu su uneti parovi vrednosti kljuca u recniku. "
   ]
  },
  {
   "cell_type": "code",
   "execution_count": 1,
   "id": "07a9346a-9c91-4ec2-9452-2995f7207f08",
   "metadata": {},
   "outputs": [
    {
     "name": "stdout",
     "output_type": "stream",
     "text": [
      "False\n",
      "True\n"
     ]
    }
   ],
   "source": [
    "x = ['cats', 'dogs','moose']\n",
    "y = ['dogs','moose','cats']\n",
    "print(x == y)\n",
    "xr={'name':'Irida', 'surname':'Lazic','age': 25}\n",
    "yr ={'surname':'Lazic','name':'Irida','age': 25}\n",
    "print(xr == yr)"
   ]
  },
  {
   "cell_type": "markdown",
   "id": "d30fbfac-3494-4b97-a738-f2233387c94d",
   "metadata": {},
   "source": [
    "Posto recnici nisu uredjeni, ne mogu da budu iseceni kao liste. Takodje, pokusaj da pristupite kljuci koji ne postoji u recniku ce rezultirati porukom o gresci *KeyError*, slicno kao i *IndexError* za gresku liste ,,izvan opsega\"."
   ]
  },
  {
   "cell_type": "code",
   "execution_count": 7,
   "id": "610db030-e82e-4308-b76a-5fb61ae9e2e8",
   "metadata": {
    "tags": []
   },
   "outputs": [
    {
     "ename": "KeyError",
     "evalue": "'job'",
     "output_type": "error",
     "traceback": [
      "\u001b[0;31m---------------------------------------------------------------------------\u001b[0m",
      "\u001b[0;31mKeyError\u001b[0m                                  Traceback (most recent call last)",
      "Cell \u001b[0;32mIn[7], line 2\u001b[0m\n\u001b[1;32m      1\u001b[0m eggs\u001b[38;5;241m=\u001b[39m{\u001b[38;5;124m'\u001b[39m\u001b[38;5;124mname\u001b[39m\u001b[38;5;124m'\u001b[39m:\u001b[38;5;124m'\u001b[39m\u001b[38;5;124mIrida\u001b[39m\u001b[38;5;124m'\u001b[39m, \u001b[38;5;124m'\u001b[39m\u001b[38;5;124msurname\u001b[39m\u001b[38;5;124m'\u001b[39m:\u001b[38;5;124m'\u001b[39m\u001b[38;5;124mLazic\u001b[39m\u001b[38;5;124m'\u001b[39m,\u001b[38;5;124m'\u001b[39m\u001b[38;5;124mage\u001b[39m\u001b[38;5;124m'\u001b[39m: \u001b[38;5;241m25\u001b[39m}\n\u001b[0;32m----> 2\u001b[0m \u001b[43meggs\u001b[49m\u001b[43m[\u001b[49m\u001b[38;5;124;43m'\u001b[39;49m\u001b[38;5;124;43mjob\u001b[39;49m\u001b[38;5;124;43m'\u001b[39;49m\u001b[43m]\u001b[49m\n",
      "\u001b[0;31mKeyError\u001b[0m: 'job'"
     ]
    }
   ],
   "source": [
    "eggs={'name':'Irida', 'surname':'Lazic','age': 25}\n",
    "eggs['job']"
   ]
  },
  {
   "cell_type": "markdown",
   "id": "39ca3394-1d27-4129-9ea0-f3087ea30d96",
   "metadata": {},
   "source": [
    "Iako recnici nisu uredjeni, cinjenica da mozete da imate proizvoljne vrednosti za kljuceve omogucava da organizujete podatke na veoma pogodne nacine."
   ]
  },
  {
   "cell_type": "code",
   "execution_count": 14,
   "id": "887db9ea-6e7f-44cb-8b48-7d87853631fa",
   "metadata": {},
   "outputs": [
    {
     "name": "stdout",
     "output_type": "stream",
     "text": [
      "Enter a name: (blank to quit)\n"
     ]
    },
    {
     "name": "stdin",
     "output_type": "stream",
     "text": [
      " Irida\n"
     ]
    },
    {
     "name": "stdout",
     "output_type": "stream",
     "text": [
      "jul 27 is the birthday of Irida\n",
      "Enter a name: (blank to quit)\n"
     ]
    },
    {
     "name": "stdin",
     "output_type": "stream",
     "text": [
      " Dejan\n"
     ]
    },
    {
     "name": "stdout",
     "output_type": "stream",
     "text": [
      "Oktobar 8 is the birthday of Dejan\n",
      "Enter a name: (blank to quit)\n"
     ]
    },
    {
     "name": "stdin",
     "output_type": "stream",
     "text": [
      " Sandra\n"
     ]
    },
    {
     "name": "stdout",
     "output_type": "stream",
     "text": [
      "I do not have birthday information for Sandra\n",
      "WHat is their birthday?\n"
     ]
    },
    {
     "name": "stdin",
     "output_type": "stream",
     "text": [
      " Jun 17\n"
     ]
    },
    {
     "name": "stdout",
     "output_type": "stream",
     "text": [
      "Birtday database updated\n",
      "Enter a name: (blank to quit)\n"
     ]
    },
    {
     "name": "stdin",
     "output_type": "stream",
     "text": [
      " Sandra\n"
     ]
    },
    {
     "name": "stdout",
     "output_type": "stream",
     "text": [
      "Jun 17 is the birthday of Sandra\n",
      "Enter a name: (blank to quit)\n"
     ]
    },
    {
     "name": "stdin",
     "output_type": "stream",
     "text": [
      " \n"
     ]
    }
   ],
   "source": [
    "birthdays={'Irida': 'jul 27', 'Ana':'April 6','Jovana':'Mart 25', 'Dejan':'Oktobar 8'}\n",
    "while True:\n",
    "    print('Enter a name: (blank to quit)')\n",
    "    name=input()\n",
    "    if name == '':\n",
    "        break\n",
    "    if name in birthdays:\n",
    "        print(birthdays[name] + ' is the birthday of '+ name)\n",
    "    else:\n",
    "        print('I do not have birthday information for '+name)\n",
    "        print('WHat is their birthday?')\n",
    "        bday=input()\n",
    "        birthdays[name]=bday\n",
    "        print('Birtday database updated')"
   ]
  },
  {
   "cell_type": "markdown",
   "id": "508a96fb-3009-41cc-8e1b-b7dac7cd0758",
   "metadata": {},
   "source": [
    "#### Metodi keys(), values(), i items()"
   ]
  },
  {
   "cell_type": "markdown",
   "id": "f435a896-dc67-4d9e-810c-e64ba1739d2b",
   "metadata": {},
   "source": [
    "Postoje tri metoda recnika koji ce vratiti vrednosti slicne listama iz kljuca recnika, iz vrednosti, ili i iz kljuca i iz vrednosti: *keys()*, *values()*, i *items()*. Vracene vrednosti od ovih metoda nisu prave liste: one ne mogu da budu modifikovane i nemaju metod *append()*. Medjutim, ove vrste podataka (dict_keys, dict_values i dict_items) mogu da se upotrebe u petljama for. "
   ]
  },
  {
   "cell_type": "code",
   "execution_count": 15,
   "id": "0f2a1e24-dbf6-43c7-8329-fed8038cad87",
   "metadata": {},
   "outputs": [
    {
     "name": "stdout",
     "output_type": "stream",
     "text": [
      "red\n",
      "42\n"
     ]
    }
   ],
   "source": [
    "spam={'color':'red','age':42}\n",
    "for v in spam.values():\n",
    "    print(v)"
   ]
  },
  {
   "cell_type": "code",
   "execution_count": 16,
   "id": "39cad956-5889-4fd6-a6d5-3df05418663c",
   "metadata": {},
   "outputs": [
    {
     "name": "stdout",
     "output_type": "stream",
     "text": [
      "color\n",
      "age\n"
     ]
    }
   ],
   "source": [
    "for k in spam.keys():\n",
    "    print(k)"
   ]
  },
  {
   "cell_type": "code",
   "execution_count": 17,
   "id": "b8f2caf6-3016-4521-8a8e-a672db0f552c",
   "metadata": {},
   "outputs": [
    {
     "name": "stdout",
     "output_type": "stream",
     "text": [
      "('color', 'red')\n",
      "('age', 42)\n"
     ]
    }
   ],
   "source": [
    "for i in spam.items():\n",
    "    print(i)"
   ]
  },
  {
   "cell_type": "markdown",
   "id": "7a9719b2-863f-493e-a596-68d3720f4b23",
   "metadata": {},
   "source": [
    "Ako zelite pravu listu od jednog od metoda, prosledite vracenu vrednost slicnu listi funkciji list(). "
   ]
  },
  {
   "cell_type": "code",
   "execution_count": 20,
   "id": "e1225e65-e325-4100-8704-27f2ab241a10",
   "metadata": {},
   "outputs": [
    {
     "name": "stdout",
     "output_type": "stream",
     "text": [
      "dict_keys(['color', 'age'])\n"
     ]
    },
    {
     "data": {
      "text/plain": [
       "['color', 'age']"
      ]
     },
     "execution_count": 20,
     "metadata": {},
     "output_type": "execute_result"
    }
   ],
   "source": [
    "spam={'color':'red','age':42}\n",
    "print(spam.keys())\n",
    "list(spam.keys())"
   ]
  },
  {
   "cell_type": "markdown",
   "id": "054d8479-ed32-46d7-9910-2470332f11fa",
   "metadata": {},
   "source": [
    "**Trik visestruke dodele**"
   ]
  },
  {
   "cell_type": "code",
   "execution_count": 21,
   "id": "0c734d48-de6b-4952-9a70-2d9f8471a7d7",
   "metadata": {},
   "outputs": [
    {
     "name": "stdout",
     "output_type": "stream",
     "text": [
      "Key: color Value: red\n",
      "Key: age Value: 42\n"
     ]
    }
   ],
   "source": [
    "spam={'color':'red','age':42}\n",
    "for k, v in spam.items():\n",
    "    print('Key: ' +  k + ' Value: '+str(v))"
   ]
  },
  {
   "cell_type": "markdown",
   "id": "bcdb1f84-6983-4439-8222-0e0d0dba5f74",
   "metadata": {},
   "source": [
    "**Provera da li kljuc ili vrednost postoje u recniku**\n"
   ]
  },
  {
   "cell_type": "code",
   "execution_count": 27,
   "id": "b8516744-90af-441b-90fe-b149e6cbcea2",
   "metadata": {},
   "outputs": [
    {
     "name": "stdout",
     "output_type": "stream",
     "text": [
      "True\n",
      "True\n",
      "True\n"
     ]
    }
   ],
   "source": [
    "spam={'name':'Irida', 'age': 25}\n",
    "print('name' in spam.keys())\n",
    "print('Irida' in spam.values())\n",
    "print('name' in spam) # moze i bez metoda spam.keys()\n",
    "# moze se koristiti not in"
   ]
  },
  {
   "cell_type": "markdown",
   "id": "b2fbbb6b-b6c3-4c1d-8029-8a20f1e19c0d",
   "metadata": {},
   "source": [
    "**Metod get()**"
   ]
  },
  {
   "cell_type": "markdown",
   "id": "fe470b4d-c883-40a0-9294-15d4ddfd9ad0",
   "metadata": {},
   "source": [
    "Veoma je dosadno proveravati da li kljuc postoji u recniku pre nego sto se pristupi vrednosti tog kljuca. Srecom, recnici imaju metod get() koji uzima dva argumenta: kljuc vrednosti koji vraca i rezervnu vrednost koju vraca ako odredjeni kljuc ne postoji. "
   ]
  },
  {
   "cell_type": "code",
   "execution_count": 31,
   "id": "21835597-ffb7-4a13-a4b0-320099c61359",
   "metadata": {},
   "outputs": [
    {
     "name": "stdout",
     "output_type": "stream",
     "text": [
      "I am bringing 2 cups.\n",
      "I am bringing 0 eggs.\n"
     ]
    }
   ],
   "source": [
    "picnicItems={'apples':5,'cups':2}\n",
    "print('I am bringing '+str(picnicItems.get('cups',0)) + ' cups.')\n",
    "print('I am bringing '+str(picnicItems.get('eggs',0)) + ' eggs.')"
   ]
  },
  {
   "cell_type": "markdown",
   "id": "320d613a-2ccc-42f7-bc2d-8d45042c5224",
   "metadata": {},
   "source": [
    "Ukratko, glavna razlika između get() i setdefault() je u tome što get() samo vraca vrednost za određeni ključ i ne menja rečnik, dok setdefault() može postaviti vrednost za ključ ako ključ ne postoji u rečniku, a zatim tu vrednost vraca."
   ]
  },
  {
   "cell_type": "markdown",
   "id": "cfb74845-3ba1-4a82-8f9e-176f2580c4e0",
   "metadata": {},
   "source": [
    "**Metod setdefault()**"
   ]
  },
  {
   "cell_type": "markdown",
   "id": "7a4eebc4-c6cc-4625-ace7-98a6e0d3e2fb",
   "metadata": {},
   "source": [
    "Cesto ce biti potrebno da podesite vrednost u recnik za odredjeni kljuc samo ako taj kljuc vec nema vrednost."
   ]
  },
  {
   "cell_type": "code",
   "execution_count": 10,
   "id": "cd51464e-a72d-4185-a145-c49c9cc61c9e",
   "metadata": {},
   "outputs": [
    {
     "name": "stdout",
     "output_type": "stream",
     "text": [
      "{'name': 'Irida', 'age': 25, 'color': 'yellow'}\n"
     ]
    }
   ],
   "source": [
    "spam = {'name': 'Irida', 'age':25}\n",
    "if 'color' not in spam:\n",
    "    spam['color']='yellow'\n",
    "print(spam)"
   ]
  },
  {
   "cell_type": "markdown",
   "id": "86dbe1fc-93cb-4f27-9399-2ad8b5e1bf17",
   "metadata": {},
   "source": [
    "Metod setdefault() pruza nacin da podesite vrednost u recnik za odredjeni kljuc u jednoj liniji koda. Prvi argument koji je prosledjen kodu je kljuc koji se proverava, a drugi argument je vrednost za podesavanje tog kljuca AKO ON NE POSTOJI. Ako kljuc postoji, metod setdefault() vraca vrednost kljuca."
   ]
  },
  {
   "cell_type": "code",
   "execution_count": 11,
   "id": "972943ef-8d6e-484c-8c35-5236e3159b8c",
   "metadata": {},
   "outputs": [
    {
     "data": {
      "text/plain": [
       "{'name': 'Irida', 'age': 25, 'color': 'yellow'}"
      ]
     },
     "execution_count": 11,
     "metadata": {},
     "output_type": "execute_result"
    }
   ],
   "source": [
    "spam = {'name': 'Irida', 'age':25}\n",
    "spam.setdefault('color','yellow')\n",
    "spam"
   ]
  },
  {
   "cell_type": "code",
   "execution_count": 13,
   "id": "40f8ef56-5296-42aa-a24f-e07bf1736ca3",
   "metadata": {},
   "outputs": [
    {
     "data": {
      "text/plain": [
       "{'name': 'Irida', 'age': 25, 'color': 'yellow'}"
      ]
     },
     "execution_count": 13,
     "metadata": {},
     "output_type": "execute_result"
    }
   ],
   "source": [
    "spam.setdefault('color','black')\n",
    "spam"
   ]
  },
  {
   "cell_type": "markdown",
   "id": "5a466d88-dd4a-4ab1-955d-b0d7eb04070f",
   "metadata": {},
   "source": [
    "### Vezba 1: Prebrojavanje svakog pojedinacnog karaktera u stringu. Prebrojati koliko puta sve svaki karakter u stringu pojavio. String je: message='Bila je guzva na salteru ali sam uspeo da stignem na red' a rezultat treba da bude {'B': 1, 'i': 3, 'l': 3, 'a': 8, ' ': 11, 'j': 1, 'e': 5, 'g': 2, 'u': 3, 'z': 1, 'v': 1, 'n': 3, 's': 4, 't': 2, 'r': 2, 'm': 2, 'p': 1, 'o': 1, 'd': 2}"
   ]
  },
  {
   "cell_type": "code",
   "execution_count": 21,
   "id": "0e699396-1304-42e0-a4dd-6ff0163b6ebc",
   "metadata": {},
   "outputs": [],
   "source": [
    "message='Bila je guzva na salteru ali sam uspeo da stignem na red'"
   ]
  },
  {
   "cell_type": "markdown",
   "id": "f92b04f2-65bf-4f96-9227-7f83371d1aba",
   "metadata": {},
   "source": [
    "### Lepo stampanje"
   ]
  },
  {
   "cell_type": "markdown",
   "id": "f189e90f-d92e-45eb-8985-62d3641aac53",
   "metadata": {},
   "source": [
    "Ako importujete *pprint* modul u programe, treba da pristupite funkcijama pprint() i pformat() koje ce lepo odstampati vrednosti recnika. Funkcija pprint.pprint() je posebno korisna kada sam recnik sadrzi ugnezdjene liste ili recnike."
   ]
  },
  {
   "cell_type": "code",
   "execution_count": null,
   "id": "7180b290-17d0-496a-8de9-2482c55fb74b",
   "metadata": {},
   "outputs": [],
   "source": []
  },
  {
   "cell_type": "markdown",
   "id": "f2938a85-91a3-4072-aa49-ccb658c6bc3a",
   "metadata": {},
   "source": [
    "### Praktican primer - Tabla za Iks-oks igricu"
   ]
  },
  {
   "attachments": {
    "9a1848fb-84c3-4991-bb58-ef174120746c.png": {
     "image/png": "[encoded data removed]"
    }
   },
   "cell_type": "markdown",
   "id": "40db69c5-9b34-4604-99a7-09fe62af08f3",
   "metadata": {},
   "source": [
    "![image.png](attachment:9a1848fb-84c3-4991-bb58-ef174120746c.png)"
   ]
  },
  {
   "cell_type": "code",
   "execution_count": 1,
   "id": "6ca1ece5-2cd6-4d88-964c-93a5388d0aaf",
   "metadata": {},
   "outputs": [
    {
     "name": "stdout",
     "output_type": "stream",
     "text": [
      " | | \n",
      "-+-+-\n",
      " | | \n",
      "-+-+-\n",
      " | | \n",
      "Turn for X. Move on which space?\n"
     ]
    },
    {
     "name": "stdin",
     "output_type": "stream",
     "text": [
      " mid-M\n"
     ]
    },
    {
     "name": "stdout",
     "output_type": "stream",
     "text": [
      " | | \n",
      "-+-+-\n",
      " |X| \n",
      "-+-+-\n",
      " | | \n",
      "Turn for O. Move on which space?\n"
     ]
    },
    {
     "name": "stdin",
     "output_type": "stream",
     "text": [
      " low-L\n"
     ]
    },
    {
     "name": "stdout",
     "output_type": "stream",
     "text": [
      " | | \n",
      "-+-+-\n",
      " |X| \n",
      "-+-+-\n",
      "O| | \n",
      "Turn for X. Move on which space?\n"
     ]
    },
    {
     "name": "stdin",
     "output_type": "stream",
     "text": [
      " low-M\n"
     ]
    },
    {
     "name": "stdout",
     "output_type": "stream",
     "text": [
      " | | \n",
      "-+-+-\n",
      " |X| \n",
      "-+-+-\n",
      "O|X| \n",
      "Turn for O. Move on which space?\n"
     ]
    },
    {
     "name": "stdin",
     "output_type": "stream",
     "text": [
      " mid-L\n"
     ]
    },
    {
     "name": "stdout",
     "output_type": "stream",
     "text": [
      " | | \n",
      "-+-+-\n",
      "O|X| \n",
      "-+-+-\n",
      "O|X| \n",
      "Turn for X. Move on which space?\n"
     ]
    },
    {
     "name": "stdin",
     "output_type": "stream",
     "text": [
      " top-M\n"
     ]
    },
    {
     "name": "stdout",
     "output_type": "stream",
     "text": [
      " |X| \n",
      "-+-+-\n",
      "O|X| \n",
      "-+-+-\n",
      "O|X| \n",
      "Player X wins!\n",
      " |X| \n",
      "-+-+-\n",
      "O|X| \n",
      "-+-+-\n",
      "O|X| \n"
     ]
    }
   ],
   "source": [
    "theBoard={'top-L': ' ', 'top-M':' ','top-R':' ',\n",
    "         'mid-L':' ','mid-M':' ','mid-R':' ',\n",
    "         'low-L':' ','low-M':' ','low-R':' '}\n",
    "\n",
    "def printBoard(board):\n",
    "    print(board['top-L']+'|'+board['top-M']+'|'+board['top-R'])\n",
    "    print('-+-+-')\n",
    "    print(board['mid-L']+'|'+board['mid-M']+'|'+board['mid-R'])\n",
    "    print('-+-+-')\n",
    "    print(board['low-L']+'|'+board['low-M']+'|'+board['low-R'])\n",
    "\n",
    "#printBoard(theBoard)\n",
    "\n",
    "#3. deo proveravanje ima li pobednika\n",
    "\n",
    "def checkWinner(board):\n",
    "    # Check rows, columns, and diagonals for a winner\n",
    "    for player in ['X', 'O']:\n",
    "        if (board['top-L'] == board['top-M'] == board['top-R'] == player or\n",
    "            board['mid-L'] == board['mid-M'] == board['mid-R'] == player or\n",
    "            board['low-L'] == board['low-M'] == board['low-R'] == player or\n",
    "            board['top-L'] == board['mid-L'] == board['low-L'] == player or\n",
    "            board['top-M'] == board['mid-M'] == board['low-M'] == player or\n",
    "            board['top-R'] == board['mid-R'] == board['low-R'] == player or\n",
    "            board['top-L'] == board['mid-M'] == board['low-R'] == player or\n",
    "            board['top-R'] == board['mid-M'] == board['low-L'] == player):\n",
    "            return player\n",
    "    return None\n",
    "\n",
    "# 2. deo \n",
    "turn = 'X'\n",
    "for i in range(9):\n",
    "    printBoard(theBoard)\n",
    "    print('Turn for '+ turn + '. Move on which space?')\n",
    "    move=input()\n",
    "    theBoard[move]=turn\n",
    "    \n",
    "    # Check for a winner\n",
    "    winner = checkWinner(theBoard)\n",
    "    if winner:\n",
    "        printBoard(theBoard)\n",
    "        print('Player ' + winner + ' wins!')\n",
    "        break\n",
    "        \n",
    "    if turn == 'X':\n",
    "        turn = 'O'\n",
    "    else:\n",
    "        turn='X'\n",
    "        \n",
    "printBoard(theBoard)\n",
    "        "
   ]
  },
  {
   "cell_type": "markdown",
   "id": "400d14a9-c851-4c04-900e-27da6f1f89c1",
   "metadata": {},
   "source": [
    "### Ugnezdjeni recnici i liste"
   ]
  },
  {
   "cell_type": "markdown",
   "id": "d4dc627e-1da9-4c1d-b8fe-9cee53a5d9fa",
   "metadata": {},
   "source": [
    "Kada modelujete komplikovanije stvari, mozda ce vam biti potrebni recnici i liste koje sadrze druge recnike i liste. Liste su korisne za cuvanje uredjenih serija vrednosti, a recnici za povezivanje kljuceva sa vrednostima. Na primer, sledi program koji koristi recnik koji sadrzi druge recnike da bi se videlo ko sta donosi na piknik."
   ]
  },
  {
   "cell_type": "code",
   "execution_count": 55,
   "id": "102461b3-fc2f-44ff-a4c3-ea96d6a4c62e",
   "metadata": {},
   "outputs": [
    {
     "name": "stdout",
     "output_type": "stream",
     "text": [
      "Number of things being brought:\n",
      "- Hleb      3\n",
      "- Kiflice      15\n",
      "- Kolaci      12\n",
      "- Sendvici      4\n"
     ]
    }
   ],
   "source": [
    "allGuests={'Ana':{'hleb':1,'kiflice':10},\n",
    "          'Jovana':{'kiflice':5,'kolaci':10},\n",
    "          'Dejana':{'hleb':2,'sendvici':4,'kolaci':2}}\n",
    "\n",
    "def totalBrought(guests,item):\n",
    "    numBrought=0\n",
    "    for k,v in guests.items():\n",
    "        numBrought = numBrought+v.get(item,0)\n",
    "    return numBrought\n",
    "print('Number of things being brought:')\n",
    "print('- Hleb      '+str(totalBrought(allGuests,'hleb')))\n",
    "print('- Kiflice      '+str(totalBrought(allGuests,'kiflice')))\n",
    "print('- Kolaci      '+str(totalBrought(allGuests,'kolaci')))\n",
    "print('- Sendvici      '+str(totalBrought(allGuests,'sendvici')))\n"
   ]
  },
  {
   "cell_type": "markdown",
   "id": "a8ac3135-a054-46c1-af42-6f921e6cc2d0",
   "metadata": {},
   "source": [
    "Mozda vam se ucinilo da ovaj model izgleda jednostavan za modelovanje i da ne treba da pisete program koji ce izvrsiti ovaj zadatak. Medjutim, ova ista totalBrought() funkcija moze lako da rukuje recnikom koji sadrzi hiljade gostiju, od kojih svaki donosi hiljade razlicitih stvari za piknik."
   ]
  },
  {
   "cell_type": "markdown",
   "id": "11fb13b9-0afc-407e-9d24-750e6b499b8c",
   "metadata": {
    "tags": []
   },
   "source": [
    "### ZAPIS (TUPLE)"
   ]
  },
  {
   "cell_type": "markdown",
   "id": "0fb65eb5-0c82-42ff-bc37-272ae2477a1b",
   "metadata": {},
   "source": [
    "Zapis je tip(klasa) podataka koja je **uredjena i nepromenjiva za razliku od lista i recnika koji su uredjeni i promenljivi.** Dozvoljava clanove koji se ponavljaju. "
   ]
  },
  {
   "cell_type": "code",
   "execution_count": 8,
   "id": "f4c93236-bf80-4f88-93aa-cd15643cfafe",
   "metadata": {},
   "outputs": [
    {
     "name": "stdout",
     "output_type": "stream",
     "text": [
      "3\n",
      "apple cherry\n"
     ]
    }
   ],
   "source": [
    "thistuple = (\"apple\", \"banana\", \"cherry\")\n",
    "print(len(thistuple))\n",
    "print(thistuple[0],thistuple[-1])"
   ]
  },
  {
   "cell_type": "markdown",
   "id": "99dd24c5-462d-43b0-8550-27fdd82093ba",
   "metadata": {},
   "source": [
    "Zapis moze sadrzati razlicite tipove podataka.\n"
   ]
  },
  {
   "cell_type": "code",
   "execution_count": 10,
   "id": "e315e883-c1f7-4650-bc2d-8bea242a66ba",
   "metadata": {},
   "outputs": [
    {
     "name": "stdout",
     "output_type": "stream",
     "text": [
      "True\n",
      "<class 'tuple'>\n"
     ]
    }
   ],
   "source": [
    "tuple1 = (\"abc\", 34, True, 40, \"male\")\n",
    "print(tuple1[2])\n",
    "print(type(tuple1))\n"
   ]
  },
  {
   "cell_type": "markdown",
   "id": "1880604d-fc11-4a75-b379-41d30fed5fb5",
   "metadata": {},
   "source": [
    "**Iako je zapis nepromenljiv tip podataka, postoji caka kako je mozete update-ovati.**"
   ]
  },
  {
   "cell_type": "code",
   "execution_count": 12,
   "id": "13e17441-a3c4-469d-8a37-4419a3e7ad5f",
   "metadata": {},
   "outputs": [
    {
     "name": "stdout",
     "output_type": "stream",
     "text": [
      "['apple', 'banana', 'cherry']\n",
      "('apple', 'kiwi', 'cherry')\n"
     ]
    }
   ],
   "source": [
    "x = (\"apple\", \"banana\", \"cherry\") #zapis\n",
    "y = list(x) #konverzija u listu\n",
    "print(y)\n",
    "\n",
    "y[1] = \"kiwi\" #menjanje vrednosti u listi\n",
    "x = tuple(y)\n",
    "\n",
    "print(x)"
   ]
  },
  {
   "cell_type": "markdown",
   "id": "e0a2fe74-5766-450f-9eac-6320e5d3904a",
   "metadata": {},
   "source": [
    "**Kako dodati novi clan u zapis?**"
   ]
  },
  {
   "cell_type": "code",
   "execution_count": 16,
   "id": "6219bff4-9f13-4091-856d-a264fe13df4f",
   "metadata": {},
   "outputs": [
    {
     "name": "stdout",
     "output_type": "stream",
     "text": [
      "('apple', 'banana', 'cherry', 'orange')\n"
     ]
    }
   ],
   "source": [
    "thistuple = (\"apple\", \"banana\", \"cherry\")\n",
    "y = list(thistuple)\n",
    "y.append(\"orange\")\n",
    "thistuple = tuple(y) #ne cuva referencu vec samu vrednost \n",
    "print(thistuple)"
   ]
  },
  {
   "cell_type": "markdown",
   "id": "3c4c322e-b855-4945-b2a9-633507f9f45d",
   "metadata": {},
   "source": [
    "**Petlje i zapisi**"
   ]
  },
  {
   "cell_type": "code",
   "execution_count": 17,
   "id": "369df655-2506-43e5-bb18-4c758b4aaf1b",
   "metadata": {},
   "outputs": [
    {
     "name": "stdout",
     "output_type": "stream",
     "text": [
      "apple\n",
      "banana\n",
      "cherry\n"
     ]
    }
   ],
   "source": [
    "thistuple = (\"apple\", \"banana\", \"cherry\")\n",
    "for i in range(len(thistuple)):\n",
    "  print(thistuple[i])"
   ]
  },
  {
   "cell_type": "code",
   "execution_count": 18,
   "id": "1839f2d0-b339-4426-b92b-9f432d41a1d9",
   "metadata": {},
   "outputs": [
    {
     "name": "stdout",
     "output_type": "stream",
     "text": [
      "apple\n",
      "banana\n",
      "cherry\n"
     ]
    }
   ],
   "source": [
    "thistuple = (\"apple\", \"banana\", \"cherry\")\n",
    "i = 0\n",
    "while i < len(thistuple):\n",
    "  print(thistuple[i])\n",
    "  i = i + 1"
   ]
  },
  {
   "cell_type": "markdown",
   "id": "e688725f-7924-4156-9cc6-b38fcb6af0bf",
   "metadata": {},
   "source": [
    "## Tip podataka (klasa) SET "
   ]
  },
  {
   "cell_type": "markdown",
   "id": "d98608c7-3aaa-4f8d-a52d-eca1b7a5137c",
   "metadata": {},
   "source": [
    "Setovi se koriste kako bi se veci broj clanova sacuvao u jednom variabli. **Set je klasa podataka koja je neuredjena (unordered), nepromenljiva i neindeksirana.** Medjutim, iako je set nepromenljiv tip podataka, clanovi se mogu uklanjati i dodavati. Zapisuju se pomocu viticastih zagrada {}.\n"
   ]
  },
  {
   "cell_type": "code",
   "execution_count": 22,
   "id": "0901e390-a9b4-46ce-a095-7eec9af53c82",
   "metadata": {},
   "outputs": [
    {
     "name": "stdout",
     "output_type": "stream",
     "text": [
      "{'apple', True, 2, 'banana', 'cherry'}\n",
      "5\n",
      "<class 'set'>\n"
     ]
    }
   ],
   "source": [
    "thisset = {\"apple\", \"banana\", \"cherry\", True, 1, 2}\n",
    "\n",
    "print(thisset)\n",
    "print(len(thisset))\n",
    "print(type(thisset))\n"
   ]
  },
  {
   "cell_type": "markdown",
   "id": "2c81aa42-bda7-4198-9e9d-092ba506fb31",
   "metadata": {},
   "source": [
    "Kako pristupiti clanovima seta? **Kroz loop petlje jer set nema indeksiranje ili kljuceve.** :) "
   ]
  },
  {
   "cell_type": "code",
   "execution_count": 25,
   "id": "134fc6ca-7077-47b3-9844-88f1e5692f99",
   "metadata": {},
   "outputs": [
    {
     "name": "stdout",
     "output_type": "stream",
     "text": [
      "apple\n",
      "banana\n",
      "cherry\n",
      "True\n"
     ]
    }
   ],
   "source": [
    "thisset = {\"apple\", \"banana\", \"cherry\"}\n",
    "\n",
    "for x in thisset:\n",
    "  print(x)\n",
    "\n",
    "print(\"banana\" in thisset)"
   ]
  },
  {
   "cell_type": "markdown",
   "id": "00b66ed7-3cc3-45e0-88a2-29c4d2439db8",
   "metadata": {},
   "source": [
    "Kada se kreira set, **ne moze da se promeni vrednost clana seta.** Ali moze da se doda nova vrednost!"
   ]
  },
  {
   "cell_type": "code",
   "execution_count": 10,
   "id": "b023eb62-495a-443e-96cf-2a23d1792463",
   "metadata": {
    "tags": []
   },
   "outputs": [
    {
     "name": "stdout",
     "output_type": "stream",
     "text": [
      "{'orange', 'apple', 'banana', 'cherry'}\n"
     ]
    }
   ],
   "source": [
    "thisset = {\"apple\", \"banana\", \"cherry\"}\n",
    "\n",
    "thisset.add(\"orange\")\n",
    "\n",
    "print(thisset)"
   ]
  },
  {
   "cell_type": "code",
   "execution_count": 27,
   "id": "dda4fd63-6053-4e44-af07-62986f2b87e5",
   "metadata": {},
   "outputs": [
    {
     "name": "stdout",
     "output_type": "stream",
     "text": [
      "{'apple', 'papaya', 'banana', 'mango', 'pineapple', 'cherry'}\n"
     ]
    }
   ],
   "source": [
    "thisset = {\"apple\", \"banana\", \"cherry\"}\n",
    "tropical = {\"pineapple\", \"mango\", \"papaya\"}\n",
    "\n",
    "thisset.update(tropical)\n",
    "\n",
    "print(thisset)"
   ]
  },
  {
   "cell_type": "markdown",
   "id": "4238346a-b71b-4c1f-a781-b61a63b43159",
   "metadata": {
    "tags": []
   },
   "source": [
    "Metodi koji se koriste kod setova su prikazani [ovde](https://www.w3schools.com/python/python_sets_methods.asp)"
   ]
  },
  {
   "cell_type": "markdown",
   "id": "625f42b4-9bfd-414d-87c1-06dae137bde8",
   "metadata": {},
   "source": [
    "## DOMACI ZADATAK"
   ]
  },
  {
   "cell_type": "markdown",
   "id": "9a6042c9-4c1a-4f12-b834-34e9e3e45a34",
   "metadata": {},
   "source": [
    "1. Dat je recnik sa podacima temperature i padavina za mesec dana. \n",
    "\n",
    "#weather data for a month (temperature in Celsius and precipitation in mm) <br>\n",
    "weather_data = {\n",
    "    'temperature': [28, 30, 32, 29, 27, 26, 24, 25, 26, 28, 30, 31, 29, 30, 31, 32, 33, 31, 30, 28, 27, 26, 28, 29, 30, 31, 32, 33, 34, 32],\n",
    "    'precipitation': [0, 0, 0, 3, 8, 0, 0, 0, 0, 0, 0, 0, 0, 0, 0, 0, 0, 0, 0, 1, 10, 4, 6, 0, 0, 0, 0, 0, 28, 0]\n",
    "}\n",
    "\n",
    "Napraviti 4 zasebne funkcije koje se pozivaju u programu i koje racunaju **srednju mesecnu temperaturu**, **ukupne mesecne padavine**, **pronalazi koji dan je bio najtopliji (redni broj dana)** i **pronalazi koji dani su bili kisni (padavine iznad 1mm)**."
   ]
  },
  {
   "cell_type": "code",
   "execution_count": null,
   "id": "493866be-c071-465c-9246-fa53f854bd1a",
   "metadata": {},
   "outputs": [],
   "source": []
  },
  {
   "cell_type": "markdown",
   "id": "02fd4a53-6679-46f5-aa35-229489f29d93",
   "metadata": {},
   "source": [
    "2. Dat je vertikalni profil u vidu recnika pod imenom **atmosphere_profile**. Recnik sadrzi 4 sloja: troposferu, stratosferu, mezosferu i termosferu. Svaki sloj ima svoju altitudu (u kilometrima) i odgovarajucu temperaturu (u stepenima Celzijus).\n",
    "\n",
    "Napisati Python funkciju pod nazivom **temperature_at_altitude** koja uzima kao argument altitudu (u kilometrima) i ta vrednost se uzima sa tastature prilikom pozivanja same funkcije.  *Data funkcija vraca kao vrednost temperaturu na trazenoj altitudi u atmosferi*. <br> Funkcija treba da koristi linearnu interpolaciju na osnovu podataka recnika tako sto ce izracunati trazenu temperaturu na osnovu poznavanja poznatih temperatura u recniku izmedju kojih se nalazi. Na primer, ako korisnika zanima temperatura na 25 km visine, Vasa funkcija treba da proceni temperaturu koristeci poznate vrednosti temperature izmedju stratosfere i mezosfere. U slucaju da je temperatura na trazenoj altitudi veca od altitude u termosferi, uzeti da je trazena temperatura jednaka temperaturi termosfere na 100km kao u datom recniku.\n",
    "\n",
    "*POMOC: Izracunati prvo vertikalni temperaturni gradijent u datom sloju vazduha a zatim trazenu temperaturu.*\n",
    "\n",
    "\n",
    "Koristeci funkciju koju ste napisali, naci temperaturu na sledecim visinama: 5km, 20km, 60km, 90km, 110km.\n",
    "**Rezulati koje treba da dobijete su: -17.5°C, -55.0°C,  -26.0°C, 106.0°C, 150°C.**\n",
    "\n",
    "<br>\n",
    "<br>\n",
    "\n",
    "atmosphere_profile = {\n",
    "    'troposphere': {\n",
    "        'altitude': 0,     \n",
    "        'temperature': 15\n",
    "    },\n",
    "    'stratosphere': {\n",
    "        'altitude': 10,\n",
    "        'temperature': -50\n",
    "    },\n",
    "    'mesosphere': {\n",
    "        'altitude': 50,\n",
    "        'temperature': -70\n",
    "    },\n",
    "    'thermosphere': {\n",
    "        'altitude': 100,\n",
    "        'temperature': 150\n",
    "    }\n",
    "}\n"
   ]
  },
  {
   "cell_type": "code",
   "execution_count": null,
   "id": "08f9150b-0dd5-4700-9664-512453441af6",
   "metadata": {},
   "outputs": [],
   "source": []
  }
 ],
 "metadata": {
  "kernelspec": {
   "display_name": "Python 3 (ipykernel)",
   "language": "python",
   "name": "python3"
  },
  "language_info": {
   "codemirror_mode": {
    "name": "ipython",
    "version": 3
   },
   "file_extension": ".py",
   "mimetype": "text/x-python",
   "name": "python",
   "nbconvert_exporter": "python",
   "pygments_lexer": "ipython3",
   "version": "3.9.12"
  }
 },
 "nbformat": 4,
 "nbformat_minor": 5
}
