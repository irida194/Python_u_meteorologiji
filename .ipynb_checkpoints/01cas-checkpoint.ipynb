{
 "cells": [
  {
   "cell_type": "markdown",
   "id": "c6423e13",
   "metadata": {},
   "source": [
    "# Osnove Pythona \n",
    "\n",
    "### Matematicki operatori od najviseg do najnizeg prioriteta\n",
    "\n",
    "| Operator | Operacija  | Primer | Procenjuje se |\n",
    "|----------|------------|--------|---------------|\n",
    "|**        | Eksponent  | 2 ** 3   | 8             |\n",
    "|%         |Modul/ostatak| 22 % 8   | 6             |\n",
    "|//        | Deljenje celog broja  | 22 // 8   | 2             |\n",
    "|/        | Deljenje  | 22 / 8   | 2.75             |\n",
    "|*        | Mnozenje  | 3 * 5   | 15             |\n",
    "|-        | Oduzimanje  | 5 - 2  | 3             |\n",
    "|+        | Sabiranje  | 2 + 2   | 4             |\n",
    "\n"
   ]
  },
  {
   "cell_type": "code",
   "execution_count": 2,
   "id": "1c8f1bd2",
   "metadata": {},
   "outputs": [
    {
     "data": {
      "text/plain": [
       "19"
      ]
     },
     "execution_count": 2,
     "metadata": {},
     "output_type": "execute_result"
    }
   ],
   "source": [
    "2 + 3 * 6-2+1"
   ]
  },
  {
   "cell_type": "code",
   "execution_count": 2,
   "id": "540b36cd",
   "metadata": {},
   "outputs": [
    {
     "data": {
      "text/plain": [
       "2"
      ]
     },
     "execution_count": 2,
     "metadata": {},
     "output_type": "execute_result"
    }
   ],
   "source": [
    "23 % 7"
   ]
  },
  {
   "cell_type": "code",
   "execution_count": 3,
   "id": "c61717a7",
   "metadata": {},
   "outputs": [
    {
     "data": {
      "text/plain": [
       "-5"
      ]
     },
     "execution_count": 3,
     "metadata": {},
     "output_type": "execute_result"
    }
   ],
   "source": [
    "5 * (-1) "
   ]
  },
  {
   "cell_type": "markdown",
   "id": "f843d4a1",
   "metadata": {},
   "source": [
    "## Vrste podata (za sad)\n",
    "## Celi brojevi, brojevi sa pokretnom tackom (float) i stringovi"
   ]
  },
  {
   "cell_type": "markdown",
   "id": "661b26a7-7f05-4139-87ab-c013fb69632b",
   "metadata": {},
   "source": [
    "Python je **objekntno-orjentisani** **interpreterski** programski jezik sa **dinamickim tipom podataka**. Nastao je 80tih godina proslog veka. </br>\n",
    "Osobine:\n",
    "1. gotove funkcionalnosti\n",
    "2. citljivost koda\n",
    "3. dinamicki tipovi podataka\n",
    "4. velika zajednica programera koja je open-source\n",
    "5. sporiji od Fortrana npr. ali zato ima puno biblioteka. Princip nasledjivanja. Izvodjenje npr novih klasa iz postojecih. "
   ]
  },
  {
   "cell_type": "markdown",
   "id": "dc44ef6c-b075-4195-adb6-b3d2d7e74d4b",
   "metadata": {},
   "source": [
    "<div class='alert-danger'> \n",
    "Objekat je jednoznacno definisan tipom (type), identitetom (id) i vrednoscu. Identitet je lokacija u memoriji i ne moze se promeniti kada se objakat kreira. Tip (klasa) je skup svih vrednosti koje objekti iz istog tipa mogu imati (npr. klasa realnih brojeva) . Ili drugim recima klasa je skup svih objekata sa istim atributima i metodima.\n",
    "</div>"
   ]
  },
  {
   "cell_type": "markdown",
   "id": "04d972e0-9dba-4a08-af84-d1bb8bc4b6e8",
   "metadata": {},
   "source": [
    "Objekat ima svoje **osobine (atribute)** i **ponasanje (metode-procedure)**. Metode ukazuju sta moze da se radi nad objektom i to su funkcije koje su definisane unutar objektnog tipa i koji se vezuju za konkretni objekat. Objektno-orjentisano programiranje- zadaci se obavljaju kroz interakcije objekata. "
   ]
  },
  {
   "cell_type": "code",
   "execution_count": 4,
   "id": "8ecfe705",
   "metadata": {},
   "outputs": [
    {
     "data": {
      "text/plain": [
       "20"
      ]
     },
     "execution_count": 4,
     "metadata": {},
     "output_type": "execute_result"
    }
   ],
   "source": [
    "int(20.45)"
   ]
  },
  {
   "cell_type": "code",
   "execution_count": 5,
   "id": "cf57a83e",
   "metadata": {},
   "outputs": [
    {
     "data": {
      "text/plain": [
       "16.0"
      ]
     },
     "execution_count": 5,
     "metadata": {},
     "output_type": "execute_result"
    }
   ],
   "source": [
    "float(16)"
   ]
  },
  {
   "cell_type": "code",
   "execution_count": 11,
   "id": "14fa216a",
   "metadata": {},
   "outputs": [
    {
     "data": {
      "text/plain": [
       "'16'"
      ]
     },
     "execution_count": 11,
     "metadata": {},
     "output_type": "execute_result"
    }
   ],
   "source": [
    "str(16)"
   ]
  },
  {
   "cell_type": "code",
   "execution_count": 12,
   "id": "2a530783",
   "metadata": {},
   "outputs": [
    {
     "data": {
      "text/plain": [
       "'1620'"
      ]
     },
     "execution_count": 12,
     "metadata": {},
     "output_type": "execute_result"
    }
   ],
   "source": [
    "str(16)+str(20)"
   ]
  },
  {
   "cell_type": "code",
   "execution_count": 13,
   "id": "71c7cad7",
   "metadata": {},
   "outputs": [
    {
     "ename": "TypeError",
     "evalue": "can only concatenate str (not \"int\") to str",
     "output_type": "error",
     "traceback": [
      "\u001b[0;31m---------------------------------------------------------------------------\u001b[0m",
      "\u001b[0;31mTypeError\u001b[0m                                 Traceback (most recent call last)",
      "Cell \u001b[0;32mIn[13], line 1\u001b[0m\n\u001b[0;32m----> 1\u001b[0m \u001b[38;5;28mprint\u001b[39m(\u001b[38;5;124;43m'\u001b[39;49m\u001b[38;5;124;43mMoj rezultat je \u001b[39;49m\u001b[38;5;124;43m'\u001b[39;49m\u001b[38;5;241;43m+\u001b[39;49m\u001b[43m \u001b[49m\u001b[38;5;241;43m16\u001b[39;49m)\n",
      "\u001b[0;31mTypeError\u001b[0m: can only concatenate str (not \"int\") to str"
     ]
    }
   ],
   "source": [
    "print('Moj rezultat je '+ 16)"
   ]
  },
  {
   "cell_type": "markdown",
   "id": "add032d3",
   "metadata": {
    "tags": []
   },
   "source": [
    "> Operator sabiranja + se koristi kada se vrsi operacija za dva cela broja ili broja sa pokretnom tackom, medjutim kada je + upotrebljen za dve vrednosti stringa, on spaja kao operator spajanja dva stringa. **Ne mogu se spajati string i broj pomocu + (primer gore)** "
   ]
  },
  {
   "cell_type": "code",
   "execution_count": 14,
   "id": "a2dff988",
   "metadata": {},
   "outputs": [
    {
     "name": "stdout",
     "output_type": "stream",
     "text": [
      "Moj rezultat je 16\n"
     ]
    }
   ],
   "source": [
    "print('Moj rezultat je '+ str(16))"
   ]
  },
  {
   "cell_type": "markdown",
   "id": "ef030bef",
   "metadata": {},
   "source": [
    "### Cuvanje vrednosti u promenljivim\n",
    "Promenljiva je kao kutija u memoriji racunara, gde mozete da cuvate pojedinacne vrednosti. Ako zelite kasnije da upotrebite rezultat izracunatog izraza u programu, mozete da ga sacuvate unutar promenljive.\n",
    "\n",
    "#### Iskazi dodele\n",
    "Vrednosti cete cuvati u promenljivim sa iskazom dodele. Iskaz dodele sadrzi naziv promenljive, znak jednakosti (koji se naziva operator dodele) i vrednost koja ce biti sacuvana.\n",
    "\n",
    "#### Nazivi promenljivih\n",
    "\n",
    "1. Moze biti samo jedna rec\n",
    "2. Mogu da se koriste samo karakteri slova, brojevi i donje crtice.\n",
    "3. Ne moze pocinjati brojem.\n",
    "\n",
    "Pravilni nazivi promenljivih (balance, SPAM, spam_4, account4, current_balance\n",
    "Nepravilni nazivi (4account, 42, 'hello', current-balance (crtice nisu dozvoljene), current balance (razmaci nisu dozvoljeni))"
   ]
  },
  {
   "cell_type": "markdown",
   "id": "0c2e8b44",
   "metadata": {},
   "source": [
    "<div class=\"alert-danger\">\n",
    "> Python je osetljiv na mala i velika slova (case sensitive)\n",
    "</div>"
   ]
  },
  {
   "cell_type": "code",
   "execution_count": 15,
   "id": "d95e9263",
   "metadata": {
    "tags": []
   },
   "outputs": [],
   "source": [
    "x = (5-1) * ((7+1)/ (3-1))"
   ]
  },
  {
   "cell_type": "code",
   "execution_count": 16,
   "id": "249a5a04",
   "metadata": {},
   "outputs": [
    {
     "name": "stdout",
     "output_type": "stream",
     "text": [
      "16.0\n",
      "140568457767856\n"
     ]
    }
   ],
   "source": [
    "print(x)\n",
    "print(id(x))"
   ]
  },
  {
   "cell_type": "markdown",
   "id": "68c97a24",
   "metadata": {},
   "source": [
    "> Kada je promenljivoj dodeljena nova vrednost, stara vrednost je zaboravljena!"
   ]
  },
  {
   "attachments": {
    "b90128a6-c23b-47f7-b2b4-d88e2ba8299e.png": {
     "image/png": "[encoded data removed]"
    }
   },
   "cell_type": "markdown",
   "id": "fd4f1db8",
   "metadata": {},
   "source": [
    "![image.png](attachment:b90128a6-c23b-47f7-b2b4-d88e2ba8299e.png)"
   ]
  },
  {
   "cell_type": "code",
   "execution_count": 12,
   "id": "85625433",
   "metadata": {},
   "outputs": [],
   "source": [
    "x = 100"
   ]
  },
  {
   "cell_type": "code",
   "execution_count": 18,
   "id": "ae8ac1c4",
   "metadata": {},
   "outputs": [
    {
     "name": "stdout",
     "output_type": "stream",
     "text": [
      "16.0\n"
     ]
    }
   ],
   "source": [
    "print(x)"
   ]
  },
  {
   "cell_type": "markdown",
   "id": "86f02825",
   "metadata": {},
   "source": [
    "### Vas prvi program - pravljenje skripte\n",
    "\n",
    "1. Komentari zapocinju znakom #, a ako zelite da napisete duzi komentar koji zauzima nekoliko linija, ogranicicete ga sa tri dvostruka znaka navoda. \"\"\" Text \"\"\"\n",
    "2. Funkcija print() prikazuje vrednost niza unutar zagrada na ekranu. \n",
    "3. Funkcija input() ceka da korisnik ukuca tekst na tastaturi i pritisne ENTER.\n",
    "4. Funkciji len() mozete da prosledite vrednost niza (ili promenljivu koja sadrzi niz), a funkcija je izracunava do vrednosti celog broja za broj karaktera u odredjenom nizu.  \n"
   ]
  },
  {
   "cell_type": "markdown",
   "id": "d6c6160e",
   "metadata": {},
   "source": [
    "> Tip podataka koji vraca input() i len() funkcije je string bilo da se ukuca broj ili slovo prilikom pozivanja ove funkcije. "
   ]
  },
  {
   "cell_type": "code",
   "execution_count": 19,
   "id": "6d35a6f9",
   "metadata": {},
   "outputs": [
    {
     "name": "stdout",
     "output_type": "stream",
     "text": [
      "ukucaj svoje ime\n"
     ]
    },
    {
     "name": "stdin",
     "output_type": "stream",
     "text": [
      " Irida\n"
     ]
    },
    {
     "name": "stdout",
     "output_type": "stream",
     "text": [
      "Koliko godina imas\n"
     ]
    },
    {
     "name": "stdin",
     "output_type": "stream",
     "text": [
      " 29\n"
     ]
    },
    {
     "name": "stdout",
     "output_type": "stream",
     "text": [
      "<class 'str'>\n",
      "<class 'str'>\n"
     ]
    }
   ],
   "source": [
    "print('ukucaj svoje ime')\n",
    "myName=input()\n",
    "print('Koliko godina imas')\n",
    "myAge=input()\n",
    "#Tipovi podataka\n",
    "print(type(myName))\n",
    "print(type(myAge))"
   ]
  },
  {
   "cell_type": "code",
   "execution_count": 12,
   "id": "73ce66bb-e905-4720-9aab-9b7c6dd46447",
   "metadata": {},
   "outputs": [
    {
     "name": "stdin",
     "output_type": "stream",
     "text": [
      "Ukucaj svoje ime Irida\n",
      "Koliko godina imas 29\n"
     ]
    },
    {
     "name": "stdout",
     "output_type": "stream",
     "text": [
      "<class 'str'> <class 'float'>\n"
     ]
    }
   ],
   "source": [
    "# drugi i kraci nacin\n",
    "\n",
    "myName=input('Ukucaj svoje ime')\n",
    "myAge=float(input('Koliko godina imas'))\n",
    "print(type(myName),type(myAge))"
   ]
  },
  {
   "cell_type": "code",
   "execution_count": 20,
   "id": "54817640",
   "metadata": {},
   "outputs": [
    {
     "name": "stdout",
     "output_type": "stream",
     "text": [
      "Hello world!\n",
      "Kako se zoves?\n"
     ]
    },
    {
     "name": "stdin",
     "output_type": "stream",
     "text": [
      " Irida\n"
     ]
    },
    {
     "name": "stdout",
     "output_type": "stream",
     "text": [
      "Drago mi je da smo se upoznali Irida\n",
      "Broj slova u tvom imenu je \n",
      "5\n",
      "Koliko godina imas?\n"
     ]
    },
    {
     "name": "stdin",
     "output_type": "stream",
     "text": [
      " 29\n"
     ]
    },
    {
     "name": "stdout",
     "output_type": "stream",
     "text": [
      "Imaces 30.godina sledece godine.\n"
     ]
    }
   ],
   "source": [
    "# Ovaj program kaze \"Hello\" i pita za Vase ime\n",
    "print('Hello world!')\n",
    "print('Kako se zoves?')\n",
    "myName=input()\n",
    "print('Drago mi je da smo se upoznali ' + myName)\n",
    "print('Broj slova u tvom imenu je ')\n",
    "print(len(myName))\n",
    "print('Koliko godina imas?')\n",
    "myAge=input()\n",
    "print('Imaces ' + str(int(myAge)+1) + '.godina sledece godine.')"
   ]
  },
  {
   "cell_type": "markdown",
   "id": "6bff7977-4d82-4360-9b59-b144c388ee13",
   "metadata": {},
   "source": [
    "### Koriscenje f stringa i print funkcije"
   ]
  },
  {
   "cell_type": "markdown",
   "id": "e7cb777a-3e8c-4e21-a318-1b73604dd609",
   "metadata": {},
   "source": [
    "Napomena: Koriscenje print funkcije se moze koristiti na drugi nacin pomocu [f stringa](https://www.geeksforgeeks.org/formatted-string-literals-f-strings-python/): **print(f\"Povrsina kruga je {area:.2f}\")**.\n",
    "Ako zelite da stampate na ekran promenljivu *area* i da bude zaokruzena vrednost na 2 decimalna broja, to se radi pomocu f stringa. Primer ispod."
   ]
  },
  {
   "cell_type": "code",
   "execution_count": 23,
   "id": "7002c4c7-1e27-4af4-be98-9b9da07dc757",
   "metadata": {},
   "outputs": [
    {
     "name": "stdout",
     "output_type": "stream",
     "text": [
      "Ime je Irida a godine 25\n"
     ]
    }
   ],
   "source": [
    "Name='Irida'\n",
    "Age=25\n",
    "print(f\"Ime je {Name} a godine {Age}\")\n"
   ]
  },
  {
   "cell_type": "markdown",
   "id": "021cddc2-9e46-402d-b69c-c37e0c39038a",
   "metadata": {},
   "source": [
    "## Kompleksni tip podataka"
   ]
  },
  {
   "cell_type": "code",
   "execution_count": 23,
   "id": "4bcc7bb3-58d5-4adb-b639-ffefb85d1a71",
   "metadata": {},
   "outputs": [
    {
     "name": "stdout",
     "output_type": "stream",
     "text": [
      "Kompleksni broj je (2+3j)\n"
     ]
    }
   ],
   "source": [
    "a=2\n",
    "b=3\n",
    "z=complex(a,b)\n",
    "print(f\"Kompleksni broj je {z}\")"
   ]
  },
  {
   "cell_type": "code",
   "execution_count": 9,
   "id": "5d317ec6-7744-46c9-83cd-d41b08445fed",
   "metadata": {},
   "outputs": [
    {
     "name": "stdout",
     "output_type": "stream",
     "text": [
      "Kompleksni broj je (2+3j) a tip podataka je <class 'complex'>\n"
     ]
    }
   ],
   "source": [
    "# drugi nacin\n",
    "z=2+3j\n",
    "print(f\"Kompleksni broj je {z} a tip podataka je {type(z)}\")"
   ]
  },
  {
   "cell_type": "code",
   "execution_count": 14,
   "id": "977a6ef0-59b3-43e0-85b3-7b11237f1978",
   "metadata": {},
   "outputs": [
    {
     "name": "stdout",
     "output_type": "stream",
     "text": [
      "(6+5j)\n"
     ]
    }
   ],
   "source": [
    "#sabiranje, oduzimanje, mnozenje i deljenje\n",
    "z1=2+3j\n",
    "z2=4+2j\n",
    "z=z1+z2\n",
    "print(z)"
   ]
  },
  {
   "cell_type": "code",
   "execution_count": 26,
   "id": "5727490e-e8a7-46b9-a381-78612cf64b78",
   "metadata": {},
   "outputs": [
    {
     "name": "stdout",
     "output_type": "stream",
     "text": [
      "4.0 3.0 (3-4j) 5.0\n"
     ]
    }
   ],
   "source": [
    "z=3+4j\n",
    "print(z.imag, z.real, z.conjugate(), abs(z))"
   ]
  },
  {
   "cell_type": "markdown",
   "id": "20c4dda8-0cd3-434b-afb2-ed7fa9e62c11",
   "metadata": {},
   "source": [
    "## Logicki tip podataka"
   ]
  },
  {
   "cell_type": "markdown",
   "id": "79bccacf-717c-486b-8bff-0fa3d809300f",
   "metadata": {},
   "source": [
    "\n",
    "### Bulove (logicke) vrednosti\n",
    "\n",
    "Iako vrste podataka celog broja, broja pokretnog zareza i stringovi imaju neogranicen broj mogucih vrednosti, Bulova vrsta podatka ima samo dve vrednosti: *True* i *False*. <br>\n",
    "Kada je upisana kao Python kod, Bulove vrednosti *True* ili *False* nemaju navodnike koje postavljate oko niza i **uvek zapocinju velikim slovom T ili F**, a ostala slova su napisana kao mala. "
   ]
  },
  {
   "cell_type": "code",
   "execution_count": 1,
   "id": "c816b9e1-8f72-4bc5-a71f-0c570e17b527",
   "metadata": {},
   "outputs": [
    {
     "name": "stdout",
     "output_type": "stream",
     "text": [
      "True\n",
      "<class 'bool'>\n"
     ]
    }
   ],
   "source": [
    "spam = True # ne moze spam = true \n",
    "print(spam)\n",
    "print(type(spam))"
   ]
  },
  {
   "cell_type": "markdown",
   "id": "ba217444-1698-4fb8-8887-f8c6b48f1f72",
   "metadata": {},
   "source": [
    "### Operatori poredjenja\n",
    "\n",
    "Operatori poredjenja porede dve vrednosti i svode ih na jednu Bulovu vrednost.\n",
    "\n",
    "| operator  |    znacenje |\n",
    "|-----------|-------------|\n",
    "|==         | jednak sa   |\n",
    "|!=         | nejednak sa   |\n",
    "|<         | manji od   |\n",
    "|>         | veci od   |\n",
    "|<=         | manji ili jednak sa |\n",
    "|>=         | veci ili jednak sa   |\n",
    "\n",
    "Ovi operatori svode vrednost na True ili False u zavisnosti od vrednosti koje im zadate. <br>\n",
    "**Iako se vrednost stringa broja (u donjem primeru '42') smatra potpunom drugacijom vrednoscu od verzije celog broja ili broja sa pokretnom tackom, ceo broj moze da bude jednak sa brojem pokretne tacke.**\n",
    "\n",
    "\n"
   ]
  },
  {
   "cell_type": "markdown",
   "id": "6b6a7307-f2ea-46f0-9c4b-82b83b47c21c",
   "metadata": {},
   "source": [
    "<div class=\"alert-danger\"> \n",
    "> Paziti na razliku = (operator dodenjivanja u iskazima dodele) i == (operator poredjenja)\n",
    "</div>"
   ]
  },
  {
   "cell_type": "code",
   "execution_count": 2,
   "id": "e1cbedfa-1d4d-4684-9998-d8ad919bd2f1",
   "metadata": {},
   "outputs": [
    {
     "data": {
      "text/plain": [
       "True"
      ]
     },
     "execution_count": 2,
     "metadata": {},
     "output_type": "execute_result"
    }
   ],
   "source": [
    "42 == 42"
   ]
  },
  {
   "cell_type": "code",
   "execution_count": 2,
   "id": "bab9b121-3c4f-4430-ae67-62896667d911",
   "metadata": {},
   "outputs": [
    {
     "data": {
      "text/plain": [
       "True"
      ]
     },
     "execution_count": 2,
     "metadata": {},
     "output_type": "execute_result"
    }
   ],
   "source": [
    "42 == 42"
   ]
  },
  {
   "cell_type": "code",
   "execution_count": 3,
   "id": "a6af60dc-0658-4311-a26a-8b05cb475f2c",
   "metadata": {},
   "outputs": [
    {
     "data": {
      "text/plain": [
       "False"
      ]
     },
     "execution_count": 3,
     "metadata": {},
     "output_type": "execute_result"
    }
   ],
   "source": [
    "42 == '42'"
   ]
  },
  {
   "cell_type": "code",
   "execution_count": 4,
   "id": "50bb0e68-39d6-483e-85bc-a40731da34e2",
   "metadata": {},
   "outputs": [
    {
     "data": {
      "text/plain": [
       "True"
      ]
     },
     "execution_count": 4,
     "metadata": {},
     "output_type": "execute_result"
    }
   ],
   "source": [
    "42 == 42.0"
   ]
  },
  {
   "cell_type": "code",
   "execution_count": 5,
   "id": "4e56cb15-53df-4b91-b5cd-6cad14f5ded5",
   "metadata": {},
   "outputs": [
    {
     "data": {
      "text/plain": [
       "False"
      ]
     },
     "execution_count": 5,
     "metadata": {},
     "output_type": "execute_result"
    }
   ],
   "source": [
    "'hello' == 'Hello'"
   ]
  },
  {
   "cell_type": "markdown",
   "id": "f7ab03cc-8fee-4627-ba6b-60df94666d5d",
   "metadata": {},
   "source": [
    "### Bulovi (logicki) operatori\n",
    "Bulovi operatori and,or, i not se koriste za uporedjivanje Bulovih vrednosti. Kao i operatori poredjenja, oni svode ove izraze na Bulovu vrednost.\n",
    "\n",
    "#### Binarni Bulovi operatori\n",
    "Operatori *and* i *or* uvek uzimaju dve Bulove vrednosti (ili izraza), pa se, stoga, smatraju binarnim operatorima.\n",
    "\n",
    "Operator **and**\n",
    "\n",
    "| Izraz |    Svodi na |\n",
    "|-----------|-------------|\n",
    "|True and True         | True   |\n",
    "|True and False         | False   |\n",
    "|False and True         | False   |\n",
    "|False and False        | False   |\n",
    "\n",
    "Operator **or**\n",
    "\n",
    "| Izraz |    Svodi na |\n",
    "|-----------|-------------|\n",
    "|True or True         | True   |\n",
    "|True or False         | True   |\n",
    "|False or True         | True   |\n",
    "|False or False        | False   |\n",
    "\n",
    "#### Operator not\n",
    "Za razliku od operatora and i or, operator not deluje samo na jednu Bulovu vrednost (ili izraz). On jednostavno svodi vrednost na suprotnu Bulovu vrednost.\n",
    "\n"
   ]
  },
  {
   "cell_type": "code",
   "execution_count": 2,
   "id": "ee1edff6-58dd-4634-8d4e-d089288833b9",
   "metadata": {},
   "outputs": [
    {
     "data": {
      "text/plain": [
       "True"
      ]
     },
     "execution_count": 2,
     "metadata": {},
     "output_type": "execute_result"
    }
   ],
   "source": [
    "(4 < 5) and (5 < 6)"
   ]
  },
  {
   "cell_type": "code",
   "execution_count": 7,
   "id": "87835abe-8fa8-435b-8cf7-ebc30aa14b13",
   "metadata": {},
   "outputs": [
    {
     "data": {
      "text/plain": [
       "True"
      ]
     },
     "execution_count": 7,
     "metadata": {},
     "output_type": "execute_result"
    }
   ],
   "source": [
    "2 + 2 == 4 and not 2 + 2 == 5 and 2*2 == 2 + 2"
   ]
  },
  {
   "cell_type": "markdown",
   "id": "b2756c62-4811-43f0-9fbd-2ada0a7ec7de",
   "metadata": {},
   "source": [
    "> Bulovi operatori imaju redosled operacija isti kao i matematicki operatori. Nakon sto matematicki operatori i operatori poredjenja izvrse izracunavanje, Python prvo koristi operatore not, zatim operatore and, pa operatore or."
   ]
  },
  {
   "cell_type": "markdown",
   "id": "ca0ba431-8e4a-4ac3-8951-31e700c7f178",
   "metadata": {},
   "source": [
    "# Vrste podataka LISTE\n"
   ]
  },
  {
   "cell_type": "markdown",
   "id": "43082949-f998-40f0-afb2-6a801c357a2a",
   "metadata": {},
   "source": [
    "Jos jedna tema koju treba da razumete pre nego sto ozbiljno zapocnete pisanja programa su vrste podataka liste i njen ,,rodjak\" zapis. Liste i zapisi mogu da sadrze vise vrednosti, sto olaksava pisanje programa koji rukuju velikim kolicinama podataka. A posto same liste mogu da sadrze druge liste, mozete da ih upotrebite za uredjivanje podataka u hijerarhijskoj strukturi. <br>\n",
    "\n",
    "Lista je vrednost koja sadrzi vise vrednosti u **uredjenom nizu**. Vrednosti unutar liste se nazivaju i stavke. Stavke su *odvojene zarezima*."
   ]
  },
  {
   "cell_type": "code",
   "execution_count": 21,
   "id": "858eb513-2397-49c5-a754-4e115c7ed2cc",
   "metadata": {},
   "outputs": [
    {
     "name": "stdout",
     "output_type": "stream",
     "text": [
      "['cat', 'bat', 'rat', 'elephant']\n",
      "<class 'list'>\n",
      "[]\n"
     ]
    }
   ],
   "source": [
    "spam = ['cat','bat','rat','elephant']\n",
    "prazna_lista=[]\n",
    "print(spam)\n",
    "print(type(spam))\n",
    "print(prazna_lista)"
   ]
  },
  {
   "cell_type": "code",
   "execution_count": 22,
   "id": "36b85a31-e474-4713-887e-676670e6c1c7",
   "metadata": {},
   "outputs": [
    {
     "name": "stdout",
     "output_type": "stream",
     "text": [
      "Vrednost prve stavke je u listi spam cat\n",
      "Vrednost druge stavke je u listi spam bat\n",
      "rat\n"
     ]
    }
   ],
   "source": [
    "print('Vrednost prve stavke je u listi spam '+ spam[0])\n",
    "print('Vrednost druge stavke je u listi spam '+ spam[1])\n",
    "print(spam[2])\n"
   ]
  },
  {
   "cell_type": "code",
   "execution_count": 23,
   "id": "43b596f1-f32c-440a-88c0-2a6449bae13a",
   "metadata": {},
   "outputs": [
    {
     "ename": "IndexError",
     "evalue": "list index out of range",
     "output_type": "error",
     "traceback": [
      "\u001b[0;31m---------------------------------------------------------------------------\u001b[0m",
      "\u001b[0;31mIndexError\u001b[0m                                Traceback (most recent call last)",
      "Cell \u001b[0;32mIn[23], line 1\u001b[0m\n\u001b[0;32m----> 1\u001b[0m \u001b[38;5;28mprint\u001b[39m(\u001b[43mspam\u001b[49m\u001b[43m[\u001b[49m\u001b[38;5;241;43m1000\u001b[39;49m\u001b[43m]\u001b[49m)\n",
      "\u001b[0;31mIndexError\u001b[0m: list index out of range"
     ]
    }
   ],
   "source": [
    "print(spam[1000])"
   ]
  },
  {
   "cell_type": "code",
   "execution_count": 24,
   "id": "94805a9f-c41f-4856-8d83-0dc0d867f44d",
   "metadata": {},
   "outputs": [
    {
     "ename": "TypeError",
     "evalue": "list indices must be integers or slices, not float",
     "output_type": "error",
     "traceback": [
      "\u001b[0;31m---------------------------------------------------------------------------\u001b[0m",
      "\u001b[0;31mTypeError\u001b[0m                                 Traceback (most recent call last)",
      "Cell \u001b[0;32mIn[24], line 1\u001b[0m\n\u001b[0;32m----> 1\u001b[0m \u001b[38;5;28mprint\u001b[39m(\u001b[43mspam\u001b[49m\u001b[43m[\u001b[49m\u001b[38;5;241;43m1.0\u001b[39;49m\u001b[43m]\u001b[49m)\n",
      "\u001b[0;31mTypeError\u001b[0m: list indices must be integers or slices, not float"
     ]
    }
   ],
   "source": [
    "print(spam[1.0])"
   ]
  },
  {
   "cell_type": "code",
   "execution_count": 25,
   "id": "65b63a9d-4bce-4505-995b-036d13d3b1d8",
   "metadata": {},
   "outputs": [
    {
     "name": "stdout",
     "output_type": "stream",
     "text": [
      "['cat', 'bat']\n",
      "bat\n",
      "10\n"
     ]
    }
   ],
   "source": [
    "spam = [['cat','bat'],[10,20,30,40,50]]\n",
    "print(spam[0])\n",
    "print(spam[0][1])\n",
    "print(spam[1][0])\n"
   ]
  },
  {
   "cell_type": "markdown",
   "id": "de61b976-f22f-40f5-a642-f6c9a7e4d7e4",
   "metadata": {},
   "source": [
    "#### Negativni indeksi"
   ]
  },
  {
   "cell_type": "code",
   "execution_count": 26,
   "id": "5f15f617-dddd-40ac-8c9b-92cbb56b4635",
   "metadata": {},
   "outputs": [
    {
     "name": "stdout",
     "output_type": "stream",
     "text": [
      "elephant\n",
      "bat\n"
     ]
    }
   ],
   "source": [
    "spam = ['cat','bat','rat','elephant']\n",
    "print(spam[-1]) #poslednji indeks u listi\n",
    "print(spam[-3])\n"
   ]
  },
  {
   "cell_type": "markdown",
   "id": "c1f6d463-8d41-41bb-aade-5dfcf9a8a06b",
   "metadata": {},
   "source": [
    "#### Dobijanje podliste pomocu isecaka"
   ]
  },
  {
   "cell_type": "code",
   "execution_count": 27,
   "id": "fc8bce27-7bbd-4dab-be75-681ab82867ec",
   "metadata": {},
   "outputs": [
    {
     "name": "stdout",
     "output_type": "stream",
     "text": [
      "['cat', 'bat']\n",
      "['cat', 'bat']\n"
     ]
    }
   ],
   "source": [
    "spam = ['cat','bat','rat','elephant']\n",
    "print(spam[0:2]) #Isecak ide do vrednosti drugog indeksa ali je ne ukljucuje\n",
    "print(spam[:2])"
   ]
  },
  {
   "cell_type": "code",
   "execution_count": 28,
   "id": "f61a4579-0ff8-4b64-80bb-592725a7ed77",
   "metadata": {},
   "outputs": [
    {
     "name": "stdout",
     "output_type": "stream",
     "text": [
      "['bat', 'rat', 'elephant']\n"
     ]
    }
   ],
   "source": [
    "print(spam[1:]) #Ako izostavite drugi indeks, to je isto kao da upotrebite duzinu liste\n",
    "#bice isecena do kraja liste"
   ]
  },
  {
   "cell_type": "markdown",
   "id": "7c4ea383-1397-41f3-b8bc-4ff501a5e993",
   "metadata": {},
   "source": [
    "### Dobijanje duzine liste pomocu funkcije len()"
   ]
  },
  {
   "cell_type": "code",
   "execution_count": 29,
   "id": "ce740868-900c-4dce-847f-81afac9d6c97",
   "metadata": {},
   "outputs": [
    {
     "name": "stdout",
     "output_type": "stream",
     "text": [
      "4\n"
     ]
    }
   ],
   "source": [
    "spam = ['cat','bat','rat','elephant']\n",
    "print(len(spam))"
   ]
  },
  {
   "cell_type": "markdown",
   "id": "83c8c6d7-c220-45cb-8cb8-6da2ff30bc54",
   "metadata": {},
   "source": [
    "### Menjanje vrednosti u listi pomocu indeksa"
   ]
  },
  {
   "cell_type": "code",
   "execution_count": 30,
   "id": "9046e998-77fe-4ee1-a993-0c340f629c5b",
   "metadata": {},
   "outputs": [
    {
     "name": "stdout",
     "output_type": "stream",
     "text": [
      "['cat', 'djjdjdj', 'elephant', 'elephant']\n"
     ]
    }
   ],
   "source": [
    "spam = ['cat','bat','rat','elephant']\n",
    "spam[1] = 'djjdjdj'\n",
    "spam[2] = spam[3]\n",
    "print(spam)"
   ]
  },
  {
   "cell_type": "markdown",
   "id": "204c47f3-f967-4fd7-ae37-e849f68c9f16",
   "metadata": {},
   "source": [
    "### Spajanje i ponavljanje liste"
   ]
  },
  {
   "cell_type": "code",
   "execution_count": 31,
   "id": "32f43b91-d020-4f27-b571-db0191598651",
   "metadata": {},
   "outputs": [
    {
     "name": "stdout",
     "output_type": "stream",
     "text": [
      "['cat', 'bat', 'rat', 'elephant', 1, 2, 3]\n",
      "['cat', 'bat', 'rat', 'elephant', 1, 2, 3, 'cat', 'bat', 'rat', 'elephant', 1, 2, 3, 'cat', 'bat', 'rat', 'elephant', 1, 2, 3]\n"
     ]
    }
   ],
   "source": [
    "spam = ['cat','bat','rat','elephant']\n",
    "spam = spam + [1,2,3]\n",
    "spam3 = spam * 3\n",
    "print(spam)\n",
    "print(spam3)"
   ]
  },
  {
   "cell_type": "markdown",
   "id": "505563b4-f39d-4b7f-854f-6599ab0b7bab",
   "metadata": {},
   "source": [
    "### Uklanjanje vrednosti iz liste pomocu iskaza del"
   ]
  },
  {
   "cell_type": "code",
   "execution_count": 32,
   "id": "043baa0d-5f42-4cfd-857c-6acf7b83b924",
   "metadata": {},
   "outputs": [
    {
     "name": "stdout",
     "output_type": "stream",
     "text": [
      "['cat', 'bat', 'elephant']\n"
     ]
    }
   ],
   "source": [
    "spam = ['cat','bat','rat','elephant']\n",
    "del spam[2]\n",
    "print(spam)"
   ]
  },
  {
   "cell_type": "markdown",
   "id": "502db68d-c6a8-4524-a188-a04f902fbac8",
   "metadata": {},
   "source": [
    "### Trik visestruke dodele"
   ]
  },
  {
   "cell_type": "code",
   "execution_count": 33,
   "id": "88f01839-9518-4a89-9708-bb4a06819dcc",
   "metadata": {},
   "outputs": [
    {
     "name": "stdout",
     "output_type": "stream",
     "text": [
      "mrsava,sarena,namcor\n"
     ]
    }
   ],
   "source": [
    "cat = ['mrsava','sarena','namcor']\n",
    "size,color,character = cat\n",
    "#size=cat[0]\n",
    "#color=cat[1]\n",
    "#character=cat[2]\n",
    "print(size,color,character,sep=',')"
   ]
  },
  {
   "cell_type": "markdown",
   "id": "24faf327-5342-4a1e-91ed-feb81c6d9548",
   "metadata": {},
   "source": [
    "## Vrste slicne listama: stringovi i zapisi"
   ]
  },
  {
   "cell_type": "markdown",
   "id": "70e5f466-281f-45d6-9c8b-4ff725588e7e",
   "metadata": {},
   "source": [
    "Liste nisu samo vrste podataka koje predstavljaju uredjene sekvence vrednosti. Na primer, stringovi i liste su, u stvari, slicni ako smatrate da niz listi predstavlja karaktere jednog teksta. Mnoge zadatke koje izvrsavate upotrebom listi mozete da izvrsite i koriscenjem stringova: indeksiranje, isecanje i upotrebu stringova (ili drugacije receno nizova) sa petljama for, funkcijom len() i operatorima in i not in."
   ]
  },
  {
   "cell_type": "code",
   "execution_count": 34,
   "id": "f9b4d42f-9a82-412d-9aaf-563cb5cc14dd",
   "metadata": {},
   "outputs": [
    {
     "name": "stdout",
     "output_type": "stream",
     "text": [
      "K\n",
      "n\n",
      "Kris\n",
      "True\n",
      "False\n"
     ]
    }
   ],
   "source": [
    "name = 'Kristina'\n",
    "print(name[0])\n",
    "print(name[-2])\n",
    "print(name[0:4])\n",
    "print('Kris' in name)\n",
    "print('k' in name)"
   ]
  },
  {
   "cell_type": "markdown",
   "id": "6bc3cbcb-0010-4402-aaac-931252e4e750",
   "metadata": {},
   "source": [
    "### Promenljive i nepromenljive vrste podataka"
   ]
  },
  {
   "cell_type": "markdown",
   "id": "128d37a0-2e9d-48fb-b67b-af5e3fe9478d",
   "metadata": {},
   "source": [
    "Medjutim, liste i stringovi(nizovi) se razlikuju u veoma vaznoj stavci. Vrednosti liste je promenljiva vrsta podataka: vrednosti mogu da se dodaju, uklanjaju i menjaju. Medjutim niz (string) je nepromenljiv."
   ]
  },
  {
   "cell_type": "code",
   "execution_count": 35,
   "id": "d6dc7a3e-bf84-4edd-b4e0-08fb38c2f75a",
   "metadata": {},
   "outputs": [
    {
     "name": "stdout",
     "output_type": "stream",
     "text": [
      "a\n"
     ]
    },
    {
     "ename": "TypeError",
     "evalue": "'str' object does not support item assignment",
     "output_type": "error",
     "traceback": [
      "\u001b[0;31m---------------------------------------------------------------------------\u001b[0m",
      "\u001b[0;31mTypeError\u001b[0m                                 Traceback (most recent call last)",
      "Cell \u001b[0;32mIn[35], line 3\u001b[0m\n\u001b[1;32m      1\u001b[0m name\u001b[38;5;241m=\u001b[39m\u001b[38;5;124m'\u001b[39m\u001b[38;5;124mCica je macka\u001b[39m\u001b[38;5;124m'\u001b[39m\n\u001b[1;32m      2\u001b[0m \u001b[38;5;28mprint\u001b[39m(name[\u001b[38;5;241m3\u001b[39m])\n\u001b[0;32m----> 3\u001b[0m \u001b[43mname\u001b[49m\u001b[43m[\u001b[49m\u001b[38;5;241;43m3\u001b[39;49m\u001b[43m]\u001b[49m\u001b[38;5;241m=\u001b[39m\u001b[38;5;124m'\u001b[39m\u001b[38;5;124mi\u001b[39m\u001b[38;5;124m'\u001b[39m\n",
      "\u001b[0;31mTypeError\u001b[0m: 'str' object does not support item assignment"
     ]
    }
   ],
   "source": [
    "name='Cica je macka'\n",
    "print(name[3])\n",
    "name[3]='i'"
   ]
  },
  {
   "cell_type": "markdown",
   "id": "7626cc4c-85df-4589-a606-bf7af4069917",
   "metadata": {},
   "source": [
    "Pravilan nacin da promenite string je da upotrebite isecanje i spajanje za kreiranje novog niza kopiranjem iz delova starog. "
   ]
  },
  {
   "cell_type": "code",
   "execution_count": 36,
   "id": "979e580d-95bd-40e3-b0a6-d2cae6e9e850",
   "metadata": {},
   "outputs": [
    {
     "name": "stdout",
     "output_type": "stream",
     "text": [
      "Dzau je macor\n"
     ]
    }
   ],
   "source": [
    "name = 'Cica je macka'\n",
    "new_name = 'Dzau' + name[4:8] + 'macor'\n",
    "print(new_name)"
   ]
  },
  {
   "cell_type": "markdown",
   "id": "71184568-bf6e-44e9-8e0e-52413b2f116a",
   "metadata": {},
   "source": [
    "# Vrsta podataka zapis"
   ]
  },
  {
   "cell_type": "markdown",
   "id": "af1cc815-dd90-4884-b2c4-e9cbd4d558ca",
   "metadata": {},
   "source": [
    "Vrsta podataka zapisa je skoro identicna vrsti podataka liste. Izmedju njih postoje samo dve razlike. Prvo, zapisi su napisani u **zagradama** (  ) umesto u uglastim zagradama [  ]. Glavna razlika je sto je zapis, kao i string (niz), **nepromenljiv**. "
   ]
  },
  {
   "cell_type": "code",
   "execution_count": 37,
   "id": "427067b1-f526-47e3-9b80-501b7545879c",
   "metadata": {},
   "outputs": [
    {
     "name": "stdout",
     "output_type": "stream",
     "text": [
      "hello\n",
      "('42', '0.5')\n"
     ]
    },
    {
     "data": {
      "text/plain": [
       "3"
      ]
     },
     "execution_count": 37,
     "metadata": {},
     "output_type": "execute_result"
    }
   ],
   "source": [
    "eggs = ('hello', '42','0.5')\n",
    "print(eggs[0])\n",
    "print(eggs[1:3])\n",
    "len(eggs)"
   ]
  },
  {
   "cell_type": "code",
   "execution_count": 39,
   "id": "02e1822a-4603-4367-9877-a70dd7a83220",
   "metadata": {},
   "outputs": [
    {
     "ename": "TypeError",
     "evalue": "'tuple' object does not support item assignment",
     "output_type": "error",
     "traceback": [
      "\u001b[0;31m---------------------------------------------------------------------------\u001b[0m",
      "\u001b[0;31mTypeError\u001b[0m                                 Traceback (most recent call last)",
      "Cell \u001b[0;32mIn[39], line 1\u001b[0m\n\u001b[0;32m----> 1\u001b[0m \u001b[43meggs\u001b[49m\u001b[43m[\u001b[49m\u001b[38;5;241;43m1\u001b[39;49m\u001b[43m]\u001b[49m\u001b[38;5;241m=\u001b[39m\u001b[38;5;241m99\u001b[39m\n",
      "\u001b[0;31mTypeError\u001b[0m: 'tuple' object does not support item assignment"
     ]
    }
   ],
   "source": [
    "eggs[1]=99"
   ]
  },
  {
   "cell_type": "markdown",
   "id": "7f36dc5a-c4cb-441b-a50f-b5df74180a2f",
   "metadata": {},
   "source": [
    "Prednost zapisa je sto su nepromenljivi, sto znaci da se njihov sadrzaj ne menja, pa Python moze da implementira neke optimizacije koje ce ubrzati kod koji koristi zapise umesto liste. "
   ]
  },
  {
   "cell_type": "markdown",
   "id": "3170f90d-cd50-441d-9c13-4995c1aa3ba8",
   "metadata": {},
   "source": [
    "#### Konvertovanje vrsta pomocu funkcija list() i tuple()"
   ]
  },
  {
   "cell_type": "code",
   "execution_count": 40,
   "id": "ad6d5409-f312-4860-8fe2-32c510cd04a1",
   "metadata": {},
   "outputs": [
    {
     "data": {
      "text/plain": [
       "('cat', 'dog', 5)"
      ]
     },
     "execution_count": 40,
     "metadata": {},
     "output_type": "execute_result"
    }
   ],
   "source": [
    "tuple(['cat','dog',5])"
   ]
  },
  {
   "cell_type": "code",
   "execution_count": 41,
   "id": "9e852aba-5307-437c-82aa-09c1364ba423",
   "metadata": {},
   "outputs": [
    {
     "data": {
      "text/plain": [
       "['cat', 5]"
      ]
     },
     "execution_count": 41,
     "metadata": {},
     "output_type": "execute_result"
    }
   ],
   "source": [
    "list(('cat',5))"
   ]
  },
  {
   "cell_type": "code",
   "execution_count": 42,
   "id": "20689c8b-164c-4840-bb13-fb483f57aa6f",
   "metadata": {},
   "outputs": [
    {
     "data": {
      "text/plain": [
       "['h', 'e', 'l', 'l', 'o']"
      ]
     },
     "execution_count": 42,
     "metadata": {},
     "output_type": "execute_result"
    }
   ],
   "source": [
    "list('hello')"
   ]
  },
  {
   "cell_type": "markdown",
   "id": "f4d6f5fe-e3f7-455c-b11a-8fc5e5fe8ae4",
   "metadata": {
    "tags": []
   },
   "source": [
    "# Vrste podataka Recnici "
   ]
  },
  {
   "cell_type": "markdown",
   "id": "d648bd20-3339-4bb8-bb91-accc023719f3",
   "metadata": {},
   "source": [
    "Kao i lista, *recnik* je kolekcija mnogih vrednosti. Medjutim, za razliku od indeksa za liste, indeksi za recnike mogu da koriste vise razlicitih vrsta podataka, a ne samo cele brojeve. Indeksi za recnike se nazivaju *kljucevi*, a kljuc sa svojim povezanim vrednostima naziva se *par vrednosti kljuca*. <br>\n",
    "U kodu recnik se kuca sa viticastim zagradama. \n"
   ]
  },
  {
   "cell_type": "code",
   "execution_count": 43,
   "id": "acfa8bf2-bc3e-4960-97f1-3e2ab81f4969",
   "metadata": {
    "tags": []
   },
   "outputs": [],
   "source": [
    "myCat = {'size' : 'fat', 'color' : 'gray', 'disposition' : 'loud'}"
   ]
  },
  {
   "cell_type": "code",
   "execution_count": 44,
   "id": "4bff10b6-b1da-4cce-8314-8e7a76ff8342",
   "metadata": {},
   "outputs": [
    {
     "name": "stdout",
     "output_type": "stream",
     "text": [
      "My cat has gray fur.\n"
     ]
    }
   ],
   "source": [
    "myCat['size']\n",
    "print('My cat has '+ myCat['color'] + ' fur.')"
   ]
  },
  {
   "cell_type": "markdown",
   "id": "d9af076a-e569-4092-b292-0d7dea62e6e7",
   "metadata": {},
   "source": [
    "Recnici i dalje mogu da koriste vrednosti celih brojeva kao kljuceve, isto kao sto i liste koriste cele brojeve za indekse, ali kljucevi ne treba da zapocinju sa 0, vec mogu da budu bilo koji broj."
   ]
  },
  {
   "cell_type": "code",
   "execution_count": 45,
   "id": "05f9a835-0fde-4e53-adf4-dd94c684153e",
   "metadata": {},
   "outputs": [
    {
     "data": {
      "text/plain": [
       "'Luggage Combination'"
      ]
     },
     "execution_count": 45,
     "metadata": {},
     "output_type": "execute_result"
    }
   ],
   "source": [
    "spam={ 12345:'Luggage Combination', 42:'The Answer'}\n",
    "spam[12345]"
   ]
  },
  {
   "cell_type": "markdown",
   "id": "db35bd1a-6f4f-4989-b6c0-3162a3798f6f",
   "metadata": {
    "tags": []
   },
   "source": [
    "### Recnik nasuprot Listi"
   ]
  },
  {
   "cell_type": "markdown",
   "id": "0012904e-2260-49df-aae8-d53bfd553ada",
   "metadata": {},
   "source": [
    "Za razliku od liste, stavke u recnicima nisu uredjene. Prva stavka u listi pod nazivom spam bice spam[0]. Medjutim, u recniku ne postoji prva stavka. Iako je redosled stavki vezan za odredjivanje da li su dve liste iste, nije vazno u kom redosledu su uneti parovi vrednosti kljuca u recniku. "
   ]
  },
  {
   "cell_type": "code",
   "execution_count": 46,
   "id": "f6a52bd0-f352-4a76-9831-5e2a5e24e6fc",
   "metadata": {},
   "outputs": [
    {
     "name": "stdout",
     "output_type": "stream",
     "text": [
      "False\n",
      "True\n"
     ]
    }
   ],
   "source": [
    "spam = ['cats', 'dogs','moose']\n",
    "bacon = ['dogs','moose','cats']\n",
    "print(spam == bacon)\n",
    "eggs={'name':'Irida', 'surname':'Lazic','age': 25}\n",
    "ham ={'surname':'Lazic','name':'Irida','age': 25}\n",
    "print(ham == eggs)"
   ]
  },
  {
   "cell_type": "markdown",
   "id": "fd13b9b6-0a47-477e-bf36-7d166360c86f",
   "metadata": {},
   "source": [
    "Posto recnici nisu uredjeni, ne mogu da budu iseceni kao liste. Takodje, pokusaj da pristupite kljuci koji ne postoji u recniku ce rezultirati porukom o gresci *KeyError*, slicno kao i *IndexError* za gresku liste ,,izvan opsega\"."
   ]
  },
  {
   "cell_type": "code",
   "execution_count": 49,
   "id": "ab7265c8-e000-4f61-ba19-8ff964fa6d0e",
   "metadata": {
    "tags": []
   },
   "outputs": [
    {
     "ename": "KeyError",
     "evalue": "'jobs'",
     "output_type": "error",
     "traceback": [
      "\u001b[0;31m---------------------------------------------------------------------------\u001b[0m",
      "\u001b[0;31mKeyError\u001b[0m                                  Traceback (most recent call last)",
      "Cell \u001b[0;32mIn[49], line 2\u001b[0m\n\u001b[1;32m      1\u001b[0m eggs\u001b[38;5;241m=\u001b[39m{\u001b[38;5;124m'\u001b[39m\u001b[38;5;124mname\u001b[39m\u001b[38;5;124m'\u001b[39m:\u001b[38;5;124m'\u001b[39m\u001b[38;5;124mIrida\u001b[39m\u001b[38;5;124m'\u001b[39m, \u001b[38;5;124m'\u001b[39m\u001b[38;5;124msurname\u001b[39m\u001b[38;5;124m'\u001b[39m:\u001b[38;5;124m'\u001b[39m\u001b[38;5;124mLazic\u001b[39m\u001b[38;5;124m'\u001b[39m,\u001b[38;5;124m'\u001b[39m\u001b[38;5;124mage\u001b[39m\u001b[38;5;124m'\u001b[39m: \u001b[38;5;241m25\u001b[39m}\n\u001b[0;32m----> 2\u001b[0m \u001b[43meggs\u001b[49m\u001b[43m[\u001b[49m\u001b[38;5;124;43m'\u001b[39;49m\u001b[38;5;124;43mjobs\u001b[39;49m\u001b[38;5;124;43m'\u001b[39;49m\u001b[43m]\u001b[49m\n",
      "\u001b[0;31mKeyError\u001b[0m: 'jobs'"
     ]
    }
   ],
   "source": [
    "eggs={'name':'Irida', 'surname':'Lazic','age': 25}\n",
    "eggs['jobs']"
   ]
  },
  {
   "cell_type": "markdown",
   "id": "207940aa-41a6-48be-b951-932c7d54b223",
   "metadata": {
    "tags": []
   },
   "source": [
    "### ZAPIS (TUPLE) i poredjenje sa recnikom"
   ]
  },
  {
   "cell_type": "markdown",
   "id": "a012d3b0-3b0c-4800-ba13-4895bb2f01d5",
   "metadata": {},
   "source": [
    "Zapis je tip(klasa) podataka koja je **uredjena i nepromenjiva za razliku od lista i recnika koji su uredjeni i promenljivi.** Dozvoljava clanove koji se ponavljaju. Recnici ne dozvoljavaju clanove koji se ponavljaju a liste dozvoljavaju. "
   ]
  },
  {
   "cell_type": "code",
   "execution_count": 8,
   "id": "6a109650-beab-4fe8-acd1-25924672115e",
   "metadata": {},
   "outputs": [
    {
     "name": "stdout",
     "output_type": "stream",
     "text": [
      "3\n",
      "apple cherry\n"
     ]
    }
   ],
   "source": [
    "thistuple = (\"apple\", \"banana\", \"cherry\")\n",
    "print(len(thistuple))\n",
    "print(thistuple[0],thistuple[-1])"
   ]
  },
  {
   "cell_type": "markdown",
   "id": "9baeaf04-fb9e-4c50-bc73-c3f3243dbb9b",
   "metadata": {},
   "source": [
    "Zapis moze sadrzati razlicite tipove podataka.\n"
   ]
  },
  {
   "cell_type": "code",
   "execution_count": 10,
   "id": "11c8dbbc-f7f2-4c7d-8020-6ea3cb471e93",
   "metadata": {},
   "outputs": [
    {
     "name": "stdout",
     "output_type": "stream",
     "text": [
      "True\n",
      "<class 'tuple'>\n"
     ]
    }
   ],
   "source": [
    "tuple1 = (\"abc\", 34, True, 40, \"male\")\n",
    "print(tuple1[2])\n",
    "print(type(tuple1))\n"
   ]
  },
  {
   "cell_type": "markdown",
   "id": "7a4ae118-7e38-47c8-bed4-fa0c4e9d247f",
   "metadata": {},
   "source": [
    "**Iako je zapis nepromenljiv tip podataka, postoji caka kako je mozete update-ovati.**"
   ]
  },
  {
   "cell_type": "code",
   "execution_count": 12,
   "id": "d7b21b02-89a5-4dda-bc36-6c91d6708ccf",
   "metadata": {},
   "outputs": [
    {
     "name": "stdout",
     "output_type": "stream",
     "text": [
      "['apple', 'banana', 'cherry']\n",
      "('apple', 'kiwi', 'cherry')\n"
     ]
    }
   ],
   "source": [
    "x = (\"apple\", \"banana\", \"cherry\") #zapis\n",
    "y = list(x) #konverzija u listu\n",
    "print(y)\n",
    "\n",
    "y[1] = \"kiwi\" #menjanje vrednosti u listi\n",
    "x = tuple(y)\n",
    "\n",
    "print(x)"
   ]
  },
  {
   "cell_type": "markdown",
   "id": "a7dda200-02f5-4a4d-a533-f8a028d427ec",
   "metadata": {},
   "source": [
    "**Kako dodati novi clan u zapis?**"
   ]
  },
  {
   "cell_type": "code",
   "execution_count": null,
   "id": "55002b20-40ca-4017-b4e7-cdbec813e6b8",
   "metadata": {},
   "outputs": [],
   "source": []
  },
  {
   "cell_type": "markdown",
   "id": "7962b227-6ab6-465b-a9db-b5e55a1970be",
   "metadata": {},
   "source": [
    "## Tip podataka (klasa) SET "
   ]
  },
  {
   "cell_type": "markdown",
   "id": "58b6002d-cacb-4d3f-9776-7d2c527c2d85",
   "metadata": {},
   "source": [
    "Setovi se koriste kako bi se veci broj clanova sacuvao u jednoj variabli. **Set je klasa podataka koja je neuredjena (unordered), nepromenljiva i neindeksirana.** Medjutim, iako je set nepromenljiv tip podataka, clanovi se mogu uklanjati i dodavati. Zapisuju se pomocu viticastih zagrada {}.\n"
   ]
  },
  {
   "cell_type": "code",
   "execution_count": 41,
   "id": "5b98ca77-4a1a-41af-9070-f3ae711ff953",
   "metadata": {},
   "outputs": [
    {
     "name": "stdout",
     "output_type": "stream",
     "text": [
      "{'cherry', True, 2, 'banana', 'apple'}\n",
      "5\n",
      "<class 'set'>\n"
     ]
    }
   ],
   "source": [
    "thisset = {\"apple\", \"banana\", \"cherry\", True, 1, 2}\n",
    "\n",
    "print(thisset)\n",
    "print(len(thisset))\n",
    "print(type(thisset))\n"
   ]
  },
  {
   "cell_type": "markdown",
   "id": "8a008179-d88d-4b52-bc17-1be60ac7f50e",
   "metadata": {},
   "source": [
    "Kako pristupiti clanovima seta? **Kroz loop petlje jer set nema indeksiranje ili kljuceve.** :) "
   ]
  },
  {
   "cell_type": "code",
   "execution_count": 26,
   "id": "08010530-5bca-40ea-b9ec-de73486807d7",
   "metadata": {
    "tags": []
   },
   "outputs": [
    {
     "name": "stdout",
     "output_type": "stream",
     "text": [
      "{'apple', 'orange', 'banana', 'cherry'}\n"
     ]
    }
   ],
   "source": [
    "thisset = {\"apple\", \"banana\", \"cherry\"}\n",
    "\n",
    "thisset.add(\"orange\")\n",
    "\n",
    "print(thisset)"
   ]
  },
  {
   "cell_type": "code",
   "execution_count": 27,
   "id": "6a153d66-f1d9-4204-afbc-da9593fdc39c",
   "metadata": {},
   "outputs": [
    {
     "name": "stdout",
     "output_type": "stream",
     "text": [
      "{'apple', 'papaya', 'banana', 'mango', 'pineapple', 'cherry'}\n"
     ]
    }
   ],
   "source": [
    "thisset = {\"apple\", \"banana\", \"cherry\"}\n",
    "tropical = {\"pineapple\", \"mango\", \"papaya\"}\n",
    "\n",
    "thisset.update(tropical)\n",
    "\n",
    "print(thisset)"
   ]
  },
  {
   "cell_type": "markdown",
   "id": "e14610dc-94e5-4ae5-b691-71adee145c7a",
   "metadata": {
    "tags": []
   },
   "source": [
    "Metodi koji se koriste kod setova su prikazani [ovde](https://www.w3schools.com/python/python_sets_methods.asp)"
   ]
  }
 ],
 "metadata": {
  "kernelspec": {
   "display_name": "Python 3 (ipykernel)",
   "language": "python",
   "name": "python3"
  },
  "language_info": {
   "codemirror_mode": {
    "name": "ipython",
    "version": 3
   },
   "file_extension": ".py",
   "mimetype": "text/x-python",
   "name": "python",
   "nbconvert_exporter": "python",
   "pygments_lexer": "ipython3",
   "version": "3.9.12"
  }
 },
 "nbformat": 4,
 "nbformat_minor": 5
}
