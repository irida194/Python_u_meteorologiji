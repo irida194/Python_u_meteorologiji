{
 "cells": [
  {
   "cell_type": "markdown",
   "id": "a6933e0f-2c4c-4583-8ee7-6e3ef5575cf5",
   "metadata": {},
   "source": [
    "# Citanje i pisanje fajlova"
   ]
  },
  {
   "cell_type": "code",
   "execution_count": 5,
   "id": "893b59f5-a622-4954-a037-e5f5944f49d2",
   "metadata": {},
   "outputs": [
    {
     "data": {
      "text/plain": [
       "'/home/irida/py_scripts/jupyteri_studenti_vezbe23/studenti_programiranje2/basic_part1'"
      ]
     },
     "execution_count": 5,
     "metadata": {},
     "output_type": "execute_result"
    }
   ],
   "source": [
    "import os\n",
    "os.getcwd() #aktuelni radni direktorijum"
   ]
  },
  {
   "cell_type": "raw",
   "id": "da694787-2a2c-4a03-99ad-94c455df1956",
   "metadata": {},
   "source": [
    "Windows - apsolutna putanja 'C:\\\\usr\\\\irida' \n",
    "#obrnute kose crte su duplirane, zato sto svaka kosa crta treba da se upotrebi sa karakterom izlazne sekvence!\n",
    "Linux i OS X - apsolutna putanja home/irida/py_scripts"
   ]
  },
  {
   "cell_type": "code",
   "execution_count": 6,
   "id": "600fdbc2-d23b-4cc0-a07d-cf7635beaed2",
   "metadata": {},
   "outputs": [
    {
     "data": {
      "text/plain": [
       "'home/irida/py_scripts'"
      ]
     },
     "execution_count": 6,
     "metadata": {},
     "output_type": "execute_result"
    }
   ],
   "source": [
    "os.path.join('home','irida','py_scripts') # u zavisnosti na kom smo operativnom sistemu (WINDOWS,LINUX, OS X) pravi putanje "
   ]
  },
  {
   "cell_type": "code",
   "execution_count": 7,
   "id": "021c2d6c-375e-4645-a6b8-7d5042000b0c",
   "metadata": {},
   "outputs": [
    {
     "data": {
      "text/plain": [
       "'/home/irida/py_scripts/jupyteri_studenti_vezbe23/studenti_programiranje2'"
      ]
     },
     "execution_count": 7,
     "metadata": {},
     "output_type": "execute_result"
    }
   ],
   "source": [
    "os.chdir('..') #relativna putanja\n",
    "os.getcwd()"
   ]
  },
  {
   "cell_type": "code",
   "execution_count": 8,
   "id": "c04f826a-e4f9-42f9-ad15-1e46832aba31",
   "metadata": {},
   "outputs": [
    {
     "data": {
      "text/plain": [
       "'/home/irida/py_scripts/jupyteri_studenti_vezbe23/studenti_programiranje2/basic_part1'"
      ]
     },
     "execution_count": 8,
     "metadata": {},
     "output_type": "execute_result"
    }
   ],
   "source": [
    "os.chdir('basic_part1') #relativna putanja\n",
    "os.getcwd()"
   ]
  },
  {
   "cell_type": "code",
   "execution_count": 9,
   "id": "ed23b7e6-daa8-49b7-bbd5-a476d6034929",
   "metadata": {},
   "outputs": [
    {
     "data": {
      "text/plain": [
       "'/home/irida/py_scripts/jupyteri_studenti_vezbe23'"
      ]
     },
     "execution_count": 9,
     "metadata": {},
     "output_type": "execute_result"
    }
   ],
   "source": [
    "os.chdir('/home/irida/py_scripts/jupyteri_studenti_vezbe23') #apsolutna putanja\n",
    "os.getcwd()"
   ]
  },
  {
   "cell_type": "code",
   "execution_count": 10,
   "id": "b116e7b8-8ae6-47b8-b4cd-1fe2e14cf135",
   "metadata": {},
   "outputs": [
    {
     "ename": "FileNotFoundError",
     "evalue": "[Errno 2] No such file or directory: '/home/irida/py_scripts/NEPOSTOJECAADRESA'",
     "output_type": "error",
     "traceback": [
      "\u001b[0;31m---------------------------------------------------------------------------\u001b[0m",
      "\u001b[0;31mFileNotFoundError\u001b[0m                         Traceback (most recent call last)",
      "Cell \u001b[0;32mIn[10], line 1\u001b[0m\n\u001b[0;32m----> 1\u001b[0m \u001b[43mos\u001b[49m\u001b[38;5;241;43m.\u001b[39;49m\u001b[43mchdir\u001b[49m\u001b[43m(\u001b[49m\u001b[38;5;124;43m'\u001b[39;49m\u001b[38;5;124;43m/home/irida/py_scripts/NEPOSTOJECAADRESA\u001b[39;49m\u001b[38;5;124;43m'\u001b[39;49m\u001b[43m)\u001b[49m \u001b[38;5;66;03m#apsolutna putanja\u001b[39;00m\n",
      "\u001b[0;31mFileNotFoundError\u001b[0m: [Errno 2] No such file or directory: '/home/irida/py_scripts/NEPOSTOJECAADRESA'"
     ]
    }
   ],
   "source": [
    "os.chdir('/home/irida/py_scripts/NEPOSTOJECAADRESA') #apsolutna putanja"
   ]
  },
  {
   "cell_type": "code",
   "execution_count": 11,
   "id": "2391e3e0-d00d-48bb-be3a-5c325db5e318",
   "metadata": {},
   "outputs": [
    {
     "name": "stdout",
     "output_type": "stream",
     "text": [
      "/home/irida/py_scripts/jupyteri_studenti_vezbe23\n"
     ]
    },
    {
     "data": {
      "text/plain": [
       "['studenti_programiranje2',\n",
       " 'student@147.91.68.230',\n",
       " 'klimatske_promene_b_23',\n",
       " 'proba']"
      ]
     },
     "execution_count": 11,
     "metadata": {},
     "output_type": "execute_result"
    }
   ],
   "source": [
    "print(os.getcwd())\n",
    "os.rmdir('proba')\n",
    "os.makedirs('proba')\n",
    "os.listdir()"
   ]
  },
  {
   "cell_type": "code",
   "execution_count": 12,
   "id": "d3f15f59-9221-47d1-b945-7df354dab410",
   "metadata": {},
   "outputs": [
    {
     "name": "stdout",
     "output_type": "stream",
     "text": [
      "/home/irida/py_scripts/jupyteri_studenti_vezbe23\n"
     ]
    },
    {
     "data": {
      "text/plain": [
       "'/home/irida/py_scripts/jupyteri_studenti_vezbe23/proba'"
      ]
     },
     "execution_count": 12,
     "metadata": {},
     "output_type": "execute_result"
    }
   ],
   "source": [
    "print(os.path.abspath('.')) #dobijanje aktuelne pozicije u obliku absolutne putanje\n",
    "os.path.abspath('./proba')"
   ]
  },
  {
   "cell_type": "code",
   "execution_count": 13,
   "id": "7bb265e4-94a0-4fc0-9b2e-85734961a502",
   "metadata": {},
   "outputs": [
    {
     "name": "stdout",
     "output_type": "stream",
     "text": [
      "False\n",
      "True\n"
     ]
    }
   ],
   "source": [
    "print(os.path.isabs('.')) #pozivanje funkcije ce vratiti vrednost True ako je argument apsolutna putanja, a vrednost False ako je relativna putanja\n",
    "print(os.path.isabs(os.path.abspath('.')))"
   ]
  },
  {
   "cell_type": "markdown",
   "id": "80a9b49c-cffc-4159-b3d3-6dcda3429d8b",
   "metadata": {},
   "source": [
    "### Pronalazenje velicina fajla i sadrzaja direktorijuma"
   ]
  },
  {
   "cell_type": "code",
   "execution_count": 25,
   "id": "537f7023-3408-4f1e-ad40-9992bf2fdf4f",
   "metadata": {},
   "outputs": [
    {
     "name": "stdout",
     "output_type": "stream",
     "text": [
      "/home/irida/py_scripts/jupyteri_studenti_vezbe23\n",
      "['importovanje_py_programa', 'domaci', 'sveta23_moje_vezbe', '1VasPrviProgram.ipynb', '.ipynb_checkpoints']\n"
     ]
    },
    {
     "data": {
      "text/plain": [
       "273196"
      ]
     },
     "execution_count": 25,
     "metadata": {},
     "output_type": "execute_result"
    }
   ],
   "source": [
    "print(os.getcwd())\n",
    "print(os.listdir('studenti_programiranje2/basic_part1'))\n",
    "os.path.getsize('studenti_programiranje2/basic_part1/1VasPrviProgram.ipynb') #velicina u bajtovima"
   ]
  },
  {
   "cell_type": "markdown",
   "id": "3241a97b-01b4-4344-b235-28462b597891",
   "metadata": {},
   "source": [
    "### Vezba1: Napraviti funkciju koja racuna velicinu fajla u MB. Zaokruziti broj na 2 decimale. "
   ]
  },
  {
   "cell_type": "code",
   "execution_count": null,
   "id": "d4b3c3c8-6412-46d3-ade5-11f89dd4abb5",
   "metadata": {},
   "outputs": [],
   "source": []
  },
  {
   "cell_type": "code",
   "execution_count": 55,
   "id": "057addaf-a358-42c5-af9a-85ac8c40b368",
   "metadata": {},
   "outputs": [
    {
     "name": "stdout",
     "output_type": "stream",
     "text": [
      "1VasPrviProgram.ipynb\n",
      "proba.py\n",
      "importovanje_probe.py\n",
      "proba.cpython-39.pyc\n",
      "1domaci_2.py\n",
      "1domaci3.py\n",
      "2domaci_1-checkpoint.py\n",
      "2domaci2-checkpoint.py\n",
      "5domaci_3-checkpoint.py\n",
      "1domaci_2-checkpoint.py\n",
      "5domaci_1-checkpoint.py\n",
      "2domaci3-checkpoint.py\n",
      "1domaci3-checkpoint.py\n",
      "5domaci_2-checkpoint.py\n",
      "4domaci_1-checkpoint.py\n",
      "2domaci4-checkpoint.py\n",
      "4domaci_2-checkpoint.py\n",
      "2domaci3-checkpoint.py \n",
      "5vezba_1-checkpoint.py\n",
      "5funkcijedodatak_sveta.ipynb\n",
      "4recnik_zapis_set.ipynb\n",
      "1cas.ipynb\n",
      "6nizovi_regex.ipynb\n",
      "3liste.ipynb\n",
      "5Funkcije.ipynb\n",
      "2iskazi_kontrole_toka.ipynb\n",
      "citanje_pisanje_fajlova.ipynb\n",
      "3domaci_2.py\n",
      "6vezba1.py\n",
      "2domaci4.py\n",
      "3vezba_3.py\n",
      "5vezba_2.py\n",
      "4domaci_2.py\n",
      "5domaci_2.py\n",
      "5vezba_1.py\n",
      "6vezba2.py\n",
      "4vezba_1.py\n",
      "3domaci_3.py\n",
      "2domaci_1.py\n",
      "4domaci_1.py\n",
      "3vezba_1.py\n",
      "6vezba3.py\n",
      "2domaci2.py\n",
      "6vezba5.py\n",
      "vezba1.py\n",
      "5domaci_1.py\n",
      "5domaci_3.py\n",
      "6vezba4.py\n",
      "3domaci_1.py\n",
      "3vezba_2.py\n",
      "5domaci_4.py\n",
      "2domaci3.py\n",
      "3vezba_1-checkpoint.py\n",
      "6vezba2-checkpoint.py\n",
      "2domaci_1-checkpoint.py\n",
      "3vezba_2-checkpoint.py\n",
      "2domaci2-checkpoint.py\n",
      "4vezba_1-checkpoint.py\n",
      "6vezba5-checkpoint.py\n",
      "5domaci_1-checkpoint.py\n",
      "2domaci3-checkpoint.py\n",
      "6vezba3-checkpoint.py\n",
      "3vezba_3-checkpoint.py\n",
      "vezba1-checkpoint.py\n",
      "5domaci_4-checkpoint.py\n",
      "5domaci_2-checkpoint.py\n",
      "3domaci_2-checkpoint.py\n",
      "6vezba1-checkpoint.py\n",
      "6vezba4-checkpoint.py\n",
      "4domaci_1-checkpoint.py\n",
      "2domaci4-checkpoint.py\n",
      "4domaci_2-checkpoint.py\n",
      "3domaci_1-checkpoint.py\n",
      "3domaci_3-checkpoint.py\n",
      "5vezba_2-checkpoint.py\n",
      "5vezba_1-checkpoint.py\n",
      "5Funkcije-checkpoint.ipynb\n",
      "2iskazi_kontrole_toka-checkpoint.ipynb\n",
      "citanje_pisanje_fajlova-checkpoint.ipynb\n",
      "6nizovi_regex-checkpoint.ipynb\n",
      "3liste-checkpoint.ipynb\n",
      "5funkcijedodatak_sveta-checkpoint.ipynb\n",
      "4recnik_zapis_set-checkpoint.ipynb\n",
      "1cas-checkpoint.ipynb\n",
      "4liste-checkpoint.ipynb\n",
      "5Funkcije-checkpoint.ipynb\n",
      "2iskazi_kontrole_toka-checkpoint.ipynb\n",
      "Funkcije-checkpoint.ipynb\n",
      "5recnik_zapis_set-checkpoint.ipynb\n",
      "VasPrviProgram-Copy1-checkpoint.ipynb\n",
      "5funkcijedodatak_sveta-checkpoint.ipynb\n",
      "1VasPrviProgram-checkpoint.ipynb\n"
     ]
    }
   ],
   "source": [
    "abspath='/home/irida/py_scripts/jupyteri_studenti_vezbe23/studenti_programiranje2/basic_part1'\n",
    "#root stampa sve direktorijume i subdirektorijume unutar abspath\n",
    "#dirs stampa samo subdirektorijume koje se nalaze u root\n",
    "#stampa sve fajlove unutar direktorijuma\n",
    "\n",
    "for root, dirs, files in os.walk(abspath):\n",
    "    #print(dirs)\n",
    "    for name in files:\n",
    "        print(name)"
   ]
  },
  {
   "cell_type": "markdown",
   "id": "0cc5ec55-3e1c-4e4f-8747-4e57025043d3",
   "metadata": {},
   "source": [
    "### Vezba2: Napraviti funkciju koja racuna velicinu direktorijuma u MB. Dati direktorijum ima subdirektorijume. Zaokruziti broj na 3 decimale. HINT> FOR PETLJA/os.listdir()! "
   ]
  },
  {
   "cell_type": "code",
   "execution_count": 63,
   "id": "0a68eba5-b422-4626-837f-3c5b4563dfce",
   "metadata": {},
   "outputs": [
    {
     "name": "stdout",
     "output_type": "stream",
     "text": [
      "/home/irida/py_scripts/jupyteri_studenti_vezbe23/studenti_programiranje2/basic_part1/1VasPrviProgram.ipynb\n",
      "/home/irida/py_scripts/jupyteri_studenti_vezbe23/studenti_programiranje2/basic_part1/proba.py\n"
     ]
    },
    {
     "ename": "FileNotFoundError",
     "evalue": "[Errno 2] No such file or directory: '/home/irida/py_scripts/jupyteri_studenti_vezbe23/studenti_programiranje2/basic_part1/proba.py'",
     "output_type": "error",
     "traceback": [
      "\u001b[0;31m---------------------------------------------------------------------------\u001b[0m",
      "\u001b[0;31mFileNotFoundError\u001b[0m                         Traceback (most recent call last)",
      "Cell \u001b[0;32mIn[63], line 13\u001b[0m\n\u001b[1;32m     10\u001b[0m     \u001b[38;5;28;01mreturn\u001b[39;00m totalsize\u001b[38;5;241m/\u001b[39m(\u001b[38;5;241m1024\u001b[39m\u001b[38;5;241m*\u001b[39m\u001b[38;5;241m1024\u001b[39m)\n\u001b[1;32m     12\u001b[0m \u001b[38;5;66;03m#get_size_dir('/home/irida/py_scripts/jupyteri_studenti_vezbe23/studenti_programiranje2/basic_part1')\u001b[39;00m\n\u001b[0;32m---> 13\u001b[0m sizemb\u001b[38;5;241m=\u001b[39m\u001b[43mget_size_dir\u001b[49m\u001b[43m(\u001b[49m\u001b[38;5;124;43m'\u001b[39;49m\u001b[38;5;124;43m/home/irida/py_scripts/jupyteri_studenti_vezbe23/studenti_programiranje2/basic_part1\u001b[39;49m\u001b[38;5;124;43m'\u001b[39;49m\u001b[43m)\u001b[49m\n\u001b[1;32m     14\u001b[0m \u001b[38;5;28mprint\u001b[39m(\u001b[38;5;124mf\u001b[39m\u001b[38;5;124m\"\u001b[39m\u001b[38;5;124mUkupna velicina direktorijuma sa svojim poddirektorijumima je \u001b[39m\u001b[38;5;132;01m{\u001b[39;00msizemb\u001b[38;5;132;01m:\u001b[39;00m\u001b[38;5;124m.3f\u001b[39m\u001b[38;5;132;01m}\u001b[39;00m\u001b[38;5;124m MB\u001b[39m\u001b[38;5;124m\"\u001b[39m)\n",
      "Cell \u001b[0;32mIn[63], line 9\u001b[0m, in \u001b[0;36mget_size_dir\u001b[0;34m(abspathdir)\u001b[0m\n\u001b[1;32m      7\u001b[0m         file_path\u001b[38;5;241m=\u001b[39mos\u001b[38;5;241m.\u001b[39mpath\u001b[38;5;241m.\u001b[39mjoin(abspathdir,name)\n\u001b[1;32m      8\u001b[0m         \u001b[38;5;28mprint\u001b[39m(file_path)\n\u001b[0;32m----> 9\u001b[0m         totalsize\u001b[38;5;241m=\u001b[39mtotalsize\u001b[38;5;241m+\u001b[39m\u001b[43mos\u001b[49m\u001b[38;5;241;43m.\u001b[39;49m\u001b[43mpath\u001b[49m\u001b[38;5;241;43m.\u001b[39;49m\u001b[43mgetsize\u001b[49m\u001b[43m(\u001b[49m\u001b[43mfile_path\u001b[49m\u001b[43m)\u001b[49m\n\u001b[1;32m     10\u001b[0m \u001b[38;5;28;01mreturn\u001b[39;00m totalsize\u001b[38;5;241m/\u001b[39m(\u001b[38;5;241m1024\u001b[39m\u001b[38;5;241m*\u001b[39m\u001b[38;5;241m1024\u001b[39m)\n",
      "File \u001b[0;32m~/anaconda3/lib/python3.9/genericpath.py:50\u001b[0m, in \u001b[0;36mgetsize\u001b[0;34m(filename)\u001b[0m\n\u001b[1;32m     48\u001b[0m \u001b[38;5;28;01mdef\u001b[39;00m \u001b[38;5;21mgetsize\u001b[39m(filename):\n\u001b[1;32m     49\u001b[0m \u001b[38;5;250m    \u001b[39m\u001b[38;5;124;03m\"\"\"Return the size of a file, reported by os.stat().\"\"\"\u001b[39;00m\n\u001b[0;32m---> 50\u001b[0m     \u001b[38;5;28;01mreturn\u001b[39;00m \u001b[43mos\u001b[49m\u001b[38;5;241;43m.\u001b[39;49m\u001b[43mstat\u001b[49m\u001b[43m(\u001b[49m\u001b[43mfilename\u001b[49m\u001b[43m)\u001b[49m\u001b[38;5;241m.\u001b[39mst_size\n",
      "\u001b[0;31mFileNotFoundError\u001b[0m: [Errno 2] No such file or directory: '/home/irida/py_scripts/jupyteri_studenti_vezbe23/studenti_programiranje2/basic_part1/proba.py'"
     ]
    }
   ],
   "source": [
    "import os\n",
    "\n",
    "def get_size_dir(abspathdir):\n",
    "    totalsize=0\n",
    "    for root,dirs,files in os.walk(abspathdir):\n",
    "        for name in files:\n",
    "            file_path=os.path.join(abspathdir,name)\n",
    "            print(file_path)\n",
    "            totalsize=totalsize+os.path.getsize(file_path)\n",
    "    return totalsize/(1024*1024)\n",
    "\n",
    "#get_size_dir('/home/irida/py_scripts/jupyteri_studenti_vezbe23/studenti_programiranje2/basic_part1')\n",
    "sizemb=get_size_dir('/home/irida/py_scripts/jupyteri_studenti_vezbe23/studenti_programiranje2/basic_part1')\n",
    "print(f\"Ukupna velicina direktorijuma sa svojim poddirektorijumima je {sizemb:.3f} MB\")"
   ]
  },
  {
   "cell_type": "code",
   "execution_count": null,
   "id": "32ab6723-a5be-4180-9ee2-6e0c51c1639b",
   "metadata": {},
   "outputs": [],
   "source": []
  }
 ],
 "metadata": {
  "kernelspec": {
   "display_name": "Python 3 (ipykernel)",
   "language": "python",
   "name": "python3"
  },
  "language_info": {
   "codemirror_mode": {
    "name": "ipython",
    "version": 3
   },
   "file_extension": ".py",
   "mimetype": "text/x-python",
   "name": "python",
   "nbconvert_exporter": "python",
   "pygments_lexer": "ipython3",
   "version": "3.9.12"
  }
 },
 "nbformat": 4,
 "nbformat_minor": 5
}
