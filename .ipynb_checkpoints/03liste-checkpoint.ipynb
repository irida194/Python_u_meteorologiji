{
 "cells": [
  {
   "cell_type": "markdown",
   "id": "8c7d3606",
   "metadata": {},
   "source": [
    "# Vrste podataka LISTE\n"
   ]
  },
  {
   "cell_type": "markdown",
   "id": "564796a4",
   "metadata": {},
   "source": [
    "Jos jedna tema koju treba da razumete pre nego sto ozbiljno zapocnete pisanja programa su vrste podataka liste i njen ,,rodjak\" zapis. Liste i zapisi mogu da sadrze vise vrednosti, sto olaksava pisanje programa koji rukuju velikim kolicinama podataka. A posto same liste mogu da sadrze druge liste, mozete da ih upotrebite za uredjivanje podataka u hijerarhijskoj strukturi. <br>\n",
    "\n",
    "Lista je vrednost koja sadrzi vise vrednosti u **uredjenom nizu**. Vrednosti unutar liste se nazivaju i stavke. Stavke su *odvojene zarezima*."
   ]
  },
  {
   "cell_type": "code",
   "execution_count": 1,
   "id": "7fe60016",
   "metadata": {},
   "outputs": [
    {
     "name": "stdout",
     "output_type": "stream",
     "text": [
      "['cat', 'bat', 'rat', 'elephant']\n",
      "<class 'list'>\n",
      "[]\n"
     ]
    }
   ],
   "source": [
    "spam = ['cat','bat','rat','elephant']\n",
    "prazna_lista=[]\n",
    "print(spam)\n",
    "print(type(spam))\n",
    "print(prazna_lista)"
   ]
  },
  {
   "cell_type": "code",
   "execution_count": 2,
   "id": "4a7a2b40",
   "metadata": {},
   "outputs": [
    {
     "name": "stdout",
     "output_type": "stream",
     "text": [
      "Vrednost prve stavke je u listi spam cat\n",
      "Vrednost druge stavke je u listi spam bat\n",
      "rat\n"
     ]
    }
   ],
   "source": [
    "print('Vrednost prve stavke je u listi spam '+ spam[0])\n",
    "print('Vrednost druge stavke je u listi spam '+ spam[1])\n",
    "print(spam[2])\n"
   ]
  },
  {
   "cell_type": "code",
   "execution_count": 3,
   "id": "f9e4b978",
   "metadata": {},
   "outputs": [
    {
     "ename": "IndexError",
     "evalue": "list index out of range",
     "output_type": "error",
     "traceback": [
      "\u001b[0;31m---------------------------------------------------------------------------\u001b[0m",
      "\u001b[0;31mIndexError\u001b[0m                                Traceback (most recent call last)",
      "Cell \u001b[0;32mIn[3], line 1\u001b[0m\n\u001b[0;32m----> 1\u001b[0m \u001b[38;5;28mprint\u001b[39m(\u001b[43mspam\u001b[49m\u001b[43m[\u001b[49m\u001b[38;5;241;43m1000\u001b[39;49m\u001b[43m]\u001b[49m)\n",
      "\u001b[0;31mIndexError\u001b[0m: list index out of range"
     ]
    }
   ],
   "source": [
    "print(spam[1000])"
   ]
  },
  {
   "cell_type": "code",
   "execution_count": 4,
   "id": "8be49e85",
   "metadata": {},
   "outputs": [
    {
     "ename": "TypeError",
     "evalue": "list indices must be integers or slices, not float",
     "output_type": "error",
     "traceback": [
      "\u001b[0;31m---------------------------------------------------------------------------\u001b[0m",
      "\u001b[0;31mTypeError\u001b[0m                                 Traceback (most recent call last)",
      "Cell \u001b[0;32mIn[4], line 1\u001b[0m\n\u001b[0;32m----> 1\u001b[0m \u001b[38;5;28mprint\u001b[39m(\u001b[43mspam\u001b[49m\u001b[43m[\u001b[49m\u001b[38;5;241;43m1.0\u001b[39;49m\u001b[43m]\u001b[49m)\n",
      "\u001b[0;31mTypeError\u001b[0m: list indices must be integers or slices, not float"
     ]
    }
   ],
   "source": [
    "print(spam[1.0])"
   ]
  },
  {
   "cell_type": "code",
   "execution_count": 5,
   "id": "8e1719bd",
   "metadata": {},
   "outputs": [
    {
     "name": "stdout",
     "output_type": "stream",
     "text": [
      "['cat', 'bat']\n",
      "bat\n",
      "10\n"
     ]
    }
   ],
   "source": [
    "spam = [['cat','bat'],[10,20,30,40,50]]\n",
    "print(spam[0])\n",
    "print(spam[0][1])\n",
    "print(spam[1][0])\n"
   ]
  },
  {
   "cell_type": "markdown",
   "id": "d32a0dc1",
   "metadata": {},
   "source": [
    "#### Negativni indeksi"
   ]
  },
  {
   "cell_type": "code",
   "execution_count": 1,
   "id": "f3add947",
   "metadata": {},
   "outputs": [
    {
     "name": "stdout",
     "output_type": "stream",
     "text": [
      "elephant\n",
      "bat\n",
      "[1, 'bat', 'rat', 'elephant']\n"
     ]
    }
   ],
   "source": [
    "spam = ['cat','bat','rat','elephant']\n",
    "print(spam[-1]) #poslednji indeks u listi\n",
    "print(spam[-3])\n",
    "spam[0]=1\n",
    "print(spam)\n"
   ]
  },
  {
   "cell_type": "markdown",
   "id": "e0f34285",
   "metadata": {},
   "source": [
    "#### Dobijanje podliste pomocu isecaka"
   ]
  },
  {
   "cell_type": "code",
   "execution_count": 6,
   "id": "e18b23ea",
   "metadata": {},
   "outputs": [
    {
     "name": "stdout",
     "output_type": "stream",
     "text": [
      "['cat', 'bat']\n",
      "['cat', 'bat']\n",
      "ime1\n"
     ]
    }
   ],
   "source": [
    "spam = ['cat','bat','rat','elephant']\n",
    "print(spam[0:2]) #Isecak ide do vrednosti drugog indeksa ali je ne ukljucuje\n",
    "print(spam[:2])\n",
    "string1='ime1'\n",
    "print(string1[:])"
   ]
  },
  {
   "cell_type": "code",
   "execution_count": 8,
   "id": "baa5fa27",
   "metadata": {},
   "outputs": [
    {
     "name": "stdout",
     "output_type": "stream",
     "text": [
      "['bat', 'rat', 'elephant']\n"
     ]
    }
   ],
   "source": [
    "print(spam[1:]) #Ako izostavite drugi indeks, to je isto kao da upotrebite duzinu liste\n",
    "#bice isecena do kraja liste"
   ]
  },
  {
   "cell_type": "markdown",
   "id": "172ee30d",
   "metadata": {},
   "source": [
    "### Dobijanje duzine liste pomocu funkcije len()"
   ]
  },
  {
   "cell_type": "code",
   "execution_count": 9,
   "id": "eda30e0e",
   "metadata": {},
   "outputs": [
    {
     "name": "stdout",
     "output_type": "stream",
     "text": [
      "4\n"
     ]
    }
   ],
   "source": [
    "spam = ['cat','bat','rat','elephant']\n",
    "print(len(spam))"
   ]
  },
  {
   "cell_type": "markdown",
   "id": "75b58833",
   "metadata": {},
   "source": [
    "### Menjanje vrednosti u listi pomocu indeksa"
   ]
  },
  {
   "cell_type": "code",
   "execution_count": 10,
   "id": "87a1eb28",
   "metadata": {},
   "outputs": [
    {
     "name": "stdout",
     "output_type": "stream",
     "text": [
      "['cat', 'djjdjdj', 'elephant', 'elephant']\n"
     ]
    }
   ],
   "source": [
    "spam = ['cat','bat','rat','elephant']\n",
    "spam[1] = 'djjdjdj'\n",
    "spam[2] = spam[3]\n",
    "print(spam)"
   ]
  },
  {
   "cell_type": "markdown",
   "id": "da1cf93d",
   "metadata": {},
   "source": [
    "### Spajanje i ponavljanje liste"
   ]
  },
  {
   "cell_type": "code",
   "execution_count": 14,
   "id": "89dce64d",
   "metadata": {},
   "outputs": [
    {
     "name": "stdout",
     "output_type": "stream",
     "text": [
      "['cat', 'bat', 'rat', 'elephant', 1, 2, 3]\n",
      "['cat', 'bat', 'rat', 'elephant', 1, 2, 3, 'cat', 'bat', 'rat', 'elephant', 1, 2, 3, 'cat', 'bat', 'rat', 'elephant', 1, 2, 3]\n",
      "ime1ime1ime1\n",
      "[5, 7, 9]\n",
      "5\n",
      "7\n",
      "9\n"
     ]
    }
   ],
   "source": [
    "spam = ['cat','bat','rat','elephant']\n",
    "spam = spam + [1,2,3]\n",
    "spam3 = spam * 3\n",
    "print(spam)\n",
    "print(spam3)\n",
    "string1='ime1'\n",
    "print(string1*3)\n",
    "\n",
    "x=[1,2,3]\n",
    "y=[4,5,6]\n",
    "#z=[5,7,9]\n",
    "z=[]\n",
    "\n",
    "for i in range(len(x)):\n",
    "    z.append(x[i]+y[i])\n",
    "print(z)\n",
    "for i in z:\n",
    "    print(i)"
   ]
  },
  {
   "cell_type": "markdown",
   "id": "61d30918",
   "metadata": {},
   "source": [
    "### Uklanjanje vrednosti iz liste pomocu iskaza del"
   ]
  },
  {
   "cell_type": "code",
   "execution_count": 31,
   "id": "56572834",
   "metadata": {},
   "outputs": [
    {
     "name": "stdout",
     "output_type": "stream",
     "text": [
      "['cat', 'bat', 'elephant']\n"
     ]
    }
   ],
   "source": [
    "spam = ['cat','bat','rat','elephant']\n",
    "del spam[2]\n",
    "print(spam)"
   ]
  },
  {
   "cell_type": "markdown",
   "id": "1d22c34a",
   "metadata": {},
   "source": [
    "# Primer - Upotreba listi\n",
    "\n",
    "allMyCats.py"
   ]
  },
  {
   "cell_type": "code",
   "execution_count": 15,
   "id": "928f38e5",
   "metadata": {},
   "outputs": [
    {
     "name": "stdout",
     "output_type": "stream",
     "text": [
      "Unesi ime 1. macke ili pritisni enter ako si zavrsio\n"
     ]
    },
    {
     "name": "stdin",
     "output_type": "stream",
     "text": [
      " cica\n"
     ]
    },
    {
     "name": "stdout",
     "output_type": "stream",
     "text": [
      "Unesi ime 2. macke ili pritisni enter ako si zavrsio\n"
     ]
    },
    {
     "name": "stdin",
     "output_type": "stream",
     "text": [
      " \n"
     ]
    },
    {
     "name": "stdout",
     "output_type": "stream",
     "text": [
      "Imena macaka su :\n",
      "   cica\n"
     ]
    }
   ],
   "source": [
    "catNames = []\n",
    "while True:\n",
    "    print('Unesi ime '+ str(len(catNames)+1) + '. macke' + \\\n",
    "         ' ili pritisni enter ako si zavrsio')\n",
    "    name=input()\n",
    "    if name == '':\n",
    "        break\n",
    "    catNames = catNames + [name] #spajanje listi\n",
    "print('Imena macaka su :')\n",
    "for name in catNames:\n",
    "    print('   '+ name)"
   ]
  },
  {
   "cell_type": "code",
   "execution_count": 2,
   "id": "e7255e33",
   "metadata": {},
   "outputs": [
    {
     "name": "stdout",
     "output_type": "stream",
     "text": [
      "[12, 14]\n"
     ]
    }
   ],
   "source": [
    "a=[5,6]\n",
    "b=[7,8]\n",
    "c=[]\n",
    "for i in range(len(b)):\n",
    "    ci=a[i]+b[i]\n",
    "    c.append(ci)\n",
    "print(c)"
   ]
  },
  {
   "cell_type": "markdown",
   "id": "ca2d0e95",
   "metadata": {
    "tags": []
   },
   "source": [
    "### 1. Zadatak za vezbu: Napisati python kod koji ce najpre traziti da unesete clanove x niza (jedan po jedan clan sa tastature uneti), a zatim i clanove y niza. Clanove unositi sa tastature sve dok se ne pritisne Enter kada se prekida punjenje x niza i zapocinje punjenje sledeceg y niza. Podesiti dodatni uslov da broj clanova u y nizu ne sme da predje broj clanova u x nizu. Izracunati z niz koji je istih dimenzija kao x i y niz i koji je dobijen sabiranjem clanova x i y (z[0]=x[0]+y[0] itd..). Stampati na ekran rezultat."
   ]
  },
  {
   "cell_type": "code",
   "execution_count": null,
   "id": "a7f07f5b",
   "metadata": {},
   "outputs": [],
   "source": [
    "x=[]\n",
    "y=[]\n",
    "z=[]\n",
    "while True:\n",
    "    print('Unesi x niz')\n",
    "    xi=input()\n",
    "    if xi=='':\n",
    "        break\n",
    "    x.append(int(xi))\n",
    "\n",
    "while len(y)<len(x):\n",
    "    print('Unesi y niz')\n",
    "    yi=input()\n",
    "    if yi=='':\n",
    "        continue\n",
    "    y.append(int(yi))\n",
    "\n",
    "\n",
    "for i in range(len(x)):\n",
    "    z.append(x[i]+y[i])\n",
    "print(x,y,z)"
   ]
  },
  {
   "cell_type": "markdown",
   "id": "9bd66fdc",
   "metadata": {},
   "source": [
    "### Upotreba petlji for u listama"
   ]
  },
  {
   "cell_type": "code",
   "execution_count": 12,
   "id": "04b54ace",
   "metadata": {},
   "outputs": [
    {
     "name": "stdout",
     "output_type": "stream",
     "text": [
      "Indeks 0 u listi spam je olovka\n",
      "Indeks 1 u listi spam je flomaster\n",
      "Indeks 2 u listi spam je sveska\n",
      "Indeks 3 u listi spam je lenjir\n"
     ]
    }
   ],
   "source": [
    "spam = ['olovka','flomaster','sveska','lenjir']\n",
    "\n",
    "for i in range(len(spam)): #ne obuhvata poslednji indeks\n",
    "    print('Indeks ' + str(i) + ' u listi spam je ' + spam[i])\n"
   ]
  },
  {
   "cell_type": "markdown",
   "id": "2193bd72",
   "metadata": {},
   "source": [
    "### Operatori in i not in"
   ]
  },
  {
   "cell_type": "code",
   "execution_count": 2,
   "id": "21b5bece",
   "metadata": {},
   "outputs": [
    {
     "name": "stdout",
     "output_type": "stream",
     "text": [
      "False\n",
      "True\n"
     ]
    }
   ],
   "source": [
    "print('srce' in ['olovka','flomaster','sveska','lenjir'])\n",
    "print('i' in 'irida')\n"
   ]
  },
  {
   "cell_type": "code",
   "execution_count": 14,
   "id": "6eadae15",
   "metadata": {},
   "outputs": [
    {
     "name": "stdout",
     "output_type": "stream",
     "text": [
      "Unesi ime\n"
     ]
    },
    {
     "name": "stdin",
     "output_type": "stream",
     "text": [
      " Cica\n"
     ]
    },
    {
     "name": "stdout",
     "output_type": "stream",
     "text": [
      "Cica je moj ljubimac.\n"
     ]
    }
   ],
   "source": [
    "myPets = ['Cica','Njunja','Dzau']\n",
    "print('Unesi ime')\n",
    "name = input()\n",
    "if name not in myPets:\n",
    "    print('Nemam ime ' + name + ' u spisku imena')\n",
    "else:\n",
    "    print(name + ' je moj ljubimac.')"
   ]
  },
  {
   "cell_type": "markdown",
   "id": "9b7c3c7b",
   "metadata": {},
   "source": [
    "### Trik visestruke dodele"
   ]
  },
  {
   "cell_type": "code",
   "execution_count": 13,
   "id": "1a85bfd1",
   "metadata": {},
   "outputs": [
    {
     "name": "stdout",
     "output_type": "stream",
     "text": [
      "mrsava,sarena,namcor\n"
     ]
    }
   ],
   "source": [
    "cat = ['mrsava','sarena','namcor']\n",
    "size,color,character = cat\n",
    "#size=cat[0]\n",
    "#color=cat[1]\n",
    "#character=cat[2]\n",
    "print(size,color,character,sep=',')"
   ]
  },
  {
   "cell_type": "markdown",
   "id": "0b4e00d7",
   "metadata": {},
   "source": [
    "### Operatori naglasene dodele\n",
    "\n",
    "Kada dodeljujete vrednost promenljive, cesto cete koristiti samu promenljivu.\n",
    "Operatori +=, -=, *=, /=, %="
   ]
  },
  {
   "cell_type": "code",
   "execution_count": 15,
   "id": "b418679b",
   "metadata": {},
   "outputs": [
    {
     "name": "stdout",
     "output_type": "stream",
     "text": [
      "43\n"
     ]
    }
   ],
   "source": [
    "spam = 42\n",
    "spam += 1 \n",
    "#spam=spam+1\n",
    "print(spam)"
   ]
  },
  {
   "cell_type": "markdown",
   "id": "8e06a6a7",
   "metadata": {},
   "source": [
    "## Metodi"
   ]
  },
  {
   "cell_type": "markdown",
   "id": "81677c3f",
   "metadata": {},
   "source": [
    "Metod je isto sto i funkcija, svaka vrsta podataka ima svoj set metoda.\n",
    "Metode liste i ostalih tipova podataka mozete pronaci [ovde](https://docs.python.org/3/tutorial/datastructures.html)"
   ]
  },
  {
   "cell_type": "markdown",
   "id": "cecf0024",
   "metadata": {},
   "source": [
    "### Pronalazenje vrednosti u listi pomocu metoda index()\n",
    "\n",
    "Kada postoje duplikati vrednosti u listi, vracen je indeks prvog primera.\n"
   ]
  },
  {
   "cell_type": "code",
   "execution_count": 4,
   "id": "219fc884",
   "metadata": {},
   "outputs": [
    {
     "name": "stdout",
     "output_type": "stream",
     "text": [
      "2\n"
     ]
    }
   ],
   "source": [
    "spam = ['hello','hi', 'hey']\n",
    "print(spam.index('hey'))"
   ]
  },
  {
   "cell_type": "markdown",
   "id": "87e12c6b",
   "metadata": {},
   "source": [
    "### Dodavanje vrednosti u liste pomocu metoda append() i insert()\n",
    "\n",
    "Ovi metodi pripadaju samo metodama lista i mogu da se pozovu samo za vrednosti liste, a ne za druge vrednosti. \n"
   ]
  },
  {
   "cell_type": "markdown",
   "id": "19e817e6",
   "metadata": {},
   "source": [
    "<div class=\"alert-danger\">\n",
    ">> Metod append() i insert() ne daju novu vrednost promenljive, vec je lista modifikovana u mestu!(vracena vrednost ova dva metoda je None)\n",
    "</div>"
   ]
  },
  {
   "cell_type": "code",
   "execution_count": 20,
   "id": "b0abefcb",
   "metadata": {},
   "outputs": [
    {
     "name": "stdout",
     "output_type": "stream",
     "text": [
      "['cat', 'dog', 'bat', 'moose']\n"
     ]
    }
   ],
   "source": [
    "spam = ['cat','dog','bat']\n",
    "spam.append('moose') #dodaje argument na kraj liste \n",
    "print(spam)"
   ]
  },
  {
   "cell_type": "code",
   "execution_count": 21,
   "id": "3f5adcb3",
   "metadata": {},
   "outputs": [
    {
     "name": "stdout",
     "output_type": "stream",
     "text": [
      "['cat', 'chicken', 'dog', 'bat', 'moose']\n"
     ]
    }
   ],
   "source": [
    "spam.insert(1,'chicken')\n",
    "print(spam)"
   ]
  },
  {
   "cell_type": "code",
   "execution_count": 4,
   "id": "339a77e7",
   "metadata": {},
   "outputs": [
    {
     "ename": "AttributeError",
     "evalue": "'str' object has no attribute 'append'",
     "output_type": "error",
     "traceback": [
      "\u001b[0;31m---------------------------------------------------------------------------\u001b[0m",
      "\u001b[0;31mAttributeError\u001b[0m                            Traceback (most recent call last)",
      "\u001b[0;32m<ipython-input-4-e022e436ebf4>\u001b[0m in \u001b[0;36m<module>\u001b[0;34m()\u001b[0m\n\u001b[1;32m      1\u001b[0m \u001b[0meggs\u001b[0m\u001b[0;34m=\u001b[0m\u001b[0;34m'hello'\u001b[0m\u001b[0;34m\u001b[0m\u001b[0;34m\u001b[0m\u001b[0m\n\u001b[1;32m      2\u001b[0m \u001b[0;31m#eggs[0]='a'\u001b[0m\u001b[0;34m\u001b[0m\u001b[0;34m\u001b[0m\u001b[0;34m\u001b[0m\u001b[0m\n\u001b[0;32m----> 3\u001b[0;31m \u001b[0meggs\u001b[0m\u001b[0;34m.\u001b[0m\u001b[0mappend\u001b[0m\u001b[0;34m(\u001b[0m\u001b[0;34m'world'\u001b[0m\u001b[0;34m)\u001b[0m\u001b[0;34m\u001b[0m\u001b[0;34m\u001b[0m\u001b[0m\n\u001b[0m",
      "\u001b[0;31mAttributeError\u001b[0m: 'str' object has no attribute 'append'"
     ]
    }
   ],
   "source": [
    "eggs='hello'\n",
    "#eggs[0]='a'\n",
    "eggs.append('world')"
   ]
  },
  {
   "cell_type": "markdown",
   "id": "b703b92a",
   "metadata": {},
   "source": [
    "### Uklanjanje vrednosti iz liste pomocu metoda remove()\n",
    "\n",
    "Ako se vrednost prikaze vise puta u listi, bice uklonjen samo prvi primer vrednosti!"
   ]
  },
  {
   "cell_type": "code",
   "execution_count": 8,
   "id": "eb8a5ffa",
   "metadata": {},
   "outputs": [
    {
     "name": "stdout",
     "output_type": "stream",
     "text": [
      "['cat', 'bat']\n",
      "['bat']\n"
     ]
    }
   ],
   "source": [
    "spam = ['cat','dog','bat']\n",
    "spam.remove('dog')\n",
    "print(spam)\n",
    "del spam[0]\n",
    "print(spam)"
   ]
  },
  {
   "cell_type": "markdown",
   "id": "85db1784",
   "metadata": {},
   "source": [
    "Iskaz del je dobro upotrebiti kada znate indeks vrednosti koju zelite da uklonite iz liste. Metod remove() je dobar kada znate vrednost koju zelite da uklonite iz liste."
   ]
  },
  {
   "cell_type": "markdown",
   "id": "a6e11410",
   "metadata": {},
   "source": [
    "### 2. Zadatak za vezbu: Data je lista temp=['NaN',10,8,13,'NaN','NaN',15]. Ukloniti sve NaN vrednosti iz ove liste. "
   ]
  },
  {
   "cell_type": "code",
   "execution_count": 1,
   "id": "0dcc0550",
   "metadata": {},
   "outputs": [
    {
     "name": "stdout",
     "output_type": "stream",
     "text": [
      "[10, 8, 13, 15]\n"
     ]
    }
   ],
   "source": [
    "temp=['NaN',10,8,13,'NaN','NaN',15]\n",
    "#temp.remove('NaN')\n",
    "#print(temp)\n",
    "\n",
    "#while 'NaN' in temp:\n",
    "#    temp.remove('NaN')\n",
    "#print(temp)\n",
    "\n",
    "temp=[x for x in temp if x!='NaN']\n",
    "print(temp)"
   ]
  },
  {
   "cell_type": "markdown",
   "id": "e79bbdbf",
   "metadata": {},
   "source": [
    "### Kreiranje nove liste na osnovu vrednosti postojeće liste! - KRACA SINTAKSA <br> newlist = [expression for item in iterable if condition == True]"
   ]
  },
  {
   "cell_type": "code",
   "execution_count": 23,
   "id": "041fd535",
   "metadata": {},
   "outputs": [
    {
     "name": "stdout",
     "output_type": "stream",
     "text": [
      "[1, 4, 25]\n",
      "[12, 34, 5]\n"
     ]
    }
   ],
   "source": [
    "oldlist=[1,2,5,'proba','sintaksa']\n",
    "\n",
    "newlist=[x**2 for x in oldlist if \"a\" not in str(x) ]\n",
    "print(newlist)\n",
    "newlist1=[x**2 for x in newlist]\n",
    "\n",
    "temp=[0,12,34,5]\n",
    "newlist=[x for x in temp if x>0]\n",
    "print(newlist)\n",
    "\n",
    "temp1=[]\n",
    "for i in temp:\n",
    "    temp1.append(i)"
   ]
  },
  {
   "cell_type": "markdown",
   "id": "082b3ade",
   "metadata": {},
   "source": [
    "### Sortiranje vrednosti u listi pomocu metoda sort\n",
    "\n",
    "1. Sortira listu u mestu, nemojte pokusavati da uhvatite vracenu vrednost pisanje koda kao sto je spam=spam.sort()!\n",
    "\n",
    "2. Ne mozete da sortirate liste koje imaju numericke vrednosti i vrednosti stringova - Type error\n",
    "\n",
    "3. Metod sort koristi *ASCIIbetical order*, umesto abecednog redosleda za sortiranje stringova. To znaci da velika slova dolaze ispred malih (Na primer malo slovo a dolazi posle velikog slova Z)."
   ]
  },
  {
   "cell_type": "code",
   "execution_count": 29,
   "id": "b4cf1dda",
   "metadata": {},
   "outputs": [
    {
     "name": "stdout",
     "output_type": "stream",
     "text": [
      "[200, 64, 10.2, 7, 5, 1, 0.5]\n"
     ]
    }
   ],
   "source": [
    "spam = [200,5,7,1,0.5,10.2,64]\n",
    "spam.sort(reverse=True)\n",
    "print(spam)"
   ]
  },
  {
   "cell_type": "code",
   "execution_count": 29,
   "id": "868cd52c",
   "metadata": {},
   "outputs": [
    {
     "name": "stdout",
     "output_type": "stream",
     "text": [
      "['Andjela', 'Dejan', 'Jovana', 'Lazar', 'Nikola']\n",
      "['Nikola', 'Lazar', 'Jovana', 'Dejan', 'Andjela']\n"
     ]
    }
   ],
   "source": [
    "spam = ['Jovana','Andjela','Nikola','Dejan','Lazar']\n",
    "spam.sort()\n",
    "print(spam)\n",
    "spam.sort(reverse=True)\n",
    "print(spam)"
   ]
  },
  {
   "cell_type": "markdown",
   "id": "a8e343b5",
   "metadata": {},
   "source": [
    "Ako treba da sortirate vrednosti u regularnom abecednom redosledu, prosledite str.lower za argument kljucne reci key u pozivu metoda sort()"
   ]
  },
  {
   "cell_type": "code",
   "execution_count": 32,
   "id": "665cad69",
   "metadata": {},
   "outputs": [
    {
     "name": "stdout",
     "output_type": "stream",
     "text": [
      "['A', 'Z', 'a', 'z']\n",
      "['A', 'a', 'Z', 'z']\n"
     ]
    }
   ],
   "source": [
    "spam = ['a','z','A','Z']\n",
    "spam.sort()\n",
    "print(spam) \n",
    "#Ako printam spam.sort() dobijam vrednost None- objasnjeno gore!\n",
    "spam.sort(key=str.lower)\n",
    "print(spam)\n"
   ]
  },
  {
   "cell_type": "markdown",
   "id": "0634345f",
   "metadata": {},
   "source": [
    "### Primer programa Magic 8 Ball sa listom"
   ]
  },
  {
   "attachments": {
    "064823f2-78b7-49ab-8ae0-2f9a263b2190.png": {
     "image/png": "[encoded data removed]"
    }
   },
   "cell_type": "markdown",
   "id": "35e1864c",
   "metadata": {},
   "source": [
    "![image.png](attachment:064823f2-78b7-49ab-8ae0-2f9a263b2190.png)"
   ]
  },
  {
   "cell_type": "markdown",
   "id": "2db479d4",
   "metadata": {},
   "source": [
    "> Koristeci liste, mozete da napisete mnogo elegantniju verziju programa Magic 8 Ball iz prethodnog poglavlja. <br>\n",
    "Umesto nekoliko linija skoro identicnih elif iskaza, mozete da kreirate jednu listu koju cete koristiti."
   ]
  },
  {
   "cell_type": "markdown",
   "id": "2d6a8d0a",
   "metadata": {},
   "source": [
    "## 3. Zadatak za vezbu: Dopuniti python kod: <br> import random <br> messages = ['It is certain',<br> 'It is decidedly so', <br> 'Yes definitely', <br> 'Reply hazy try again', <br> 'Ask again later', <br> 'Concentrate and ask again', <br> 'My reply is no', <br> 'Outlook not so good', <br> 'Very doubtful'] <br>"
   ]
  },
  {
   "cell_type": "code",
   "execution_count": 41,
   "id": "1de418dc",
   "metadata": {},
   "outputs": [
    {
     "name": "stdout",
     "output_type": "stream",
     "text": [
      "Very doubtful\n"
     ]
    }
   ],
   "source": [
    "import random\n",
    "messages = ['It is certain',\n",
    "'It is decidedly so',\n",
    "'Yes definitely',\n",
    "'Reply hazy try again',\n",
    "'Ask again later',\n",
    "'Concentrate and ask again',\n",
    "'My reply is no',\n",
    "'Outlook not so good',\n",
    "'Very doubtful']\n",
    "#print(random.randint(0,10))\n",
    "print(messages[random.randint(0,len(messages)-1)])"
   ]
  },
  {
   "cell_type": "markdown",
   "id": "8a80aa23",
   "metadata": {},
   "source": [
    "#### Kao sto vidite u prethodnom primeru, liste mogu da obuhvate nekoliko linija u fajlu izvornog koda. Uvlacenje ovih linija nije vazno; Python ,,zna'' da, dok se ne vidi zatvorena uglasta zagrada, lista nije zavrsena. Naravnom prakticno govoreci, vecina ljudi koristi ponasanje Pythona da bi ucinila svoje liste lepim i citkim, kao sto je lista poruka u programu Magic 8 Ball. <br>\n",
    "\n"
   ]
  },
  {
   "cell_type": "markdown",
   "id": "7b082433",
   "metadata": {},
   "source": [
    "#### Mozete da razdvojite jednu instrukciju na vise linija pomocu karaktera za nastavak linije \\, na kraju linije. Karakter \\ zamislite kao da ,,kaze'':,, Ova instrukcija se nastavlja u sledecoj liniji''. "
   ]
  },
  {
   "cell_type": "code",
   "execution_count": 52,
   "id": "a606fb57",
   "metadata": {},
   "outputs": [
    {
     "name": "stdout",
     "output_type": "stream",
     "text": [
      "Osvojili smo zlatnu medalju 2008. godine u Budimpesi\n",
      "Osvojili \\ndkdkdk\n",
      "proba\n",
      "jddjdjd\n",
      "hello\n"
     ]
    }
   ],
   "source": [
    "print('Osvojili smo '+ \\\n",
    "    'zlatnu medalju 2008. godine '+ \\\n",
    "    'u Budimpesi')\n",
    "\n",
    "print(\"Osvojili \\\\n\"\n",
    "\"dkdkdk\")\n",
    "print(\"\"\"proba\n",
    "jddjdjd\"\"\")\n",
    "#Ovo jejddsdddddddddddsad\n",
    "#dhdhdhdhdhdh\n",
    "#hdhdhdhdh\n",
    "\n",
    "\"\"\"Ovo jes ssssssssssssss\n",
    "ssssssssssssssss\n",
    "ssssssssssssss\"\"\"\n",
    "print('hello')"
   ]
  },
  {
   "cell_type": "markdown",
   "id": "7ae45b6d",
   "metadata": {},
   "source": [
    "## Vrste slicne listama: stringovi i zapisi"
   ]
  },
  {
   "cell_type": "markdown",
   "id": "1cb77203",
   "metadata": {},
   "source": [
    "Liste nisu samo vrste podataka koje predstavljaju uredjene sekvence vrednosti. Na primer, stringovi i liste su, u stvari, slicni ako smatrate da niz listi predstavlja karaktere jednog teksta. Mnoge zadatke koje izvrsavate upotrebom listi mozete da izvrsite i koriscenjem stringova: indeksiranje, isecanje i upotrebu stringova (ili drugacije receno nizova) sa petljama for, funkcijom len() i operatorima in i not in."
   ]
  },
  {
   "cell_type": "code",
   "execution_count": 17,
   "id": "44cc70ce",
   "metadata": {},
   "outputs": [
    {
     "name": "stdout",
     "output_type": "stream",
     "text": [
      "K\n",
      "n\n",
      "Kris\n",
      "True\n",
      "False\n",
      "* * * K * * *\n",
      "* * * r * * *\n",
      "* * * i * * *\n",
      "* * * s * * *\n",
      "* * * t * * *\n",
      "* * * i * * *\n",
      "* * * n * * *\n",
      "* * * a * * *\n"
     ]
    }
   ],
   "source": [
    "name = 'Kristina'\n",
    "print(name[0])\n",
    "print(name[-2])\n",
    "print(name[0:4])\n",
    "print('Kris' in name)\n",
    "print('k' in name)\n",
    "for i in name:\n",
    "    print('* * * '+i+' * * *')"
   ]
  },
  {
   "cell_type": "markdown",
   "id": "c11d9593",
   "metadata": {},
   "source": [
    "### Promenljive i nepromenljive vrste podataka"
   ]
  },
  {
   "cell_type": "markdown",
   "id": "e1781424",
   "metadata": {},
   "source": [
    "Medjutim, liste i stringovi(nizovi) se razlikuju u veoma vaznoj stavci. Vrednosti liste je promenljiva vrsta podataka: vrednosti mogu da se dodaju, uklanjaju i menjaju. Medjutim niz (string) je nepromenljiv."
   ]
  },
  {
   "cell_type": "code",
   "execution_count": 69,
   "id": "2a1f2731",
   "metadata": {},
   "outputs": [
    {
     "name": "stdout",
     "output_type": "stream",
     "text": [
      "a\n"
     ]
    },
    {
     "ename": "TypeError",
     "evalue": "'str' object does not support item assignment",
     "output_type": "error",
     "traceback": [
      "\u001b[0;31m---------------------------------------------------------------------------\u001b[0m",
      "\u001b[0;31mTypeError\u001b[0m                                 Traceback (most recent call last)",
      "Cell \u001b[0;32mIn[69], line 3\u001b[0m\n\u001b[1;32m      1\u001b[0m name\u001b[38;5;241m=\u001b[39m\u001b[38;5;124m'\u001b[39m\u001b[38;5;124mCica je macka\u001b[39m\u001b[38;5;124m'\u001b[39m\n\u001b[1;32m      2\u001b[0m \u001b[38;5;28mprint\u001b[39m(name[\u001b[38;5;241m3\u001b[39m])\n\u001b[0;32m----> 3\u001b[0m \u001b[43mname\u001b[49m\u001b[43m[\u001b[49m\u001b[38;5;241;43m3\u001b[39;49m\u001b[43m]\u001b[49m\u001b[38;5;241m=\u001b[39m\u001b[38;5;124m'\u001b[39m\u001b[38;5;124mi\u001b[39m\u001b[38;5;124m'\u001b[39m\n",
      "\u001b[0;31mTypeError\u001b[0m: 'str' object does not support item assignment"
     ]
    }
   ],
   "source": [
    "name='Cica je macka'\n",
    "print(name[3])\n",
    "name[3]='i'"
   ]
  },
  {
   "cell_type": "markdown",
   "id": "3618bec0",
   "metadata": {},
   "source": [
    "Pravilan nacin da promenite string je da upotrebite isecanje i spajanje za kreiranje novog niza kopiranjem iz delova starog. "
   ]
  },
  {
   "cell_type": "code",
   "execution_count": 30,
   "id": "8d69017c",
   "metadata": {},
   "outputs": [
    {
     "name": "stdout",
     "output_type": "stream",
     "text": [
      "Dzau je macor\n"
     ]
    }
   ],
   "source": [
    "name = 'Cica je macka'\n",
    "new_name = 'Dzau' + name[4:8] + 'macor'\n",
    "print(new_name)"
   ]
  },
  {
   "cell_type": "markdown",
   "id": "83cb46b0",
   "metadata": {},
   "source": [
    "Iako  je vrednost liste promenljiva, druga linija u sledecem kodu ne modifikuje listu eggs, vec cena nova i drugacija vrednost liste [4,5,6] **prepisuje** staru vrednost liste [1,2,3]."
   ]
  },
  {
   "cell_type": "code",
   "execution_count": 3,
   "id": "ca5070a3",
   "metadata": {},
   "outputs": [
    {
     "name": "stdout",
     "output_type": "stream",
     "text": [
      "139975188297280\n",
      "[4, 5, 6]\n"
     ]
    },
    {
     "data": {
      "text/plain": [
       "139975188317632"
      ]
     },
     "execution_count": 3,
     "metadata": {},
     "output_type": "execute_result"
    }
   ],
   "source": [
    "eggs= [1,2,3]\n",
    "print(id(eggs))\n",
    "eggs= [4,5,6]\n",
    "print(eggs)\n",
    "id(eggs)"
   ]
  },
  {
   "cell_type": "markdown",
   "id": "429fe9c4",
   "metadata": {},
   "source": [
    "Ako zelite da modifikujete originalnu listu, uradite sledece (Ova lista je samo promenjena a nije prepisana):"
   ]
  },
  {
   "cell_type": "code",
   "execution_count": 4,
   "id": "637d3069",
   "metadata": {},
   "outputs": [
    {
     "name": "stdout",
     "output_type": "stream",
     "text": [
      "139975188319168\n",
      "[4, 5, 6]\n",
      "139975188319168\n"
     ]
    }
   ],
   "source": [
    "eggs=[1,2,3]\n",
    "print(id(eggs))\n",
    "del eggs[2]\n",
    "del eggs[1]\n",
    "del eggs[0]\n",
    "eggs.append(4)\n",
    "eggs.append(5)\n",
    "eggs.append(6)\n",
    "print(eggs)\n",
    "print(id(eggs))"
   ]
  },
  {
   "cell_type": "markdown",
   "id": "01e58c7c",
   "metadata": {},
   "source": [
    "Iskaz *del* i metod *append()* modifikuju istu vrednost liste u mestu."
   ]
  },
  {
   "cell_type": "markdown",
   "id": "743f91fc",
   "metadata": {},
   "source": [
    "### Vrsta podataka zapisa"
   ]
  },
  {
   "cell_type": "markdown",
   "id": "ecdb31ae",
   "metadata": {},
   "source": [
    "Vrsta podataka zapisa je skoro identicna vrsti podataka liste. Izmedju njih postoje samo dve razlike. Prvo, zapisi su napisani u **zagradama** (  ) umesto u uglastim zagradama [  ]. Glavna razlika je sto je zapis, kao i string (niz), **nepromenljiv**. "
   ]
  },
  {
   "cell_type": "code",
   "execution_count": 73,
   "id": "fe8101ee",
   "metadata": {},
   "outputs": [
    {
     "name": "stdout",
     "output_type": "stream",
     "text": [
      "hello\n",
      "('42', '0.5')\n"
     ]
    },
    {
     "data": {
      "text/plain": [
       "3"
      ]
     },
     "execution_count": 73,
     "metadata": {},
     "output_type": "execute_result"
    }
   ],
   "source": [
    "eggs = ('hello', '42','0.5')\n",
    "print(eggs[0])\n",
    "print(eggs[1:3])\n",
    "len(eggs)"
   ]
  },
  {
   "cell_type": "code",
   "execution_count": 74,
   "id": "f8b7aad5",
   "metadata": {},
   "outputs": [
    {
     "ename": "TypeError",
     "evalue": "'tuple' object does not support item assignment",
     "output_type": "error",
     "traceback": [
      "\u001b[0;31m---------------------------------------------------------------------------\u001b[0m",
      "\u001b[0;31mTypeError\u001b[0m                                 Traceback (most recent call last)",
      "Cell \u001b[0;32mIn[74], line 1\u001b[0m\n\u001b[0;32m----> 1\u001b[0m \u001b[43meggs\u001b[49m\u001b[43m[\u001b[49m\u001b[38;5;241;43m1\u001b[39;49m\u001b[43m]\u001b[49m\u001b[38;5;241m=\u001b[39m\u001b[38;5;241m99\u001b[39m\n",
      "\u001b[0;31mTypeError\u001b[0m: 'tuple' object does not support item assignment"
     ]
    }
   ],
   "source": [
    "eggs[1]=99"
   ]
  },
  {
   "cell_type": "markdown",
   "id": "6b335142",
   "metadata": {},
   "source": [
    "Prednost zapisa je sto su nepromenljivi, sto znaci da se njihov sadrzaj ne menja, pa Python moze da implementira neke optimizacije koje ce ubrzati kod koji koristi zapise umesto liste. "
   ]
  },
  {
   "cell_type": "markdown",
   "id": "ebe7e380",
   "metadata": {},
   "source": [
    "#### Konvertovanje vrsta pomocu funkcija list() i tuple()"
   ]
  },
  {
   "cell_type": "code",
   "execution_count": 10,
   "id": "f8a468bd",
   "metadata": {},
   "outputs": [
    {
     "data": {
      "text/plain": [
       "('cat', 'dog', 5)"
      ]
     },
     "execution_count": 10,
     "metadata": {},
     "output_type": "execute_result"
    }
   ],
   "source": [
    "tuple(['cat','dog',5])"
   ]
  },
  {
   "cell_type": "code",
   "execution_count": 11,
   "id": "b7216f84",
   "metadata": {},
   "outputs": [
    {
     "data": {
      "text/plain": [
       "['cat', 5]"
      ]
     },
     "execution_count": 11,
     "metadata": {},
     "output_type": "execute_result"
    }
   ],
   "source": [
    "list(('cat',5))"
   ]
  },
  {
   "cell_type": "code",
   "execution_count": 12,
   "id": "3262aa8a",
   "metadata": {},
   "outputs": [
    {
     "data": {
      "text/plain": [
       "['h', 'e', 'l', 'l', 'o']"
      ]
     },
     "execution_count": 12,
     "metadata": {},
     "output_type": "execute_result"
    }
   ],
   "source": [
    "list('hello')"
   ]
  },
  {
   "cell_type": "code",
   "execution_count": 56,
   "id": "8cb015ae",
   "metadata": {},
   "outputs": [
    {
     "name": "stdout",
     "output_type": "stream",
     "text": [
      "[1, 1, 5, 10]\n"
     ]
    }
   ],
   "source": [
    "a=(0,1,5,10)\n",
    "b=list(a)\n",
    "b[0]=1\n",
    "print(b)"
   ]
  },
  {
   "cell_type": "markdown",
   "id": "2bbb6932",
   "metadata": {},
   "source": [
    "### Reference"
   ]
  },
  {
   "cell_type": "code",
   "execution_count": 14,
   "id": "2f4a0fbc",
   "metadata": {},
   "outputs": [
    {
     "name": "stdout",
     "output_type": "stream",
     "text": [
      "100\n",
      "45\n"
     ]
    }
   ],
   "source": [
    "spam=45\n",
    "cheese=spam\n",
    "spam=100\n",
    "print(spam)\n",
    "print(cheese)"
   ]
  },
  {
   "cell_type": "markdown",
   "id": "39b4a008",
   "metadata": {},
   "source": [
    "Kao sto se vidi na gore navedenom primeru, spam i cheese su razlicite promenljive. Medjutim liste ne funkcionisu na ovaj nacin. Kada dodelite listu u promenljivu, vi u stvari, dodeljujete **referencu liste u promenljivu**.\n",
    "Referenca je vrednost koja ukazuje na neke podatke, a referenca liste je vrednost koja ukazuje na listu. "
   ]
  },
  {
   "cell_type": "code",
   "execution_count": 11,
   "id": "674ac4fe",
   "metadata": {},
   "outputs": [
    {
     "name": "stdout",
     "output_type": "stream",
     "text": [
      "[0, 'hello', 2, 3, 4, 5]\n",
      "[0, 'hello', 2, 3, 4, 5]\n",
      "140127010936192\n",
      "140127010936192\n"
     ]
    }
   ],
   "source": [
    "spam=[0,1,2,3,4,5]\n",
    "cheese=spam\n",
    "cheese[1]='hello'\n",
    "print(spam)\n",
    "print(cheese)\n",
    "print(id(cheese))\n",
    "print(id(spam))"
   ]
  },
  {
   "cell_type": "markdown",
   "id": "22dddc90",
   "metadata": {},
   "source": [
    "<div class='alert-danger'> Promenjene su obe liste - i cheese i spam! </div>"
   ]
  },
  {
   "cell_type": "markdown",
   "id": "2779b7c0",
   "metadata": {},
   "source": [
    "Kada kreirate listu, dodelite joj referencu u promenljivoj spam. Medjutim, sledeca linija kopira samo referencu liste u listi spam i cheese, a ne samu vrednost liste. To znaci da se vrednosti koje su sacuvane u listama spam i cheese sada odnose na istu listu. Postoji samo jedna lista, zato sto sama lista nikada, u stvari nije bila kopirana. "
   ]
  },
  {
   "cell_type": "markdown",
   "id": "dcfbd1a1",
   "metadata": {},
   "source": [
    "Ne zaboravite da su promenljive kao kutije koje sadrze vrednosti, dok promenljive liste, u stvari ne sadrze liste, vec reference ka listama. Ove reference ce imati ID brojeve koje Python koristi interno, ali mozete da ih ignorisete."
   ]
  },
  {
   "cell_type": "markdown",
   "id": "cd614265",
   "metadata": {},
   "source": [
    "Podsetnik: Svaki objekat U Puthon-u je jednoznacno definisan **tipom-type()**, **identitetom- id()** i **vrednoscu**. **Tip (klasa)** objekta pored skupa dozvoljenih vrednosti, odredjuje i operacije koje se mogu obaviti nad objektom (npr klasa celobrojnih, realnih i kompleksnih brojeva, logicki tip, tekstualni, zapis, lista, skup, recnik nedefinisani, itd..). **Objekti** imaju ugradjena ponasanja u zavisnoti od tipa, odnosno nad njima se mogu izvrsavati pojedine operacije koje se zovu metodama. **Metode** su (funkcije) koje su definisane unutar objektnog tipa i koji se vezuju za konkretan objekat. **Identitet** predstavlja lokciju u memoriji i ne moze se promeniti kada se objekat kreira."
   ]
  },
  {
   "cell_type": "markdown",
   "id": "0b526406",
   "metadata": {},
   "source": [
    "<div class='alert-danger' \n",
    "NAPOMENA: Za vrednosti nepromenljive vrste podataka, kao sto su stringovi(nizovi), celi brojevi ili zapisi, Python promenljive ce cuvati same vrednosti. Kod lista i recnika puthon koristi \n",
    "</div>"
   ]
  },
  {
   "attachments": {
    "b7c2edee-e532-4609-8fe0-cc67aa651d56.png": {
     "image/png": "[encoded data removed]"
    }
   },
   "cell_type": "markdown",
   "id": "4f1778b9",
   "metadata": {},
   "source": [
    "<div class='alert-danger'> NAPOMENA: Python koristi reference kad god promenljiva treba da cuva vrednosti promenljive vrste podataka, kao sto su liste ili recnici. Za vrednosti nepromenljive vrste podataka, kao sto su nizovi, celi brojevi ili zapisi, Python promenljive ce cuvati same vrednosti.</div![Screenshot 2023-03-27 182442.png](attachment:b7c2edee-e532-4609-8fe0-cc67aa651d56.png)>"
   ]
  },
  {
   "attachments": {
    "66d00ccf-d88e-4d96-83a3-90ad8b3ca222.png": {
     "image/png": "[encoded data removed]"
    }
   },
   "cell_type": "markdown",
   "id": "b7184722",
   "metadata": {},
   "source": [
    "![Screenshot 2023-03-27 182442.png](attachment:66d00ccf-d88e-4d96-83a3-90ad8b3ca222.png)"
   ]
  },
  {
   "attachments": {
    "2a9e57a4-84fe-4631-846d-a84b4ac65525.png": {
     "image/png": "[encoded data removed]"
    }
   },
   "cell_type": "markdown",
   "id": "d4dba0b0",
   "metadata": {},
   "source": [
    "![Screenshot 2023-03-27 183051.png](attachment:2a9e57a4-84fe-4631-846d-a84b4ac65525.png)"
   ]
  },
  {
   "cell_type": "markdown",
   "id": "e222f94b",
   "metadata": {},
   "source": [
    "### Funkcije copy() i deepcopy() modula copy"
   ]
  },
  {
   "cell_type": "markdown",
   "id": "952455a9",
   "metadata": {},
   "source": [
    "Funkcija copy.copy() moze da se upotrebi za kreiranje duplikata promenljive vrednosti, kao sto su lista ili recnik, a ne samo za kopiranje reference. Ako lista koju treba da kopirate sadrzi liste, upotrebite funckiju copy.deepcopy() umesto copy.copy(). Funkcija deepcopy() ce kopirati i ove unutrasnje liste."
   ]
  },
  {
   "cell_type": "code",
   "execution_count": 22,
   "id": "a0d10ad5",
   "metadata": {},
   "outputs": [
    {
     "name": "stdout",
     "output_type": "stream",
     "text": [
      "140094664040320\n",
      "140094664221824\n",
      "['A', 'B', 'C']\n",
      "['A', 42, 'C']\n"
     ]
    }
   ],
   "source": [
    "import copy\n",
    "spam=['A','B','C']\n",
    "print(id(spam))\n",
    "\n",
    "cheese=copy.copy(spam)\n",
    "print(id(cheese))\n",
    "cheese[1]=42\n",
    "\n",
    "print(spam)\n",
    "print(cheese)"
   ]
  },
  {
   "cell_type": "code",
   "execution_count": 61,
   "id": "e2c6dfdf",
   "metadata": {},
   "outputs": [
    {
     "name": "stdout",
     "output_type": "stream",
     "text": [
      "[[1, 4, 3, 6], [2, 3]] [[1, 4, 3, 6], 'NaN']\n"
     ]
    }
   ],
   "source": [
    "import copy\n",
    "x1=[[1,4,3,6],[2,3]]\n",
    "#x2=copy.deepcopy(x1)\n",
    "x2=copy.copy(x1)\n",
    "x2[1]='NaN'\n",
    "print(x1,x2)"
   ]
  },
  {
   "cell_type": "markdown",
   "id": "7d7e610e",
   "metadata": {},
   "source": [
    "# Zadaci za vezbu"
   ]
  },
  {
   "cell_type": "markdown",
   "id": "ce84f3ba",
   "metadata": {},
   "source": [
    "1. Izracunati visinu lopte posle svakog odbijanja (napraviti listu) od tla i ukupan broj odbijanja lopte koja je bacena sa visine od 1 m. Posle svakog odbijanja, visina joj se smanji za 20 % od prethodno dostignute visine. Smatrati da se lopta zaustavi kada dostigne visinu od 1cm. Faktor odbijanja je 0.8. "
   ]
  },
  {
   "cell_type": "code",
   "execution_count": null,
   "id": "97d68da6-f75b-4ed4-9aff-7ddf133b5e37",
   "metadata": {},
   "outputs": [],
   "source": []
  },
  {
   "cell_type": "markdown",
   "id": "987ce295",
   "metadata": {},
   "source": [
    "2. Nacrtati trajektoriju (parabola) projektila bacenog u vazduh. Pocetna pozicija projektila je x=0,y=0 a pocetne brzine su vx=10,vy=10. Korak u vremenu prilikom racuna je 0.01s a ukupno vreme simulacije je 2s. Projektil se krece u smeru x ose. "
   ]
  },
  {
   "cell_type": "code",
   "execution_count": null,
   "id": "e2dc5b11-d8c1-438e-982a-cb54b85a0af9",
   "metadata": {},
   "outputs": [],
   "source": []
  },
  {
   "cell_type": "markdown",
   "id": "73ba81db",
   "metadata": {},
   "source": [
    "3. Naci minimalnu,maksimalnu i srednju vrednost liste temp=[18,14,10,15,14,19,20,24,28,30,31,28,24,18,22]"
   ]
  },
  {
   "cell_type": "code",
   "execution_count": null,
   "id": "3cae35ad-370c-440b-bd80-248e88539d11",
   "metadata": {},
   "outputs": [],
   "source": []
  }
 ],
 "metadata": {
  "kernelspec": {
   "display_name": "Python 3 (ipykernel)",
   "language": "python",
   "name": "python3"
  },
  "language_info": {
   "codemirror_mode": {
    "name": "ipython",
    "version": 3
   },
   "file_extension": ".py",
   "mimetype": "text/x-python",
   "name": "python",
   "nbconvert_exporter": "python",
   "pygments_lexer": "ipython3",
   "version": "3.9.12"
  }
 },
 "nbformat": 4,
 "nbformat_minor": 5
}
