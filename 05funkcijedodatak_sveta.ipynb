{
 "cells": [
  {
   "cell_type": "code",
   "execution_count": 2,
   "id": "01d7e9d6-db74-47f8-a359-6fef614ecf62",
   "metadata": {},
   "outputs": [
    {
     "name": "stdout",
     "output_type": "stream",
     "text": [
      "1.7325\n",
      "1.752\n",
      "Najvisi ucenik je visok: 1.8m\n",
      "1.7325\n"
     ]
    }
   ],
   "source": [
    "def prosecnaVisinaUzPomocListe(listaVisina):\n",
    "    return sum(listaVisina) / len(listaVisina)\n",
    "\n",
    "listaVisina1 = [1.60, 1.80, 1.80, 1.73]\n",
    "prosecnaVisinaPM2 = prosecnaVisinaUzPomocListe(listaVisina1)\n",
    "print(prosecnaVisinaPM2)\n",
    "\n",
    "listaVisina2 = [1.60, 1.80, 1.80, 1.73, 1.83]\n",
    "prosecnaVisinaPM21 = prosecnaVisinaUzPomocListe(listaVisina2)\n",
    "print(prosecnaVisinaPM21)\n",
    "\n",
    "\n",
    "def prosecnaVisina(*visine):\n",
    "    print('Najvisi ucenik je visok: ' + str(max(visine)) + 'm')\n",
    "    return sum(visine) / len(visine)\n",
    "\n",
    "prosek = prosecnaVisina(1.60, 1.80, 1.80, 1.73)\n",
    "print(prosek)"
   ]
  },
  {
   "cell_type": "markdown",
   "id": "83373d07-0772-4520-88a9-98a07ad82cf8",
   "metadata": {},
   "source": [
    "U Pythonu ne možete direktno vratiti više vrednosti sa jednom return naredbom. Međutim, možete vratiti više vrednosti kao tuple, a zatim raspakovati vrednosti kada pozivate funkciju. Evo kako to možete uraditi:"
   ]
  },
  {
   "cell_type": "code",
   "execution_count": 21,
   "id": "faeea773-3e53-4fe6-8e62-96e10d1847e5",
   "metadata": {},
   "outputs": [
    {
     "name": "stdout",
     "output_type": "stream",
     "text": [
      "19.411 23.7\n"
     ]
    }
   ],
   "source": [
    "def avg_max_temp(temps):\n",
    "    avgT=sum(temps)/len(temps)\n",
    "    maxT=max(temps)\n",
    "    return avgT, maxT\n",
    "\n",
    "temps=[16.3, 15, 17.8, 20.1, 22, 23.1, 23.7, 18, 18.7]\n",
    "#avg_max_temp(temps) #vraca kao rezultat tuple\n",
    "avgT, maxT = avg_max_temp(temps) #trik visestruke dodele\n",
    "print(round(avgT,3),maxT)"
   ]
  },
  {
   "cell_type": "markdown",
   "id": "dc02de2e-b9e7-40ad-8297-6c7273d07643",
   "metadata": {},
   "source": [
    "U primeru ispod, znak * se koristi kako biste omogućili da funkcija avg_max_temp prima proizvoljan broj argumenata. Kada koristite * ispred parametra funkcije, to označava da taj parametar prima proizvoljan broj argumenata i pretvara ih u tuple."
   ]
  },
  {
   "cell_type": "code",
   "execution_count": 10,
   "id": "f4442ed7-bfd1-4503-a562-0e368eb97b6b",
   "metadata": {},
   "outputs": [
    {
     "name": "stdout",
     "output_type": "stream",
     "text": [
      "<class 'tuple'>\n",
      "19.411 23.7\n"
     ]
    }
   ],
   "source": [
    "def avg_max_temp(*temps):\n",
    "    print(type(temps))\n",
    "    avgT=sum(temps)/len(temps)\n",
    "    maxT=max(temps)\n",
    "    return avgT, maxT\n",
    "\n",
    "avgT, maxT = avg_max_temp(16.3, 15, 17.8, 20.1, 22, 23.1, 23.7, 18, 18.7) #trik visestruke dodele\n",
    "print(round(avgT,3),maxT)"
   ]
  },
  {
   "cell_type": "markdown",
   "id": "9e689697-57ae-4a6e-abef-1963e9ac743f",
   "metadata": {},
   "source": [
    "**REKURZIVNO POZIVANJE FUNKCIJE**\n",
    "\n",
    "Evo kako funkcija radi:\n",
    "\n",
    "Ako je n jednako 1, funkcija će vratiti 1. Ovo je bazni slučaj rekurzije, jer je faktorijel broja 1 jednak 1.\n",
    "\n",
    "U suprotnom, ako n nije jednako 1, funkcija će rekurzivno pozvati samu sebe sa argumentom n - 1 i pomnožiti rezultat tog poziva sa n. To znači da će faktorijel broja n biti jednak n pomnoženo sa faktorijelom broja n - 1.\n",
    "\n",
    "Ovo će se nastaviti rekurzivno pozivati sve dok ne dođe do baznog slučaja (kada je n jednako 1), a zatim će se vrednosti faktorijela brojeva ugnježdenih poziva rekurzije pomnožiti kako bi se dobila konačna vrednost faktorijela broja n.\n",
    "\n",
    "Na primer, ako pozovemo faktRekurzija(5), funkcija će izračunati faktorijel broja 5 na sledeći način:\n",
    "\n",
    "faktRekurzija(5) = 5 * faktRekurzija(4) <br>\n",
    "faktRekurzija(4) = 4 * faktRekurzija(3) <br>\n",
    "faktRekurzija(3) = 3 * faktRekurzija(2) <br>\n",
    "faktRekurzija(2) = 2 * faktRekurzija(1) <br>\n",
    "faktRekurzija(1) = 1 (bazni slučaj)"
   ]
  },
  {
   "cell_type": "code",
   "execution_count": null,
   "id": "9ce34aca-ccc7-49fd-b08c-6e6a950ae91f",
   "metadata": {},
   "outputs": [],
   "source": [
    "#Izbegavati jer je racunski skupo\n",
    "def faktRekurzija(n):\n",
    "    if n == 1:\n",
    "        return 1\n",
    "    else:\n",
    "        return n * faktRekurzija(n - 1)\n",
    "\n",
    "faktRekurzija(5)"
   ]
  },
  {
   "cell_type": "markdown",
   "id": "06b90f2b-fa33-4584-981b-89b78b92b86f",
   "metadata": {},
   "source": [
    "1. **SPORO IZVRSENJE** :Svaki put kad se funkcija rekurzivno poziva, podaci o pozivu funkcije (stanje) moraju biti smešteni na stek poziva. To uključuje informacije o argumentima i lokalnim promenljivima. Ako rekurzija ide duboko ili ako ima mnogo rekurzivnih poziva, stek poziva može postati veoma dubok, što može dovesti do potrošnje velike količine memorije.\n",
    "\n",
    "2. **Vreme izvršenja**: Rekurzivna funkcija može biti spora zbog ponovljenih poziva same sebe. Svaki put kad se funkcija pozove rekurzivno, mora se izvršiti nova instanca funkcije, sa svim overheadom povezanim sa pozivom funkcije, uključujući i dodatne operacije poput testiranja uslova za bazni slučaj i prelaza argumenata.\n",
    "\n",
    "3. **Teškoće sa čitanjem i održavanjem koda**: Rekurzivni kod često može biti teži za čitanje i održavanje u poređenju sa iterativnim pristupom. Pored toga, postoji opasnost od grešaka prilikom razvoja rekurzivnih funkcija, uključujući beskonačne petlje i prevelike dubine rekurzije."
   ]
  },
  {
   "cell_type": "markdown",
   "id": "971e7ad3-8516-4ab2-a419-6a5722f21095",
   "metadata": {},
   "source": [
    "#SMISLITI PRIMER REKURZIJE SAMI"
   ]
  },
  {
   "cell_type": "code",
   "execution_count": 16,
   "id": "698b6851-09f0-4020-a278-d4b7da7e02d2",
   "metadata": {},
   "outputs": [
    {
     "name": "stdout",
     "output_type": "stream",
     "text": [
      "10\n"
     ]
    }
   ],
   "source": [
    "def suma(n):\n",
    "    if n == 1:\n",
    "        return 1\n",
    "    else:\n",
    "        return n+suma(n-1)\n",
    "print(suma(4))"
   ]
  },
  {
   "cell_type": "code",
   "execution_count": 2,
   "id": "a6ca40cf-6cec-4b67-b4f1-b02b5eb55f90",
   "metadata": {},
   "outputs": [
    {
     "data": {
      "text/plain": [
       "2"
      ]
     },
     "execution_count": 2,
     "metadata": {},
     "output_type": "execute_result"
    }
   ],
   "source": [
    "#racunanje n-tog broja u fib nizu\n",
    "def fib_niz(n):\n",
    "    if n<=1:\n",
    "        return n\n",
    "    else:\n",
    "        return fib_niz(n-1)+fib_niz(n-2)\n",
    "fib_niz(3)"
   ]
  },
  {
   "cell_type": "code",
   "execution_count": 19,
   "id": "7006c917-9865-41ff-b9e2-0d039aacb14e",
   "metadata": {},
   "outputs": [
    {
     "data": {
      "text/plain": [
       "4"
      ]
     },
     "execution_count": 19,
     "metadata": {},
     "output_type": "execute_result"
    }
   ],
   "source": [
    "#prebrojati koliko clanova je vece od 15C\n",
    "\n",
    "def num_t(*n):\n",
    "    p=0\n",
    "    for i in n:\n",
    "        if i>15:\n",
    "            p=p+1\n",
    "    return p\n",
    "num_t(12,17,18,23,15,16,13,11)"
   ]
  },
  {
   "cell_type": "code",
   "execution_count": null,
   "id": "2b909072-e7b8-4bab-8d72-5e5df98c2e4b",
   "metadata": {},
   "outputs": [],
   "source": []
  }
 ],
 "metadata": {
  "kernelspec": {
   "display_name": "Python 3 (ipykernel)",
   "language": "python",
   "name": "python3"
  },
  "language_info": {
   "codemirror_mode": {
    "name": "ipython",
    "version": 3
   },
   "file_extension": ".py",
   "mimetype": "text/x-python",
   "name": "python",
   "nbconvert_exporter": "python",
   "pygments_lexer": "ipython3",
   "version": "3.9.12"
  }
 },
 "nbformat": 4,
 "nbformat_minor": 5
}
